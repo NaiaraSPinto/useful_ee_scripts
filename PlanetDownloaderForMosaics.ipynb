{
  "nbformat": 4,
  "nbformat_minor": 0,
  "metadata": {
    "colab": {
      "name": "PlanetDownloaderForMosaics.ipynb",
      "provenance": [],
      "collapsed_sections": [],
      "include_colab_link": true
    },
    "kernelspec": {
      "display_name": "Python 3",
      "name": "python3"
    }
  },
  "cells": [
    {
      "cell_type": "markdown",
      "metadata": {
        "id": "view-in-github",
        "colab_type": "text"
      },
      "source": [
        "<a href=\"https://colab.research.google.com/github/jdilger/useful_ee_scripts/blob/main/PlanetDownloaderForMosaics.ipynb\" target=\"_parent\"><img src=\"https://colab.research.google.com/assets/colab-badge.svg\" alt=\"Open In Colab\"/></a>"
      ]
    },
    {
      "cell_type": "code",
      "metadata": {
        "id": "ZwlICLg9c5X2"
      },
      "source": [
        "import json\n",
        "import requests\n",
        "from pprint import pprint"
      ],
      "execution_count": null,
      "outputs": []
    },
    {
      "cell_type": "code",
      "metadata": {
        "id": "TeI-rFMwfCjD"
      },
      "source": [
        "from google.colab import auth\n",
        "auth.authenticate_user()"
      ],
      "execution_count": null,
      "outputs": []
    },
    {
      "cell_type": "code",
      "metadata": {
        "id": "JEGU3KWrfJSr"
      },
      "source": [
        "import ee\n",
        "\n",
        "ee.Authenticate()\n",
        "ee.Initialize()"
      ],
      "execution_count": null,
      "outputs": []
    },
    {
      "cell_type": "code",
      "metadata": {
        "id": "GFC73sv1xtq6"
      },
      "source": [
        "API = 'key here'\n",
        "mosaics = !curl https://api.planet.com/basemaps/v1/mosaics?api_key=$API\n",
        "mosaic_jsons = json.loads(mosaics[0])['mosaics']\n",
        "print(mosaic_jsons[0])"
      ],
      "execution_count": null,
      "outputs": []
    },
    {
      "cell_type": "code",
      "metadata": {
        "id": "9GCuKQS__ri0"
      },
      "source": [
        "# check date to see which mosaic you want\n",
        "list_of_dates = list(map(lambda m: m['first_acquired'],mosaic_jsons))\n",
        "print(list(map(lambda m: m['first_acquired'],mosaic_jsons)))\n",
        "print(list_of_dates.index(\"2020-09-01T00:00:00.000Z\"))\n"
      ],
      "execution_count": null,
      "outputs": []
    },
    {
      "cell_type": "code",
      "metadata": {
        "id": "Lp4tpO-NAvMt"
      },
      "source": [
        "# selecting 2019-12-01T00:00:00.000Z @ position 8 \n",
        "index_select = \"2020-09-01T00:00:00.000Z\"\n",
        "moi = mosaic_jsons[list_of_dates.index(index_select)]\n",
        "pprint(moi)\n",
        "start_date = moi['first_acquired'][0:10]\n",
        "end_date = moi['last_acquired'][0:10]\n",
        "print(start_date, end_date)"
      ],
      "execution_count": null,
      "outputs": []
    },
    {
      "cell_type": "code",
      "metadata": {
        "id": "3xBf1iCRBKS1"
      },
      "source": [
        "# bbox TerraBio pilot site\n",
        "lx = -53.461751914154526\n",
        "ux = -50.961740478449897\n",
        "ly = -6.942135599911456\n",
        "uy = -5.442128738488679\n",
        "\n",
        "quads = moi['_links']['quads']\n",
        "iname = moi['name']\n",
        "print(quads,iname)\n",
        "\n",
        "quad_formatted = quads.replace('{lx}',str(lx))\\\n",
        "                      .replace('{ly}',str(ly))\\\n",
        "                      .replace('{ux}',str(ux))\\\n",
        "                      .replace('{uy}',str(uy))\n",
        "print(quad_formatted)"
      ],
      "execution_count": null,
      "outputs": []
    },
    {
      "cell_type": "code",
      "metadata": {
        "id": "h-qts7EMJ2jb"
      },
      "source": [
        "quad_fetch = requests.get(quad_formatted)\n",
        "quad_fetch = quad_fetch.json()\n",
        "pprint(quad_fetch['items'][0])\n",
        "\n",
        "images = []\n",
        "next = quad_formatted\n",
        "while next:\n",
        "  next_fetch = requests.get(next).json()\n",
        "  images.extend(next_fetch['items'])\n",
        "  # pprint(next_fetch['_links'])\n",
        "  try:\n",
        "    next = next_fetch['_links']['_next']\n",
        "  except Exception as e:\n",
        "    next = False\n",
        "\n",
        "pprint('firest image :',images[0])\n",
        "print('number of images :',len(images))"
      ],
      "execution_count": null,
      "outputs": []
    },
    {
      "cell_type": "code",
      "metadata": {
        "id": "FXvFB9NLeAPH"
      },
      "source": [
        "downloadurls = list(map(lambda quad: [quad['id'],quad['_links']['download']], images))\n",
        "downloadurls.sort()\n",
        "# downloadurls[0]\n",
        "# # check the number of images to download\n",
        "# print(len(downloadurls))\n",
        "# print(downloadurls[143])"
      ],
      "execution_count": null,
      "outputs": []
    },
    {
      "cell_type": "code",
      "metadata": {
        "id": "Hi3MSQRQYHnz"
      },
      "source": [
        "# manually created metadata for selected date\n",
        "coldict = {\n",
        "\n",
        "    'default' : {\n",
        "        'date_start' : str(start_date),\n",
        "        'date_end': str(end_date),\n",
        "        'cloud' : 'gs://gee-upload/',\n",
        "        'ee_dst':'projects/servir-amazonia/TerraBio/ImageCollections/Planet/'\n",
        "\n",
        "    }\n",
        "}\n",
        "choice = 'default'\n",
        "datestr = coldict[choice]['date_start']\n",
        "datestrend = coldict[choice]['date_end']\n",
        "# bandnames = 'blue,green,red,nir,alpha'"
      ],
      "execution_count": null,
      "outputs": []
    },
    {
      "cell_type": "code",
      "metadata": {
        "id": "-SubDXEEhNxE"
      },
      "source": [
        "# range 0 to length of iamges to download\n",
        "for i in range(0,len(downloadurls)):\n",
        "  url = downloadurls[i][1]\n",
        "  name = f\"{downloadurls[i][0]}-{datestr}\"\n",
        "\n",
        "  # download the image and pipe it to a google coud bcket\n",
        "  !wget {url} -O - | gsutil cp - {coldict['default']['cloud']}{datestr}-{datestrend}/{name}.tif\n",
        "  # print(f\"{coldict['default']['cloud']}{name}.tif\",datestr, datestrend)"
      ],
      "execution_count": null,
      "outputs": []
    }
  ]
}