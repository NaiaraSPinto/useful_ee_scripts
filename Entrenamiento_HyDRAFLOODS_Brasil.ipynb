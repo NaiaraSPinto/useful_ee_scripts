{
  "nbformat": 4,
  "nbformat_minor": 0,
  "metadata": {
    "colab": {
      "provenance": [],
      "toc_visible": true,
      "include_colab_link": true
    },
    "kernelspec": {
      "name": "python3",
      "display_name": "Python 3"
    },
    "language_info": {
      "name": "python"
    },
    "gpuClass": "standard"
  },
  "cells": [
    {
      "cell_type": "markdown",
      "metadata": {
        "id": "view-in-github",
        "colab_type": "text"
      },
      "source": [
        "<a href=\"https://colab.research.google.com/github/NaiaraSPinto/useful_ee_scripts/blob/main/Entrenamiento_HyDRAFLOODS_Brasil.ipynb\" target=\"_parent\"><img src=\"https://colab.research.google.com/assets/colab-badge.svg\" alt=\"Open In Colab\"/></a>"
      ]
    },
    {
      "cell_type": "markdown",
      "metadata": {
        "id": "r0ptxc2zMfYE"
      },
      "source": [
        "# Flood mapping using HYDRAFloods / Mapeo de inundaciones usando HYDRAFloods\n",
        "\n",
        "In this notebook we will see a greater use of HYDRAFloods for creating flood maps. We will focus on the use of Sentinel 1 SAR data to create flood maps for a use case of events in Peru, Ecuador and Peru. While we focus on SAR for this exercise, the concepts extend to optical data.\n",
        "\n",
        "HYDRAFloods Python package can be found at: https://servir-mekong.github.io/hydra-floods/"
      ]
    },
    {
      "cell_type": "markdown",
      "source": [
        "\n",
        "En este cuaderno veremos un mayor uso de HYDRAFloods para crear mapas de inundación. Nos centraremos en el uso de los datos SAR de Sentinel 1 para crear mapas de inundaciones para eventos ocurridos en Peru, Ecuador y Brasil. Si bien nos enfocamos en SAR para este ejercicio, los conceptos se extienden a los datos ópticos.\n",
        "\n",
        "El paquete Python de HYDRAFloods se puede encontrar en: https://servir-mekong.github.io/hydra-floods/"
      ],
      "metadata": {
        "id": "UcCaktIkNbJ7"
      }
    },
    {
      "cell_type": "markdown",
      "metadata": {
        "id": "mkFfcO7VXAz2"
      },
      "source": [
        "## Setup\n",
        "\n",
        "Before running the notebook, mount your Google Drive in the notebook. We will use Google Drive to securely store the Earth Engine credentials to be used in other notebooks. This will allow us to avoid authentication every time, saving time throughout the training."
      ]
    },
    {
      "cell_type": "markdown",
      "metadata": {
        "id": "1uTyyjjYYT2X"
      },
      "source": [
        "Antes de ejecutar el cuaderno, monte su Google Drive en el cuaderno. Utilizaremos Google Drive para almacenar de forma segura las credenciales de Earth Engine para utilizarlas en otros cuadernos. Esto nos permitirá evitar la autenticación cada vez, ahorrando tiempo a lo largo del entrenamiento."
      ]
    },
    {
      "cell_type": "code",
      "metadata": {
        "id": "ziceyoy7TcgY",
        "colab": {
          "base_uri": "https://localhost:8080/"
        },
        "outputId": "d226c33d-46df-4135-9ce7-2c2587c2e30f"
      },
      "source": [
        "# mount the google drive so that we can save credentials\n",
        "from google.colab import drive\n",
        "drive.mount('/content/drive')"
      ],
      "execution_count": 1,
      "outputs": [
        {
          "output_type": "stream",
          "name": "stdout",
          "text": [
            "Mounted at /content/drive\n"
          ]
        }
      ]
    },
    {
      "cell_type": "markdown",
      "metadata": {
        "id": "fbaUimiCXOe7"
      },
      "source": [
        "Now we will install the `hydrafloods` package for surface water mapping and `geemap` for interactive viewing results from Earth Engine.\n",
        "\n"
      ]
    },
    {
      "cell_type": "markdown",
      "metadata": {
        "id": "s5pXFNXjYIMf"
      },
      "source": [
        "\n",
        "Ahora instalaremos el paquete `hydrafloods` para el mapeo de aguas superficiales y `geemap` para la visualización interactiva de los resultados desde Earth Engine.\n",
        "\n"
      ]
    },
    {
      "cell_type": "code",
      "metadata": {
        "id": "KJlHZoltToUp",
        "colab": {
          "base_uri": "https://localhost:8080/"
        },
        "outputId": "473b932f-ede5-4360-d892-486f05ca5066"
      },
      "source": [
        "# install the packages needed\n",
        "!pip install hydrafloods geemap"
      ],
      "execution_count": 2,
      "outputs": [
        {
          "output_type": "stream",
          "name": "stdout",
          "text": [
            "Collecting hydrafloods\n",
            "  Downloading hydrafloods-2023.10.14-py3-none-any.whl (86 kB)\n",
            "\u001b[?25l     \u001b[90m━━━━━━━━━━━━━━━━━━━━━━━━━━━━━━━━━━━━━━━━\u001b[0m \u001b[32m0.0/86.6 kB\u001b[0m \u001b[31m?\u001b[0m eta \u001b[36m-:--:--\u001b[0m\r\u001b[2K     \u001b[90m━━━━━━━━━━━━━━━━━━━━━━━━━━━━━━━━━━━━━━━━\u001b[0m \u001b[32m86.6/86.6 kB\u001b[0m \u001b[31m2.4 MB/s\u001b[0m eta \u001b[36m0:00:00\u001b[0m\n",
            "\u001b[?25hRequirement already satisfied: geemap in /usr/local/lib/python3.10/dist-packages (0.28.2)\n",
            "Collecting simplecmr (from hydrafloods)\n",
            "  Downloading simplecmr-0.0.1-py3-none-any.whl (6.9 kB)\n",
            "Requirement already satisfied: earthengine-api in /usr/local/lib/python3.10/dist-packages (from hydrafloods) (0.1.377)\n",
            "Requirement already satisfied: gcsfs in /usr/local/lib/python3.10/dist-packages (from hydrafloods) (2023.6.0)\n",
            "Collecting fire (from hydrafloods)\n",
            "  Downloading fire-0.5.0.tar.gz (88 kB)\n",
            "\u001b[2K     \u001b[90m━━━━━━━━━━━━━━━━━━━━━━━━━━━━━━━━━━━━━━━━\u001b[0m \u001b[32m88.3/88.3 kB\u001b[0m \u001b[31m7.4 MB/s\u001b[0m eta \u001b[36m0:00:00\u001b[0m\n",
            "\u001b[?25h  Preparing metadata (setup.py) ... \u001b[?25l\u001b[?25hdone\n",
            "Collecting pipetools (from hydrafloods)\n",
            "  Downloading pipetools-1.1.0.tar.gz (16 kB)\n",
            "  Preparing metadata (setup.py) ... \u001b[?25l\u001b[?25hdone\n",
            "Requirement already satisfied: bqplot in /usr/local/lib/python3.10/dist-packages (from geemap) (0.12.42)\n",
            "Requirement already satisfied: colour in /usr/local/lib/python3.10/dist-packages (from geemap) (0.1.5)\n",
            "Requirement already satisfied: eerepr>=0.0.4 in /usr/local/lib/python3.10/dist-packages (from geemap) (0.0.4)\n",
            "Requirement already satisfied: folium>=0.13.0 in /usr/local/lib/python3.10/dist-packages (from geemap) (0.14.0)\n",
            "Requirement already satisfied: geocoder in /usr/local/lib/python3.10/dist-packages (from geemap) (1.38.1)\n",
            "Requirement already satisfied: ipyevents in /usr/local/lib/python3.10/dist-packages (from geemap) (2.0.2)\n",
            "Requirement already satisfied: ipyfilechooser>=0.6.0 in /usr/local/lib/python3.10/dist-packages (from geemap) (0.6.0)\n",
            "Requirement already satisfied: ipyleaflet>=0.17.0 in /usr/local/lib/python3.10/dist-packages (from geemap) (0.17.4)\n",
            "Requirement already satisfied: ipytree in /usr/local/lib/python3.10/dist-packages (from geemap) (0.2.2)\n",
            "Requirement already satisfied: matplotlib in /usr/local/lib/python3.10/dist-packages (from geemap) (3.7.1)\n",
            "Requirement already satisfied: numpy in /usr/local/lib/python3.10/dist-packages (from geemap) (1.23.5)\n",
            "Requirement already satisfied: pandas in /usr/local/lib/python3.10/dist-packages (from geemap) (1.5.3)\n",
            "Requirement already satisfied: plotly in /usr/local/lib/python3.10/dist-packages (from geemap) (5.15.0)\n",
            "Requirement already satisfied: pyperclip in /usr/local/lib/python3.10/dist-packages (from geemap) (1.8.2)\n",
            "Requirement already satisfied: pyshp>=2.1.3 in /usr/local/lib/python3.10/dist-packages (from geemap) (2.3.1)\n",
            "Requirement already satisfied: python-box in /usr/local/lib/python3.10/dist-packages (from geemap) (7.1.1)\n",
            "Requirement already satisfied: scooby in /usr/local/lib/python3.10/dist-packages (from geemap) (0.9.2)\n",
            "Requirement already satisfied: google-cloud-storage in /usr/local/lib/python3.10/dist-packages (from earthengine-api->hydrafloods) (2.8.0)\n",
            "Requirement already satisfied: google-api-python-client>=1.12.1 in /usr/local/lib/python3.10/dist-packages (from earthengine-api->hydrafloods) (2.84.0)\n",
            "Requirement already satisfied: google-auth>=1.4.1 in /usr/local/lib/python3.10/dist-packages (from earthengine-api->hydrafloods) (2.17.3)\n",
            "Requirement already satisfied: google-auth-httplib2>=0.0.3 in /usr/local/lib/python3.10/dist-packages (from earthengine-api->hydrafloods) (0.1.1)\n",
            "Requirement already satisfied: httplib2<1dev,>=0.9.2 in /usr/local/lib/python3.10/dist-packages (from earthengine-api->hydrafloods) (0.22.0)\n",
            "Requirement already satisfied: requests in /usr/local/lib/python3.10/dist-packages (from earthengine-api->hydrafloods) (2.31.0)\n",
            "Requirement already satisfied: branca>=0.6.0 in /usr/local/lib/python3.10/dist-packages (from folium>=0.13.0->geemap) (0.7.0)\n",
            "Requirement already satisfied: jinja2>=2.9 in /usr/local/lib/python3.10/dist-packages (from folium>=0.13.0->geemap) (3.1.2)\n",
            "Requirement already satisfied: ipywidgets in /usr/local/lib/python3.10/dist-packages (from ipyfilechooser>=0.6.0->geemap) (7.7.1)\n",
            "Requirement already satisfied: traittypes<3,>=0.2.1 in /usr/local/lib/python3.10/dist-packages (from ipyleaflet>=0.17.0->geemap) (0.2.1)\n",
            "Requirement already satisfied: xyzservices>=2021.8.1 in /usr/local/lib/python3.10/dist-packages (from ipyleaflet>=0.17.0->geemap) (2023.10.1)\n",
            "Requirement already satisfied: traitlets>=4.3.0 in /usr/local/lib/python3.10/dist-packages (from bqplot->geemap) (5.7.1)\n",
            "Requirement already satisfied: python-dateutil>=2.8.1 in /usr/local/lib/python3.10/dist-packages (from pandas->geemap) (2.8.2)\n",
            "Requirement already satisfied: pytz>=2020.1 in /usr/local/lib/python3.10/dist-packages (from pandas->geemap) (2023.3.post1)\n",
            "Requirement already satisfied: six in /usr/local/lib/python3.10/dist-packages (from fire->hydrafloods) (1.16.0)\n",
            "Requirement already satisfied: termcolor in /usr/local/lib/python3.10/dist-packages (from fire->hydrafloods) (2.3.0)\n",
            "Requirement already satisfied: aiohttp!=4.0.0a0,!=4.0.0a1 in /usr/local/lib/python3.10/dist-packages (from gcsfs->hydrafloods) (3.8.6)\n",
            "Requirement already satisfied: decorator>4.1.2 in /usr/local/lib/python3.10/dist-packages (from gcsfs->hydrafloods) (4.4.2)\n",
            "Requirement already satisfied: fsspec==2023.6.0 in /usr/local/lib/python3.10/dist-packages (from gcsfs->hydrafloods) (2023.6.0)\n",
            "Requirement already satisfied: google-auth-oauthlib in /usr/local/lib/python3.10/dist-packages (from gcsfs->hydrafloods) (1.0.0)\n",
            "Requirement already satisfied: click in /usr/local/lib/python3.10/dist-packages (from geocoder->geemap) (8.1.7)\n",
            "Requirement already satisfied: future in /usr/local/lib/python3.10/dist-packages (from geocoder->geemap) (0.18.3)\n",
            "Requirement already satisfied: ratelim in /usr/local/lib/python3.10/dist-packages (from geocoder->geemap) (0.1.6)\n",
            "Requirement already satisfied: contourpy>=1.0.1 in /usr/local/lib/python3.10/dist-packages (from matplotlib->geemap) (1.2.0)\n",
            "Requirement already satisfied: cycler>=0.10 in /usr/local/lib/python3.10/dist-packages (from matplotlib->geemap) (0.12.1)\n",
            "Requirement already satisfied: fonttools>=4.22.0 in /usr/local/lib/python3.10/dist-packages (from matplotlib->geemap) (4.44.0)\n",
            "Requirement already satisfied: kiwisolver>=1.0.1 in /usr/local/lib/python3.10/dist-packages (from matplotlib->geemap) (1.4.5)\n",
            "Requirement already satisfied: packaging>=20.0 in /usr/local/lib/python3.10/dist-packages (from matplotlib->geemap) (23.2)\n",
            "Requirement already satisfied: pillow>=6.2.0 in /usr/local/lib/python3.10/dist-packages (from matplotlib->geemap) (9.4.0)\n",
            "Requirement already satisfied: pyparsing>=2.3.1 in /usr/local/lib/python3.10/dist-packages (from matplotlib->geemap) (3.1.1)\n",
            "Requirement already satisfied: setuptools>=0.6b1 in /usr/local/lib/python3.10/dist-packages (from pipetools->hydrafloods) (67.7.2)\n",
            "Requirement already satisfied: tenacity>=6.2.0 in /usr/local/lib/python3.10/dist-packages (from plotly->geemap) (8.2.3)\n",
            "Collecting requests-cache (from simplecmr->hydrafloods)\n",
            "  Downloading requests_cache-1.1.0-py3-none-any.whl (60 kB)\n",
            "\u001b[2K     \u001b[90m━━━━━━━━━━━━━━━━━━━━━━━━━━━━━━━━━━━━━━━━\u001b[0m \u001b[32m60.1/60.1 kB\u001b[0m \u001b[31m8.4 MB/s\u001b[0m eta \u001b[36m0:00:00\u001b[0m\n",
            "\u001b[?25hRequirement already satisfied: attrs>=17.3.0 in /usr/local/lib/python3.10/dist-packages (from aiohttp!=4.0.0a0,!=4.0.0a1->gcsfs->hydrafloods) (23.1.0)\n",
            "Requirement already satisfied: charset-normalizer<4.0,>=2.0 in /usr/local/lib/python3.10/dist-packages (from aiohttp!=4.0.0a0,!=4.0.0a1->gcsfs->hydrafloods) (3.3.2)\n",
            "Requirement already satisfied: multidict<7.0,>=4.5 in /usr/local/lib/python3.10/dist-packages (from aiohttp!=4.0.0a0,!=4.0.0a1->gcsfs->hydrafloods) (6.0.4)\n",
            "Requirement already satisfied: async-timeout<5.0,>=4.0.0a3 in /usr/local/lib/python3.10/dist-packages (from aiohttp!=4.0.0a0,!=4.0.0a1->gcsfs->hydrafloods) (4.0.3)\n",
            "Requirement already satisfied: yarl<2.0,>=1.0 in /usr/local/lib/python3.10/dist-packages (from aiohttp!=4.0.0a0,!=4.0.0a1->gcsfs->hydrafloods) (1.9.2)\n",
            "Requirement already satisfied: frozenlist>=1.1.1 in /usr/local/lib/python3.10/dist-packages (from aiohttp!=4.0.0a0,!=4.0.0a1->gcsfs->hydrafloods) (1.4.0)\n",
            "Requirement already satisfied: aiosignal>=1.1.2 in /usr/local/lib/python3.10/dist-packages (from aiohttp!=4.0.0a0,!=4.0.0a1->gcsfs->hydrafloods) (1.3.1)\n",
            "Requirement already satisfied: google-api-core!=2.0.*,!=2.1.*,!=2.2.*,!=2.3.0,<3.0.0dev,>=1.31.5 in /usr/local/lib/python3.10/dist-packages (from google-api-python-client>=1.12.1->earthengine-api->hydrafloods) (2.11.1)\n",
            "Requirement already satisfied: uritemplate<5,>=3.0.1 in /usr/local/lib/python3.10/dist-packages (from google-api-python-client>=1.12.1->earthengine-api->hydrafloods) (4.1.1)\n",
            "Requirement already satisfied: cachetools<6.0,>=2.0.0 in /usr/local/lib/python3.10/dist-packages (from google-auth>=1.4.1->earthengine-api->hydrafloods) (5.3.2)\n",
            "Requirement already satisfied: pyasn1-modules>=0.2.1 in /usr/local/lib/python3.10/dist-packages (from google-auth>=1.4.1->earthengine-api->hydrafloods) (0.3.0)\n",
            "Requirement already satisfied: rsa<5,>=3.1.4 in /usr/local/lib/python3.10/dist-packages (from google-auth>=1.4.1->earthengine-api->hydrafloods) (4.9)\n",
            "Requirement already satisfied: ipykernel>=4.5.1 in /usr/local/lib/python3.10/dist-packages (from ipywidgets->ipyfilechooser>=0.6.0->geemap) (5.5.6)\n",
            "Requirement already satisfied: ipython-genutils~=0.2.0 in /usr/local/lib/python3.10/dist-packages (from ipywidgets->ipyfilechooser>=0.6.0->geemap) (0.2.0)\n",
            "Requirement already satisfied: widgetsnbextension~=3.6.0 in /usr/local/lib/python3.10/dist-packages (from ipywidgets->ipyfilechooser>=0.6.0->geemap) (3.6.6)\n",
            "Requirement already satisfied: ipython>=4.0.0 in /usr/local/lib/python3.10/dist-packages (from ipywidgets->ipyfilechooser>=0.6.0->geemap) (7.34.0)\n",
            "Requirement already satisfied: jupyterlab-widgets>=1.0.0 in /usr/local/lib/python3.10/dist-packages (from ipywidgets->ipyfilechooser>=0.6.0->geemap) (3.0.9)\n",
            "Requirement already satisfied: MarkupSafe>=2.0 in /usr/local/lib/python3.10/dist-packages (from jinja2>=2.9->folium>=0.13.0->geemap) (2.1.3)\n",
            "Requirement already satisfied: requests-oauthlib>=0.7.0 in /usr/local/lib/python3.10/dist-packages (from google-auth-oauthlib->gcsfs->hydrafloods) (1.3.1)\n",
            "Requirement already satisfied: google-cloud-core<3.0dev,>=2.3.0 in /usr/local/lib/python3.10/dist-packages (from google-cloud-storage->earthengine-api->hydrafloods) (2.3.3)\n",
            "Requirement already satisfied: google-resumable-media>=2.3.2 in /usr/local/lib/python3.10/dist-packages (from google-cloud-storage->earthengine-api->hydrafloods) (2.6.0)\n",
            "Requirement already satisfied: idna<4,>=2.5 in /usr/local/lib/python3.10/dist-packages (from requests->earthengine-api->hydrafloods) (3.4)\n",
            "Requirement already satisfied: urllib3<3,>=1.21.1 in /usr/local/lib/python3.10/dist-packages (from requests->earthengine-api->hydrafloods) (2.0.7)\n",
            "Requirement already satisfied: certifi>=2017.4.17 in /usr/local/lib/python3.10/dist-packages (from requests->earthengine-api->hydrafloods) (2023.7.22)\n",
            "Collecting cattrs>=22.2 (from requests-cache->simplecmr->hydrafloods)\n",
            "  Downloading cattrs-23.1.2-py3-none-any.whl (50 kB)\n",
            "\u001b[2K     \u001b[90m━━━━━━━━━━━━━━━━━━━━━━━━━━━━━━━━━━━━━━━━\u001b[0m \u001b[32m50.8/50.8 kB\u001b[0m \u001b[31m7.4 MB/s\u001b[0m eta \u001b[36m0:00:00\u001b[0m\n",
            "\u001b[?25hRequirement already satisfied: platformdirs>=2.5 in /usr/local/lib/python3.10/dist-packages (from requests-cache->simplecmr->hydrafloods) (3.11.0)\n",
            "Collecting url-normalize>=1.4 (from requests-cache->simplecmr->hydrafloods)\n",
            "  Downloading url_normalize-1.4.3-py2.py3-none-any.whl (6.8 kB)\n",
            "Requirement already satisfied: exceptiongroup in /usr/local/lib/python3.10/dist-packages (from cattrs>=22.2->requests-cache->simplecmr->hydrafloods) (1.1.3)\n",
            "Requirement already satisfied: typing_extensions>=4.1.0 in /usr/local/lib/python3.10/dist-packages (from cattrs>=22.2->requests-cache->simplecmr->hydrafloods) (4.5.0)\n",
            "Requirement already satisfied: googleapis-common-protos<2.0.dev0,>=1.56.2 in /usr/local/lib/python3.10/dist-packages (from google-api-core!=2.0.*,!=2.1.*,!=2.2.*,!=2.3.0,<3.0.0dev,>=1.31.5->google-api-python-client>=1.12.1->earthengine-api->hydrafloods) (1.61.0)\n",
            "Requirement already satisfied: protobuf!=3.20.0,!=3.20.1,!=4.21.0,!=4.21.1,!=4.21.2,!=4.21.3,!=4.21.4,!=4.21.5,<5.0.0.dev0,>=3.19.5 in /usr/local/lib/python3.10/dist-packages (from google-api-core!=2.0.*,!=2.1.*,!=2.2.*,!=2.3.0,<3.0.0dev,>=1.31.5->google-api-python-client>=1.12.1->earthengine-api->hydrafloods) (3.20.3)\n",
            "Requirement already satisfied: google-crc32c<2.0dev,>=1.0 in /usr/local/lib/python3.10/dist-packages (from google-resumable-media>=2.3.2->google-cloud-storage->earthengine-api->hydrafloods) (1.5.0)\n",
            "Requirement already satisfied: jupyter-client in /usr/local/lib/python3.10/dist-packages (from ipykernel>=4.5.1->ipywidgets->ipyfilechooser>=0.6.0->geemap) (6.1.12)\n",
            "Requirement already satisfied: tornado>=4.2 in /usr/local/lib/python3.10/dist-packages (from ipykernel>=4.5.1->ipywidgets->ipyfilechooser>=0.6.0->geemap) (6.3.2)\n",
            "Collecting jedi>=0.16 (from ipython>=4.0.0->ipywidgets->ipyfilechooser>=0.6.0->geemap)\n",
            "  Downloading jedi-0.19.1-py2.py3-none-any.whl (1.6 MB)\n",
            "\u001b[2K     \u001b[90m━━━━━━━━━━━━━━━━━━━━━━━━━━━━━━━━━━━━━━━━\u001b[0m \u001b[32m1.6/1.6 MB\u001b[0m \u001b[31m12.3 MB/s\u001b[0m eta \u001b[36m0:00:00\u001b[0m\n",
            "\u001b[?25hRequirement already satisfied: pickleshare in /usr/local/lib/python3.10/dist-packages (from ipython>=4.0.0->ipywidgets->ipyfilechooser>=0.6.0->geemap) (0.7.5)\n",
            "Requirement already satisfied: prompt-toolkit!=3.0.0,!=3.0.1,<3.1.0,>=2.0.0 in /usr/local/lib/python3.10/dist-packages (from ipython>=4.0.0->ipywidgets->ipyfilechooser>=0.6.0->geemap) (3.0.39)\n",
            "Requirement already satisfied: pygments in /usr/local/lib/python3.10/dist-packages (from ipython>=4.0.0->ipywidgets->ipyfilechooser>=0.6.0->geemap) (2.16.1)\n",
            "Requirement already satisfied: backcall in /usr/local/lib/python3.10/dist-packages (from ipython>=4.0.0->ipywidgets->ipyfilechooser>=0.6.0->geemap) (0.2.0)\n",
            "Requirement already satisfied: matplotlib-inline in /usr/local/lib/python3.10/dist-packages (from ipython>=4.0.0->ipywidgets->ipyfilechooser>=0.6.0->geemap) (0.1.6)\n",
            "Requirement already satisfied: pexpect>4.3 in /usr/local/lib/python3.10/dist-packages (from ipython>=4.0.0->ipywidgets->ipyfilechooser>=0.6.0->geemap) (4.8.0)\n",
            "Requirement already satisfied: pyasn1<0.6.0,>=0.4.6 in /usr/local/lib/python3.10/dist-packages (from pyasn1-modules>=0.2.1->google-auth>=1.4.1->earthengine-api->hydrafloods) (0.5.0)\n",
            "Requirement already satisfied: oauthlib>=3.0.0 in /usr/local/lib/python3.10/dist-packages (from requests-oauthlib>=0.7.0->google-auth-oauthlib->gcsfs->hydrafloods) (3.2.2)\n",
            "Requirement already satisfied: notebook>=4.4.1 in /usr/local/lib/python3.10/dist-packages (from widgetsnbextension~=3.6.0->ipywidgets->ipyfilechooser>=0.6.0->geemap) (6.5.5)\n",
            "Requirement already satisfied: parso<0.9.0,>=0.8.3 in /usr/local/lib/python3.10/dist-packages (from jedi>=0.16->ipython>=4.0.0->ipywidgets->ipyfilechooser>=0.6.0->geemap) (0.8.3)\n",
            "Requirement already satisfied: pyzmq<25,>=17 in /usr/local/lib/python3.10/dist-packages (from notebook>=4.4.1->widgetsnbextension~=3.6.0->ipywidgets->ipyfilechooser>=0.6.0->geemap) (23.2.1)\n",
            "Requirement already satisfied: argon2-cffi in /usr/local/lib/python3.10/dist-packages (from notebook>=4.4.1->widgetsnbextension~=3.6.0->ipywidgets->ipyfilechooser>=0.6.0->geemap) (23.1.0)\n",
            "Requirement already satisfied: jupyter-core>=4.6.1 in /usr/local/lib/python3.10/dist-packages (from notebook>=4.4.1->widgetsnbextension~=3.6.0->ipywidgets->ipyfilechooser>=0.6.0->geemap) (5.5.0)\n",
            "Requirement already satisfied: nbformat in /usr/local/lib/python3.10/dist-packages (from notebook>=4.4.1->widgetsnbextension~=3.6.0->ipywidgets->ipyfilechooser>=0.6.0->geemap) (5.9.2)\n",
            "Requirement already satisfied: nbconvert>=5 in /usr/local/lib/python3.10/dist-packages (from notebook>=4.4.1->widgetsnbextension~=3.6.0->ipywidgets->ipyfilechooser>=0.6.0->geemap) (6.5.4)\n",
            "Requirement already satisfied: nest-asyncio>=1.5 in /usr/local/lib/python3.10/dist-packages (from notebook>=4.4.1->widgetsnbextension~=3.6.0->ipywidgets->ipyfilechooser>=0.6.0->geemap) (1.5.8)\n",
            "Requirement already satisfied: Send2Trash>=1.8.0 in /usr/local/lib/python3.10/dist-packages (from notebook>=4.4.1->widgetsnbextension~=3.6.0->ipywidgets->ipyfilechooser>=0.6.0->geemap) (1.8.2)\n",
            "Requirement already satisfied: terminado>=0.8.3 in /usr/local/lib/python3.10/dist-packages (from notebook>=4.4.1->widgetsnbextension~=3.6.0->ipywidgets->ipyfilechooser>=0.6.0->geemap) (0.17.1)\n",
            "Requirement already satisfied: prometheus-client in /usr/local/lib/python3.10/dist-packages (from notebook>=4.4.1->widgetsnbextension~=3.6.0->ipywidgets->ipyfilechooser>=0.6.0->geemap) (0.18.0)\n",
            "Requirement already satisfied: nbclassic>=0.4.7 in /usr/local/lib/python3.10/dist-packages (from notebook>=4.4.1->widgetsnbextension~=3.6.0->ipywidgets->ipyfilechooser>=0.6.0->geemap) (1.0.0)\n",
            "Requirement already satisfied: ptyprocess>=0.5 in /usr/local/lib/python3.10/dist-packages (from pexpect>4.3->ipython>=4.0.0->ipywidgets->ipyfilechooser>=0.6.0->geemap) (0.7.0)\n",
            "Requirement already satisfied: wcwidth in /usr/local/lib/python3.10/dist-packages (from prompt-toolkit!=3.0.0,!=3.0.1,<3.1.0,>=2.0.0->ipython>=4.0.0->ipywidgets->ipyfilechooser>=0.6.0->geemap) (0.2.9)\n",
            "Requirement already satisfied: jupyter-server>=1.8 in /usr/local/lib/python3.10/dist-packages (from nbclassic>=0.4.7->notebook>=4.4.1->widgetsnbextension~=3.6.0->ipywidgets->ipyfilechooser>=0.6.0->geemap) (1.24.0)\n",
            "Requirement already satisfied: notebook-shim>=0.2.3 in /usr/local/lib/python3.10/dist-packages (from nbclassic>=0.4.7->notebook>=4.4.1->widgetsnbextension~=3.6.0->ipywidgets->ipyfilechooser>=0.6.0->geemap) (0.2.3)\n",
            "Requirement already satisfied: lxml in /usr/local/lib/python3.10/dist-packages (from nbconvert>=5->notebook>=4.4.1->widgetsnbextension~=3.6.0->ipywidgets->ipyfilechooser>=0.6.0->geemap) (4.9.3)\n",
            "Requirement already satisfied: beautifulsoup4 in /usr/local/lib/python3.10/dist-packages (from nbconvert>=5->notebook>=4.4.1->widgetsnbextension~=3.6.0->ipywidgets->ipyfilechooser>=0.6.0->geemap) (4.11.2)\n",
            "Requirement already satisfied: bleach in /usr/local/lib/python3.10/dist-packages (from nbconvert>=5->notebook>=4.4.1->widgetsnbextension~=3.6.0->ipywidgets->ipyfilechooser>=0.6.0->geemap) (6.1.0)\n",
            "Requirement already satisfied: defusedxml in /usr/local/lib/python3.10/dist-packages (from nbconvert>=5->notebook>=4.4.1->widgetsnbextension~=3.6.0->ipywidgets->ipyfilechooser>=0.6.0->geemap) (0.7.1)\n",
            "Requirement already satisfied: entrypoints>=0.2.2 in /usr/local/lib/python3.10/dist-packages (from nbconvert>=5->notebook>=4.4.1->widgetsnbextension~=3.6.0->ipywidgets->ipyfilechooser>=0.6.0->geemap) (0.4)\n",
            "Requirement already satisfied: jupyterlab-pygments in /usr/local/lib/python3.10/dist-packages (from nbconvert>=5->notebook>=4.4.1->widgetsnbextension~=3.6.0->ipywidgets->ipyfilechooser>=0.6.0->geemap) (0.2.2)\n",
            "Requirement already satisfied: mistune<2,>=0.8.1 in /usr/local/lib/python3.10/dist-packages (from nbconvert>=5->notebook>=4.4.1->widgetsnbextension~=3.6.0->ipywidgets->ipyfilechooser>=0.6.0->geemap) (0.8.4)\n",
            "Requirement already satisfied: nbclient>=0.5.0 in /usr/local/lib/python3.10/dist-packages (from nbconvert>=5->notebook>=4.4.1->widgetsnbextension~=3.6.0->ipywidgets->ipyfilechooser>=0.6.0->geemap) (0.9.0)\n",
            "Requirement already satisfied: pandocfilters>=1.4.1 in /usr/local/lib/python3.10/dist-packages (from nbconvert>=5->notebook>=4.4.1->widgetsnbextension~=3.6.0->ipywidgets->ipyfilechooser>=0.6.0->geemap) (1.5.0)\n",
            "Requirement already satisfied: tinycss2 in /usr/local/lib/python3.10/dist-packages (from nbconvert>=5->notebook>=4.4.1->widgetsnbextension~=3.6.0->ipywidgets->ipyfilechooser>=0.6.0->geemap) (1.2.1)\n",
            "Requirement already satisfied: fastjsonschema in /usr/local/lib/python3.10/dist-packages (from nbformat->notebook>=4.4.1->widgetsnbextension~=3.6.0->ipywidgets->ipyfilechooser>=0.6.0->geemap) (2.18.1)\n",
            "Requirement already satisfied: jsonschema>=2.6 in /usr/local/lib/python3.10/dist-packages (from nbformat->notebook>=4.4.1->widgetsnbextension~=3.6.0->ipywidgets->ipyfilechooser>=0.6.0->geemap) (4.19.2)\n",
            "Requirement already satisfied: argon2-cffi-bindings in /usr/local/lib/python3.10/dist-packages (from argon2-cffi->notebook>=4.4.1->widgetsnbextension~=3.6.0->ipywidgets->ipyfilechooser>=0.6.0->geemap) (21.2.0)\n",
            "Requirement already satisfied: jsonschema-specifications>=2023.03.6 in /usr/local/lib/python3.10/dist-packages (from jsonschema>=2.6->nbformat->notebook>=4.4.1->widgetsnbextension~=3.6.0->ipywidgets->ipyfilechooser>=0.6.0->geemap) (2023.7.1)\n",
            "Requirement already satisfied: referencing>=0.28.4 in /usr/local/lib/python3.10/dist-packages (from jsonschema>=2.6->nbformat->notebook>=4.4.1->widgetsnbextension~=3.6.0->ipywidgets->ipyfilechooser>=0.6.0->geemap) (0.30.2)\n",
            "Requirement already satisfied: rpds-py>=0.7.1 in /usr/local/lib/python3.10/dist-packages (from jsonschema>=2.6->nbformat->notebook>=4.4.1->widgetsnbextension~=3.6.0->ipywidgets->ipyfilechooser>=0.6.0->geemap) (0.12.0)\n",
            "Requirement already satisfied: anyio<4,>=3.1.0 in /usr/local/lib/python3.10/dist-packages (from jupyter-server>=1.8->nbclassic>=0.4.7->notebook>=4.4.1->widgetsnbextension~=3.6.0->ipywidgets->ipyfilechooser>=0.6.0->geemap) (3.7.1)\n",
            "Requirement already satisfied: websocket-client in /usr/local/lib/python3.10/dist-packages (from jupyter-server>=1.8->nbclassic>=0.4.7->notebook>=4.4.1->widgetsnbextension~=3.6.0->ipywidgets->ipyfilechooser>=0.6.0->geemap) (1.6.4)\n",
            "Requirement already satisfied: cffi>=1.0.1 in /usr/local/lib/python3.10/dist-packages (from argon2-cffi-bindings->argon2-cffi->notebook>=4.4.1->widgetsnbextension~=3.6.0->ipywidgets->ipyfilechooser>=0.6.0->geemap) (1.16.0)\n",
            "Requirement already satisfied: soupsieve>1.2 in /usr/local/lib/python3.10/dist-packages (from beautifulsoup4->nbconvert>=5->notebook>=4.4.1->widgetsnbextension~=3.6.0->ipywidgets->ipyfilechooser>=0.6.0->geemap) (2.5)\n",
            "Requirement already satisfied: webencodings in /usr/local/lib/python3.10/dist-packages (from bleach->nbconvert>=5->notebook>=4.4.1->widgetsnbextension~=3.6.0->ipywidgets->ipyfilechooser>=0.6.0->geemap) (0.5.1)\n",
            "Requirement already satisfied: sniffio>=1.1 in /usr/local/lib/python3.10/dist-packages (from anyio<4,>=3.1.0->jupyter-server>=1.8->nbclassic>=0.4.7->notebook>=4.4.1->widgetsnbextension~=3.6.0->ipywidgets->ipyfilechooser>=0.6.0->geemap) (1.3.0)\n",
            "Requirement already satisfied: pycparser in /usr/local/lib/python3.10/dist-packages (from cffi>=1.0.1->argon2-cffi-bindings->argon2-cffi->notebook>=4.4.1->widgetsnbextension~=3.6.0->ipywidgets->ipyfilechooser>=0.6.0->geemap) (2.21)\n",
            "Building wheels for collected packages: fire, pipetools\n",
            "  Building wheel for fire (setup.py) ... \u001b[?25l\u001b[?25hdone\n",
            "  Created wheel for fire: filename=fire-0.5.0-py2.py3-none-any.whl size=116933 sha256=1c676363063ed27aab643771946064acef97195324804d47a24c5ba9c2787380\n",
            "  Stored in directory: /root/.cache/pip/wheels/90/d4/f7/9404e5db0116bd4d43e5666eaa3e70ab53723e1e3ea40c9a95\n",
            "  Building wheel for pipetools (setup.py) ... \u001b[?25l\u001b[?25hdone\n",
            "  Created wheel for pipetools: filename=pipetools-1.1.0-py3-none-any.whl size=13602 sha256=1cf2cee82b5a22ad6e0eb03eb9cb141f94bf1c7baff8189f8fda28107cbf1923\n",
            "  Stored in directory: /root/.cache/pip/wheels/3e/66/b3/357ae471d72e8b2fabf98f8395730c146e15c2be70c4c8c361\n",
            "Successfully built fire pipetools\n",
            "Installing collected packages: url-normalize, pipetools, jedi, fire, cattrs, requests-cache, simplecmr, hydrafloods\n",
            "Successfully installed cattrs-23.1.2 fire-0.5.0 hydrafloods-2023.10.14 jedi-0.19.1 pipetools-1.1.0 requests-cache-1.1.0 simplecmr-0.0.1 url-normalize-1.4.3\n"
          ]
        }
      ]
    },
    {
      "cell_type": "code",
      "metadata": {
        "id": "-JbcwG-YTpA7"
      },
      "source": [
        "import ee\n",
        "import datetime\n",
        "import hydrafloods as hf\n",
        "import geemap.foliumap as geemap\n",
        "import geemap.colormaps as cm"
      ],
      "execution_count": 3,
      "outputs": []
    },
    {
      "cell_type": "code",
      "source": [
        "ee.Authenticate()\n",
        "ee.Initialize()"
      ],
      "metadata": {
        "id": "wWshpFQ-ZPjM"
      },
      "execution_count": null,
      "outputs": []
    },
    {
      "cell_type": "markdown",
      "metadata": {
        "id": "1PL0_JI7XF9v"
      },
      "source": [
        "## Recap of mapping surface water / Recapitulación mapas de aguas superficiales.\n",
        "\n",
        "The start of any process is to acquire data. Here, HYDRAFloods is used to connect to Earth Engine collections and apply spatial-temporal filters of our interest with a minimum amount of coding."
      ]
    },
    {
      "cell_type": "markdown",
      "source": [
        "El comienzo de cualquier proceso es adquirir datos. Aquí se utiliza HYDRAFloods para conectarse a las colecciones de Earth Engine y aplicar filtros espacio-temporales de nuestro interés con una cantidad mínima de codificación"
      ],
      "metadata": {
        "id": "cvZXBe9VYuZn"
      }
    },
    {
      "cell_type": "markdown",
      "source": [
        "#NEWS / Noticias"
      ],
      "metadata": {
        "id": "Y4hH8PZcwfaC"
      }
    },
    {
      "cell_type": "markdown",
      "source": [
        "##Ecuador\n",
        "Las intensas lluvias y el desbordamiento de ríos dejaron grandes extensiones de terrenos agrícolas y poblados afectados. El domingo 20 de marzo de 2022 otro de los cantones que sufrió por el nivel de agua fue Puebloviejo, en donde 30 viviendas resultaron inundadas.\n",
        "https://www.elcomercio.com/actualidad/ecuador/imagen-inundaciones-danos-rios-lluvias.html\n"
      ],
      "metadata": {
        "id": "vBqpuA3i0dER"
      }
    },
    {
      "cell_type": "markdown",
      "source": [
        "![Rios-700x391.jpg](data:image/jpeg;base64,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)"
      ],
      "metadata": {
        "id": "8LVWCOb6zxp9"
      }
    },
    {
      "cell_type": "markdown",
      "source": [
        "##Peru\n",
        "\n",
        "A las de las 7 de la mañana del 27 de Marzo (2017) la región de Piura, ubicada al norte del Perú, amaneció inundada. El río del mismo nombre excedió el límite de los 2500 metros por segundo y se desbordó. De acuerdo a información del Servicio Nacional de Meteorología e Hidrología del Perú (Senamhi), el río Piura ha alcanzado ya los 3100 metros por segundo.\n",
        "https://es.mongabay.com/2017/03/peru-rios-inundacion-nino-costero-piura/"
      ],
      "metadata": {
        "id": "Ph0ZrDA74EaE"
      }
    },
    {
      "cell_type": "markdown",
      "source": [
        "![panoramica_piura_mongabay5-450x600.jpeg](data:image/jpeg;base64,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)"
      ],
      "metadata": {
        "id": "TJPH6kh036GP"
      }
    },
    {
      "cell_type": "markdown",
      "source": [
        "##Brasil\n",
        "SAOPAULO, 1 dic 2022– Las fuertes lluvias causaron graves inundaciones en el sur de Brasil el jueves, donde los rescatistas del estado sureño de Santa Catarina fueron enviados para ayudar a evacuar a cientos de familias atrapadas en sus casas. Las inundaciones en esta época del año en Brasil son habituales y han causado estragos durante décadas.\n",
        "https://es.euronews.com/2022/12/01/brasil-clima\n"
      ],
      "metadata": {
        "id": "jXy4dkwk1yY5"
      }
    },
    {
      "cell_type": "markdown",
      "source": [
        "##Colombia\n",
        "\n",
        "En Puerto Wilches, Santander, autoridades están a la espera de que el nivel del río Magdalena permita transportar en ferri la maquinaria necesaria para reparar los nuevos daños del dique de esta zona, donde, debido a su ruptura, fueron arrasadas por el agua más de 10 hectáreas de cultivos y decenas de animales. En el área urbana se encuentran inundadas 60 viviendas.\n",
        "\n",
        "https://noticias.caracoltv.com/colombia/mas-de-mil-hectareas-fueron-arrasadas-en-puerto-wilches-santander-por-ruptura-de-dique-rg10"
      ],
      "metadata": {
        "id": "NP7hteqzY6Rk"
      }
    },
    {
      "cell_type": "code",
      "metadata": {
        "id": "isl-trtCyOpD"
      },
      "source": [
        "#region = hf.country_bbox(\"Peru\")\n",
        "#region = ee.Geometry.Rectangle([-80.7994, -5.034813, -80.486130, -5.560888])#Peru\n",
        "\n",
        "#region = hf.country_bbox(\"Ecuador\")\n",
        "#region = ee.Geometry.Rectangle([-79.8475, -0.482, -79.0579, -2.1499])#Ecuador\n",
        "\n",
        "#region = hf.country_bbox(\"Brasil\")\n",
        "region = ee.Geometry.Rectangle([-49.54294, -20.04966, -40.9935995, -25.51880])#Brasil\n",
        "\n",
        "#region = hf.country_bbox(\"Colombia\")\n",
        "#region = ee.Geometry.Rectangle([-74.06, 8.182, -73.441, 7.147])#Colombia\n"
      ],
      "execution_count": null,
      "outputs": []
    },
    {
      "cell_type": "code",
      "metadata": {
        "id": "COwuOFMgbgRt"
      },
      "source": [
        "#s1 = hf.Sentinel1(region,\"2017-03-26\",\"2017-04-06\")#Peru\n",
        "s1 = hf.Sentinel1(region,\"2022-11-30\",\"2022-12-03\")#Brasil\n",
        "#s1 = hf.Sentinel1(region,\"2022-03-18\",\"2022-03-24\")#Ecuador\n",
        "#s1 = hf.Sentinel1(region,\"2022-10-01\",\"2022-11-30\")#Colombia"
      ],
      "execution_count": null,
      "outputs": []
    },
    {
      "cell_type": "code",
      "metadata": {
        "id": "ORLSlKWg9PjN",
        "colab": {
          "base_uri": "https://localhost:8080/"
        },
        "outputId": "37f25213-a68b-4163-9898-55555a1b40a1"
      },
      "source": [
        "# print how many images we have for our specified time and location\n",
        "# numero de imagenes para el periodo de tiempo dentro de la region de interes\n",
        "s1.n_images"
      ],
      "execution_count": null,
      "outputs": [
        {
          "output_type": "execute_result",
          "data": {
            "text/plain": [
              "2"
            ]
          },
          "metadata": {},
          "execution_count": 9
        }
      ]
    },
    {
      "cell_type": "code",
      "metadata": {
        "id": "vAw4O6n89SWC",
        "colab": {
          "base_uri": "https://localhost:8080/"
        },
        "outputId": "89494ef5-c0b5-4119-8965-04f29b5491a8"
      },
      "source": [
        "# get the imagery acquisition times\n",
        "# fechas de adquisicion de las imagenes\n",
        "s1.dates"
      ],
      "execution_count": null,
      "outputs": [
        {
          "output_type": "execute_result",
          "data": {
            "text/plain": [
              "['2022-12-02 08:31:17.000', '2022-12-02 08:31:46.000']"
            ]
          },
          "metadata": {},
          "execution_count": 10
        }
      ]
    },
    {
      "cell_type": "markdown",
      "source": [
        "#Image preprocessing / Pre procesamiento de imagenes"
      ],
      "metadata": {
        "id": "S5FJwMQvRzRG"
      }
    },
    {
      "cell_type": "markdown",
      "source": [
        "##Terrrain correction / Corrección Geométrica"
      ],
      "metadata": {
        "id": "AYpn-MDZ0P3e"
      }
    },
    {
      "cell_type": "markdown",
      "source": [
        "This technique will try to compensate for the geometric distortions present in the image due to the SAR acquisition geometry. The algorithm uses a digital elevation model to make such correction.\n",
        "To make the necessary corrections to the images, we extract the DEM from the MERIT Hydro dataset: Global Hydrographic Datasets, available from GEE.\n",
        "\n",
        "https://developers.google.com/earth-engine/datasets/catalog/MERIT_Hydro_v1_0_1#bands\n",
        "\n"
      ],
      "metadata": {
        "id": "CWEk84rB0cMp"
      }
    },
    {
      "cell_type": "markdown",
      "source": [
        "Esta técnica tratará de compensar las distorsiones geométricas presentes en la imagen debido a la geometría de adquisición SAR. El Algoritmo utiliza un modelo de elevacion digital para hacer dicha corrección.\n",
        "Para realizar las respectivas correciones de las imagenes, extraemos el DEM del dataset de MERIT Hydro: Conjuntos de datos hidrográficos globales , disponibles de GEE\n",
        "\n",
        "https://developers.google.com/earth-engine/datasets/catalog/MERIT_Hydro_v1_0_1#bands"
      ],
      "metadata": {
        "id": "EhBlTJULcEl2"
      }
    },
    {
      "cell_type": "code",
      "metadata": {
        "id": "36XBPt8Dc6GP"
      },
      "source": [
        "merit = ee.Image(\"MERIT/Hydro/v1_0_1\")\n",
        "#mydem = ee.Image(\"NASA/NASADEM_HGT/001\")\n",
        "\n",
        "\n",
        "# extract out the DEM and HAND bands\n",
        "# Extraccion de la bandas de elevacion y mano (altura sobre el drenaje más cercano)\n",
        "\n",
        "dem = merit.select(\"elv\").unmask(0)\n",
        "hand = merit.select(\"hnd\").unmask(0)"
      ],
      "execution_count": null,
      "outputs": []
    },
    {
      "cell_type": "code",
      "metadata": {
        "id": "7fmhhj7icux4"
      },
      "source": [
        "# apply a (psuedo-) terrain flattening algorithm to S1 data\n",
        "s1_flat = s1.apply_func(hf.slope_correction, elevation = dem, buffer = 100)"
      ],
      "execution_count": null,
      "outputs": []
    },
    {
      "cell_type": "markdown",
      "source": [
        "## Speckle filter/filtro de moteado\n",
        "\n",
        "Correction of stains and speckling. All SAR images have a certain degree of noise called \"Speckle\". This noise has its origin in the random character of the observed reflectivity, caused by the interference of numerous reflective objects (scatterers) within the same resolution cell. The Speckle noise appears superimposed on the image data as a texture of very bright or very dark pixels in areas that are actually homogeneous, something like a \"salt and pepper\" effect. In this case, the resulting image should be an equally homogeneous reflectivity image."
      ],
      "metadata": {
        "id": "CcL9tKb51l10"
      }
    },
    {
      "cell_type": "markdown",
      "source": [
        "Todas las imágenes SAR tienen un cierto grado de lo que se denomina ruido de\n",
        "\"Speckle\". Este ruido tiene su origen en el carácter aleatorio de la reflectividad observada, causada por la interferencia de numerosos objetos reflectores (scatterers) dentro de una misma celda de resolución. El ruido de Speckle aparece sobreimpuesto a los datos de la imagen como una textura de píxeles muy brillantes o muy oscuros en zonas que realmente son homogéneas, algo así como un efecto de \"granos de sal y pimienta\". En este caso, la imagen resultante debería ser una imagen de reflectividad igualmente homogénea."
      ],
      "metadata": {
        "id": "_-Nep-t2cULK"
      }
    },
    {
      "cell_type": "code",
      "metadata": {
        "id": "AzzOge2-dqjX"
      },
      "source": [
        "# apply a speckle filter algorithm to S1 data\n",
        "s1_filtered = s1_flat.apply_func(hf.gamma_map)"
      ],
      "execution_count": null,
      "outputs": []
    },
    {
      "cell_type": "code",
      "metadata": {
        "id": "MzinoBbGduEn"
      },
      "source": [
        "# aggregate SAR observations to 30x30 m pixels\n",
        "s1_aggregated = s1_filtered.apply_func(lambda x: x.focal_mean(40,\"circle\",\"meters\").reproject(ee.Projection(\"EPSG:4326\").atScale(30)))"
      ],
      "execution_count": null,
      "outputs": []
    },
    {
      "cell_type": "code",
      "metadata": {
        "id": "O3PQqe2zby36"
      },
      "source": [
        "sar_vis = {\n",
        "    \"bands\":\"VV\",\n",
        "    \"min\":-25,\n",
        "    \"max\":0\n",
        "}"
      ],
      "execution_count": null,
      "outputs": []
    },
    {
      "cell_type": "code",
      "metadata": {
        "id": "rIbiswjMbr12",
        "colab": {
          "base_uri": "https://localhost:8080/",
          "height": 622
        },
        "outputId": "be0e1a16-d75e-4a1b-ca60-28426ecdfa0d"
      },
      "source": [
        "#Map = geemap.Map(center=(-5.2, -80.6), zoom=10)#Peru\n",
        "#Map = geemap.Map(center=(-1.0, -78.8), zoom=9)#Ecuador\n",
        "Map = geemap.Map(center=(-22, -45), zoom=7)#Brasil\n",
        "#Map = geemap.Map(center=(7.6, -73.7), zoom=10)#Colombia\n",
        "\n",
        "Map.addLayer(s1_aggregated.collection.mosaic(),sar_vis, 'Sentinel 1 mosaic')\n",
        "Map.addLayer(s1_flat.collection.median(),{\"bands\": \"VV\", \"min\":-25, \"max\": 0}, 'Sentinel 1 (terrain flattened)')\n",
        "Map.addLayer(s1_aggregated.collection.median(),{\"bands\": \"VV\", \"min\":-25, \"max\": 0}, 'Sentinel 1 (speckle filtered)')\n",
        "\n",
        "Map.addLayer(region,{},\"Region of Interest\")\n",
        "\n",
        "Map.addLayerControl()\n",
        "Map"
      ],
      "execution_count": null,
      "outputs": [
        {
          "output_type": "execute_result",
          "data": {
            "text/plain": [
              "<geemap.foliumap.Map at 0x7f7a935f6460>"
            ],
            "text/html": [
              "<iframe srcdoc=\"&lt;!DOCTYPE html&gt;\n",
              "&lt;html&gt;\n",
              "&lt;head&gt;\n",
              "    \n",
              "    &lt;meta http-equiv=&quot;content-type&quot; content=&quot;text/html; charset=UTF-8&quot; /&gt;\n",
              "    \n",
              "        &lt;script&gt;\n",
              "            L_NO_TOUCH = false;\n",
              "            L_DISABLE_3D = false;\n",
              "        &lt;/script&gt;\n",
              "    \n",
              "    &lt;style&gt;html, body {width: 100%;height: 100%;margin: 0;padding: 0;}&lt;/style&gt;\n",
              "    &lt;style&gt;#map {position:absolute;top:0;bottom:0;right:0;left:0;}&lt;/style&gt;\n",
              "    &lt;script src=&quot;https://cdn.jsdelivr.net/npm/leaflet@1.6.0/dist/leaflet.js&quot;&gt;&lt;/script&gt;\n",
              "    &lt;script src=&quot;https://code.jquery.com/jquery-1.12.4.min.js&quot;&gt;&lt;/script&gt;\n",
              "    &lt;script src=&quot;https://maxcdn.bootstrapcdn.com/bootstrap/3.2.0/js/bootstrap.min.js&quot;&gt;&lt;/script&gt;\n",
              "    &lt;script src=&quot;https://cdnjs.cloudflare.com/ajax/libs/Leaflet.awesome-markers/2.0.2/leaflet.awesome-markers.js&quot;&gt;&lt;/script&gt;\n",
              "    &lt;link rel=&quot;stylesheet&quot; href=&quot;https://cdn.jsdelivr.net/npm/leaflet@1.6.0/dist/leaflet.css&quot;/&gt;\n",
              "    &lt;link rel=&quot;stylesheet&quot; href=&quot;https://maxcdn.bootstrapcdn.com/bootstrap/3.2.0/css/bootstrap.min.css&quot;/&gt;\n",
              "    &lt;link rel=&quot;stylesheet&quot; href=&quot;https://maxcdn.bootstrapcdn.com/bootstrap/3.2.0/css/bootstrap-theme.min.css&quot;/&gt;\n",
              "    &lt;link rel=&quot;stylesheet&quot; href=&quot;https://maxcdn.bootstrapcdn.com/font-awesome/4.6.3/css/font-awesome.min.css&quot;/&gt;\n",
              "    &lt;link rel=&quot;stylesheet&quot; href=&quot;https://cdnjs.cloudflare.com/ajax/libs/Leaflet.awesome-markers/2.0.2/leaflet.awesome-markers.css&quot;/&gt;\n",
              "    &lt;link rel=&quot;stylesheet&quot; href=&quot;https://cdn.jsdelivr.net/gh/python-visualization/folium/folium/templates/leaflet.awesome.rotate.min.css&quot;/&gt;\n",
              "    \n",
              "            &lt;meta name=&quot;viewport&quot; content=&quot;width=device-width,\n",
              "                initial-scale=1.0, maximum-scale=1.0, user-scalable=no&quot; /&gt;\n",
              "            &lt;style&gt;\n",
              "                #map_c8d246dab0362abfc33b4a79949802ec {\n",
              "                    position: relative;\n",
              "                    width: 100.0%;\n",
              "                    height: 100.0%;\n",
              "                    left: 0.0%;\n",
              "                    top: 0.0%;\n",
              "                }\n",
              "            &lt;/style&gt;\n",
              "        \n",
              "    &lt;script src=&quot;https://cdnjs.cloudflare.com/ajax/libs/leaflet.fullscreen/1.4.2/Control.FullScreen.min.js&quot;&gt;&lt;/script&gt;\n",
              "    &lt;link rel=&quot;stylesheet&quot; href=&quot;https://cdnjs.cloudflare.com/ajax/libs/leaflet.fullscreen/1.4.2/Control.FullScreen.min.css&quot;/&gt;\n",
              "    &lt;script src=&quot;https://cdnjs.cloudflare.com/ajax/libs/leaflet.draw/1.0.2/leaflet.draw.js&quot;&gt;&lt;/script&gt;\n",
              "    &lt;link rel=&quot;stylesheet&quot; href=&quot;https://cdnjs.cloudflare.com/ajax/libs/leaflet.draw/1.0.2/leaflet.draw.css&quot;/&gt;\n",
              "    &lt;script src=&quot;https://unpkg.com/leaflet-control-geocoder/dist/Control.Geocoder.js&quot;&gt;&lt;/script&gt;\n",
              "    &lt;link rel=&quot;stylesheet&quot; href=&quot;https://unpkg.com/leaflet-control-geocoder/dist/Control.Geocoder.css&quot;/&gt;\n",
              "&lt;/head&gt;\n",
              "&lt;body&gt;\n",
              "    \n",
              "    \n",
              "            &lt;div class=&quot;folium-map&quot; id=&quot;map_c8d246dab0362abfc33b4a79949802ec&quot; &gt;&lt;/div&gt;\n",
              "        \n",
              "&lt;/body&gt;\n",
              "&lt;script&gt;\n",
              "    \n",
              "    \n",
              "            var map_c8d246dab0362abfc33b4a79949802ec = L.map(\n",
              "                &quot;map_c8d246dab0362abfc33b4a79949802ec&quot;,\n",
              "                {\n",
              "                    center: [-22.0, -45.0],\n",
              "                    crs: L.CRS.EPSG3857,\n",
              "                    zoom: 7,\n",
              "                    zoomControl: true,\n",
              "                    preferCanvas: false,\n",
              "                    eeInitialize: true,\n",
              "                    addGoogleMap: true,\n",
              "                    pluginLatlngpopup: false,\n",
              "                    pluginFullscreen: true,\n",
              "                    pluginDraw: true,\n",
              "                    DrawExport: false,\n",
              "                    pluginMinimap: false,\n",
              "                    locateControl: false,\n",
              "                    searchControl: true,\n",
              "                    layersControl: true,\n",
              "                }\n",
              "            );\n",
              "\n",
              "            \n",
              "\n",
              "        \n",
              "    \n",
              "            var tile_layer_bb41d0404c3aa9c36dfd2747c6aa4d4d = L.tileLayer(\n",
              "                &quot;https://{s}.tile.openstreetmap.org/{z}/{x}/{y}.png&quot;,\n",
              "                {&quot;attribution&quot;: &quot;Data by \\u0026copy; \\u003ca href=\\&quot;http://openstreetmap.org\\&quot;\\u003eOpenStreetMap\\u003c/a\\u003e, under \\u003ca href=\\&quot;http://www.openstreetmap.org/copyright\\&quot;\\u003eODbL\\u003c/a\\u003e.&quot;, &quot;detectRetina&quot;: false, &quot;maxNativeZoom&quot;: 30, &quot;maxZoom&quot;: 30, &quot;minZoom&quot;: 0, &quot;noWrap&quot;: false, &quot;opacity&quot;: 1, &quot;subdomains&quot;: &quot;abc&quot;, &quot;tms&quot;: false}\n",
              "            ).addTo(map_c8d246dab0362abfc33b4a79949802ec);\n",
              "        \n",
              "    \n",
              "            var tile_layer_43dd5f29393cb303a871fbbbb3e06025 = L.tileLayer(\n",
              "                &quot;https://mt1.google.com/vt/lyrs=m\\u0026x={x}\\u0026y={y}\\u0026z={z}&quot;,\n",
              "                {&quot;attribution&quot;: &quot;Google&quot;, &quot;detectRetina&quot;: false, &quot;maxNativeZoom&quot;: 22, &quot;maxZoom&quot;: 22, &quot;minZoom&quot;: 0, &quot;noWrap&quot;: false, &quot;opacity&quot;: 1, &quot;subdomains&quot;: &quot;abc&quot;, &quot;tms&quot;: false}\n",
              "            ).addTo(map_c8d246dab0362abfc33b4a79949802ec);\n",
              "        \n",
              "    \n",
              "            L.control.fullscreen(\n",
              "                {&quot;forceSeparateButton&quot;: false, &quot;position&quot;: &quot;topleft&quot;, &quot;title&quot;: &quot;Full Screen&quot;, &quot;titleCancel&quot;: &quot;Exit Full Screen&quot;}\n",
              "            ).addTo(map_c8d246dab0362abfc33b4a79949802ec);\n",
              "        \n",
              "    \n",
              "            var options = {\n",
              "              position: &quot;topleft&quot;,\n",
              "              draw: {},\n",
              "              edit: {},\n",
              "            }\n",
              "            // FeatureGroup is to store editable layers.\n",
              "            var drawnItems = new L.featureGroup().addTo(\n",
              "                map_c8d246dab0362abfc33b4a79949802ec\n",
              "            );\n",
              "            options.edit.featureGroup = drawnItems;\n",
              "            var draw_control_38eb4e4a4533b00afa9df6cd51e298d8 = new L.Control.Draw(\n",
              "                options\n",
              "            ).addTo( map_c8d246dab0362abfc33b4a79949802ec );\n",
              "            map_c8d246dab0362abfc33b4a79949802ec.on(L.Draw.Event.CREATED, function(e) {\n",
              "                var layer = e.layer,\n",
              "                    type = e.layerType;\n",
              "                var coords = JSON.stringify(layer.toGeoJSON());\n",
              "                layer.on(&#x27;click&#x27;, function() {\n",
              "                    alert(coords);\n",
              "                    console.log(coords);\n",
              "                });\n",
              "                drawnItems.addLayer(layer);\n",
              "             });\n",
              "            map_c8d246dab0362abfc33b4a79949802ec.on(&#x27;draw:created&#x27;, function(e) {\n",
              "                drawnItems.addLayer(e.layer);\n",
              "            });\n",
              "            \n",
              "        \n",
              "    \n",
              "            L.Control.geocoder(\n",
              "                {&quot;collapsed&quot;: true, &quot;defaultMarkGeocode&quot;: true, &quot;position&quot;: &quot;topleft&quot;}\n",
              "            ).on(&#x27;markgeocode&#x27;, function(e) {\n",
              "                map_c8d246dab0362abfc33b4a79949802ec.setView(e.geocode.center, 11);\n",
              "            }).addTo(map_c8d246dab0362abfc33b4a79949802ec);\n",
              "\n",
              "        \n",
              "    \n",
              "            map_c8d246dab0362abfc33b4a79949802ec.fitBounds(\n",
              "                [[-22, -45], [-22, -45]],\n",
              "                {&quot;maxZoom&quot;: 7}\n",
              "            );\n",
              "        \n",
              "    \n",
              "            var tile_layer_5d151fb0f2b8f316274cd75114b61b6c = L.tileLayer(\n",
              "                &quot;https://earthengine.googleapis.com/v1alpha/projects/earthengine-legacy/maps/dfe61d9e6e4c7e055f492707d78c3fbf-afc0ca41c1332fac4ed2a8f3c9ad4cf3/tiles/{z}/{x}/{y}&quot;,\n",
              "                {&quot;attribution&quot;: &quot;Google Earth Engine&quot;, &quot;detectRetina&quot;: false, &quot;maxNativeZoom&quot;: 24, &quot;maxZoom&quot;: 24, &quot;minZoom&quot;: 0, &quot;noWrap&quot;: false, &quot;opacity&quot;: 1.0, &quot;subdomains&quot;: &quot;abc&quot;, &quot;tms&quot;: false}\n",
              "            ).addTo(map_c8d246dab0362abfc33b4a79949802ec);\n",
              "        \n",
              "    \n",
              "            var tile_layer_0ff897270e8a7de713fe3cb82ed3e84f = L.tileLayer(\n",
              "                &quot;https://earthengine.googleapis.com/v1alpha/projects/earthengine-legacy/maps/e0b27e497d486104d2d8d5e5bd912a11-7f37f637ff2464e11b7376bd37deac0f/tiles/{z}/{x}/{y}&quot;,\n",
              "                {&quot;attribution&quot;: &quot;Google Earth Engine&quot;, &quot;detectRetina&quot;: false, &quot;maxNativeZoom&quot;: 24, &quot;maxZoom&quot;: 24, &quot;minZoom&quot;: 0, &quot;noWrap&quot;: false, &quot;opacity&quot;: 1.0, &quot;subdomains&quot;: &quot;abc&quot;, &quot;tms&quot;: false}\n",
              "            ).addTo(map_c8d246dab0362abfc33b4a79949802ec);\n",
              "        \n",
              "    \n",
              "            var tile_layer_8cbcf60a4320a6a2dedfb80634e8e2b4 = L.tileLayer(\n",
              "                &quot;https://earthengine.googleapis.com/v1alpha/projects/earthengine-legacy/maps/57795d5be7ca75e085f05fdd319c7e51-8a24c1f6fcbdc172f991625dcd29560d/tiles/{z}/{x}/{y}&quot;,\n",
              "                {&quot;attribution&quot;: &quot;Google Earth Engine&quot;, &quot;detectRetina&quot;: false, &quot;maxNativeZoom&quot;: 24, &quot;maxZoom&quot;: 24, &quot;minZoom&quot;: 0, &quot;noWrap&quot;: false, &quot;opacity&quot;: 1.0, &quot;subdomains&quot;: &quot;abc&quot;, &quot;tms&quot;: false}\n",
              "            ).addTo(map_c8d246dab0362abfc33b4a79949802ec);\n",
              "        \n",
              "    \n",
              "            var tile_layer_71720a60a72999e3741de04df2208456 = L.tileLayer(\n",
              "                &quot;https://earthengine.googleapis.com/v1alpha/projects/earthengine-legacy/maps/0480aaa2a94ee8d0674b681ff5784010-36c25ea91df9f626fe2e56ee5f1376f5/tiles/{z}/{x}/{y}&quot;,\n",
              "                {&quot;attribution&quot;: &quot;Google Earth Engine&quot;, &quot;detectRetina&quot;: false, &quot;maxNativeZoom&quot;: 24, &quot;maxZoom&quot;: 24, &quot;minZoom&quot;: 0, &quot;noWrap&quot;: false, &quot;opacity&quot;: 1.0, &quot;subdomains&quot;: &quot;abc&quot;, &quot;tms&quot;: false}\n",
              "            ).addTo(map_c8d246dab0362abfc33b4a79949802ec);\n",
              "        \n",
              "    \n",
              "            var layer_control_b237b82fee0ccac3ecaa4c39968cc30f = {\n",
              "                base_layers : {\n",
              "                    &quot;openstreetmap&quot; : tile_layer_bb41d0404c3aa9c36dfd2747c6aa4d4d,\n",
              "                },\n",
              "                overlays :  {\n",
              "                    &quot;Google Maps&quot; : tile_layer_43dd5f29393cb303a871fbbbb3e06025,\n",
              "                    &quot;Sentinel 1 mosaic&quot; : tile_layer_5d151fb0f2b8f316274cd75114b61b6c,\n",
              "                    &quot;Sentinel 1 (terrain flattened)&quot; : tile_layer_0ff897270e8a7de713fe3cb82ed3e84f,\n",
              "                    &quot;Sentinel 1 (speckle filtered)&quot; : tile_layer_8cbcf60a4320a6a2dedfb80634e8e2b4,\n",
              "                    &quot;Region of Interest&quot; : tile_layer_71720a60a72999e3741de04df2208456,\n",
              "                },\n",
              "            };\n",
              "            L.control.layers(\n",
              "                layer_control_b237b82fee0ccac3ecaa4c39968cc30f.base_layers,\n",
              "                layer_control_b237b82fee0ccac3ecaa4c39968cc30f.overlays,\n",
              "                {&quot;autoZIndex&quot;: true, &quot;collapsed&quot;: true, &quot;position&quot;: &quot;topright&quot;}\n",
              "            ).addTo(map_c8d246dab0362abfc33b4a79949802ec);\n",
              "        \n",
              "&lt;/script&gt;\n",
              "&lt;/html&gt;\" width=\"100%\" height=\"600\"style=\"border:none !important;\" \"allowfullscreen\" \"webkitallowfullscreen\" \"mozallowfullscreen\"></iframe>"
            ]
          },
          "metadata": {},
          "execution_count": 16
        }
      ]
    },
    {
      "cell_type": "markdown",
      "source": [
        "# Classification of water and non-water//Clasificacion agua y no agua"
      ],
      "metadata": {
        "id": "Wf9AMInX5Hwf"
      }
    },
    {
      "cell_type": "code",
      "metadata": {
        "id": "gz-d21nNd2TH"
      },
      "source": [
        "# apply a water thresholding algorithm to the collection\n",
        "# method from Markert et al., 2020 (https://doi.org/10.3390/rs12152469)\n",
        "\n",
        "## aplicar un algoritmo de umbral de agua a la colección\n",
        "water = s1_filtered.apply_func(hf.edge_otsu,initial_threshold=-16,band=\"VH\",edge_buffer=100,scale=30)"
      ],
      "execution_count": null,
      "outputs": []
    },
    {
      "cell_type": "code",
      "metadata": {
        "id": "t3sfAaEdlsoe"
      },
      "source": [
        "water_img = water.collection.mosaic()"
      ],
      "execution_count": null,
      "outputs": []
    },
    {
      "cell_type": "markdown",
      "source": [
        "Open - Close  binary filter"
      ],
      "metadata": {
        "id": "GDz4_7BjLMlp"
      }
    },
    {
      "cell_type": "markdown",
      "source": [
        "Opening / Apertura.\n",
        "\n",
        "Es un operador fuerte que crea combinando erosión y dilatación. Al abrir el cuadro, los elementos se separan.\n",
        "La dilatación aumenta el tamaño de una imagen, mientras que la erosión lo disminuye. Suaviza su contorno, fractura los istmos estrechos y elimina los salientes finos en general.\n",
        "\n",
        "Closing/cierre.\n",
        "\n",
        "Al igual que la apertura, tiende a suavizar las zonas de contorno, pero también fusiona pequeñas roturas y largos golfos finos, elimina pequeños agujeros y rellena vacios."
      ],
      "metadata": {
        "id": "vgvrvGzXL29r"
      }
    },
    {
      "cell_type": "markdown",
      "source": [
        "![filter_binary.jpg](data:image/jpeg;base64,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)"
      ],
      "metadata": {
        "id": "t0d-hPKJLBCl"
      }
    },
    {
      "cell_type": "code",
      "metadata": {
        "id": "7GBSncmse8t1"
      },
      "source": [
        "water_final = (\n",
        "    hf.close_binary(\n",
        "        hf.open_binary(water_img,window=1.5) # apply opening filter\n",
        "        .updateMask(water_img.mask()) # force mask to be consistent with sar imagery\n",
        "        ,window=1.5\n",
        "    ) # apply closing filter\n",
        "    .updateMask(water_img.mask()) # force mask to be consistent with sar imagery\n",
        "    .And(hand.lt(15)) # only pixels that were originally classified as water AND < 15m from HAND\n",
        ")"
      ],
      "execution_count": null,
      "outputs": []
    },
    {
      "cell_type": "code",
      "metadata": {
        "id": "iYgSEvAId907",
        "colab": {
          "base_uri": "https://localhost:8080/",
          "height": 622
        },
        "outputId": "7c4bf621-bcb1-4fad-e8be-c4115f5b6118"
      },
      "source": [
        "# view the results of SAR water mapping\n",
        "#Map = geemap.Map(center=(-5.2, -80.6), zoom=10)#Peru\n",
        "#Map = geemap.Map(center=(-1.0, -78.8), zoom=9)#Ecuador\n",
        "Map = geemap.Map(center=(-22, -45), zoom=7)#Brasil\n",
        "#Map = geemap.Map(center=(7.6, -73.7), zoom=10)#Colombia\n",
        "\n",
        "Map.addLayer(s1_aggregated.collection.median(),{\"bands\": \"VV\", \"min\":-25, \"max\": 0}, 'Sentinel 1')\n",
        "Map.addLayer(water_img.selfMask(),{\"min\":0,\"max\":1,\"palette\":cm.palettes.Blues}, \"Sentinel 1 (water_img)\")\n",
        "Map.addLayer(water_final.selfMask(),{\"min\":0,\"max\":1,\"palette\":cm.palettes.Blues}, \"Sentinel 1 (water_final)\")\n",
        "Map.addLayer(region,{},\"Region of Interest\")\n",
        "Map.addLayerControl()\n",
        "Map"
      ],
      "execution_count": null,
      "outputs": [
        {
          "output_type": "execute_result",
          "data": {
            "text/plain": [
              "<geemap.foliumap.Map at 0x7f7a936025b0>"
            ],
            "text/html": [
              "<iframe srcdoc=\"&lt;!DOCTYPE html&gt;\n",
              "&lt;html&gt;\n",
              "&lt;head&gt;\n",
              "    \n",
              "    &lt;meta http-equiv=&quot;content-type&quot; content=&quot;text/html; charset=UTF-8&quot; /&gt;\n",
              "    \n",
              "        &lt;script&gt;\n",
              "            L_NO_TOUCH = false;\n",
              "            L_DISABLE_3D = false;\n",
              "        &lt;/script&gt;\n",
              "    \n",
              "    &lt;style&gt;html, body {width: 100%;height: 100%;margin: 0;padding: 0;}&lt;/style&gt;\n",
              "    &lt;style&gt;#map {position:absolute;top:0;bottom:0;right:0;left:0;}&lt;/style&gt;\n",
              "    &lt;script src=&quot;https://cdn.jsdelivr.net/npm/leaflet@1.6.0/dist/leaflet.js&quot;&gt;&lt;/script&gt;\n",
              "    &lt;script src=&quot;https://code.jquery.com/jquery-1.12.4.min.js&quot;&gt;&lt;/script&gt;\n",
              "    &lt;script src=&quot;https://maxcdn.bootstrapcdn.com/bootstrap/3.2.0/js/bootstrap.min.js&quot;&gt;&lt;/script&gt;\n",
              "    &lt;script src=&quot;https://cdnjs.cloudflare.com/ajax/libs/Leaflet.awesome-markers/2.0.2/leaflet.awesome-markers.js&quot;&gt;&lt;/script&gt;\n",
              "    &lt;link rel=&quot;stylesheet&quot; href=&quot;https://cdn.jsdelivr.net/npm/leaflet@1.6.0/dist/leaflet.css&quot;/&gt;\n",
              "    &lt;link rel=&quot;stylesheet&quot; href=&quot;https://maxcdn.bootstrapcdn.com/bootstrap/3.2.0/css/bootstrap.min.css&quot;/&gt;\n",
              "    &lt;link rel=&quot;stylesheet&quot; href=&quot;https://maxcdn.bootstrapcdn.com/bootstrap/3.2.0/css/bootstrap-theme.min.css&quot;/&gt;\n",
              "    &lt;link rel=&quot;stylesheet&quot; href=&quot;https://maxcdn.bootstrapcdn.com/font-awesome/4.6.3/css/font-awesome.min.css&quot;/&gt;\n",
              "    &lt;link rel=&quot;stylesheet&quot; href=&quot;https://cdnjs.cloudflare.com/ajax/libs/Leaflet.awesome-markers/2.0.2/leaflet.awesome-markers.css&quot;/&gt;\n",
              "    &lt;link rel=&quot;stylesheet&quot; href=&quot;https://cdn.jsdelivr.net/gh/python-visualization/folium/folium/templates/leaflet.awesome.rotate.min.css&quot;/&gt;\n",
              "    \n",
              "            &lt;meta name=&quot;viewport&quot; content=&quot;width=device-width,\n",
              "                initial-scale=1.0, maximum-scale=1.0, user-scalable=no&quot; /&gt;\n",
              "            &lt;style&gt;\n",
              "                #map_a783af9b7d149f5228dc2ab1c226193f {\n",
              "                    position: relative;\n",
              "                    width: 100.0%;\n",
              "                    height: 100.0%;\n",
              "                    left: 0.0%;\n",
              "                    top: 0.0%;\n",
              "                }\n",
              "            &lt;/style&gt;\n",
              "        \n",
              "    &lt;script src=&quot;https://cdnjs.cloudflare.com/ajax/libs/leaflet.fullscreen/1.4.2/Control.FullScreen.min.js&quot;&gt;&lt;/script&gt;\n",
              "    &lt;link rel=&quot;stylesheet&quot; href=&quot;https://cdnjs.cloudflare.com/ajax/libs/leaflet.fullscreen/1.4.2/Control.FullScreen.min.css&quot;/&gt;\n",
              "    &lt;script src=&quot;https://cdnjs.cloudflare.com/ajax/libs/leaflet.draw/1.0.2/leaflet.draw.js&quot;&gt;&lt;/script&gt;\n",
              "    &lt;link rel=&quot;stylesheet&quot; href=&quot;https://cdnjs.cloudflare.com/ajax/libs/leaflet.draw/1.0.2/leaflet.draw.css&quot;/&gt;\n",
              "    &lt;script src=&quot;https://unpkg.com/leaflet-control-geocoder/dist/Control.Geocoder.js&quot;&gt;&lt;/script&gt;\n",
              "    &lt;link rel=&quot;stylesheet&quot; href=&quot;https://unpkg.com/leaflet-control-geocoder/dist/Control.Geocoder.css&quot;/&gt;\n",
              "&lt;/head&gt;\n",
              "&lt;body&gt;\n",
              "    \n",
              "    \n",
              "            &lt;div class=&quot;folium-map&quot; id=&quot;map_a783af9b7d149f5228dc2ab1c226193f&quot; &gt;&lt;/div&gt;\n",
              "        \n",
              "&lt;/body&gt;\n",
              "&lt;script&gt;\n",
              "    \n",
              "    \n",
              "            var map_a783af9b7d149f5228dc2ab1c226193f = L.map(\n",
              "                &quot;map_a783af9b7d149f5228dc2ab1c226193f&quot;,\n",
              "                {\n",
              "                    center: [-22.0, -45.0],\n",
              "                    crs: L.CRS.EPSG3857,\n",
              "                    zoom: 7,\n",
              "                    zoomControl: true,\n",
              "                    preferCanvas: false,\n",
              "                    eeInitialize: true,\n",
              "                    addGoogleMap: true,\n",
              "                    pluginLatlngpopup: false,\n",
              "                    pluginFullscreen: true,\n",
              "                    pluginDraw: true,\n",
              "                    DrawExport: false,\n",
              "                    pluginMinimap: false,\n",
              "                    locateControl: false,\n",
              "                    searchControl: true,\n",
              "                    layersControl: true,\n",
              "                }\n",
              "            );\n",
              "\n",
              "            \n",
              "\n",
              "        \n",
              "    \n",
              "            var tile_layer_44ab0979dfb6850907d0875e0b5cab38 = L.tileLayer(\n",
              "                &quot;https://{s}.tile.openstreetmap.org/{z}/{x}/{y}.png&quot;,\n",
              "                {&quot;attribution&quot;: &quot;Data by \\u0026copy; \\u003ca href=\\&quot;http://openstreetmap.org\\&quot;\\u003eOpenStreetMap\\u003c/a\\u003e, under \\u003ca href=\\&quot;http://www.openstreetmap.org/copyright\\&quot;\\u003eODbL\\u003c/a\\u003e.&quot;, &quot;detectRetina&quot;: false, &quot;maxNativeZoom&quot;: 30, &quot;maxZoom&quot;: 30, &quot;minZoom&quot;: 0, &quot;noWrap&quot;: false, &quot;opacity&quot;: 1, &quot;subdomains&quot;: &quot;abc&quot;, &quot;tms&quot;: false}\n",
              "            ).addTo(map_a783af9b7d149f5228dc2ab1c226193f);\n",
              "        \n",
              "    \n",
              "            var tile_layer_43dd5f29393cb303a871fbbbb3e06025 = L.tileLayer(\n",
              "                &quot;https://mt1.google.com/vt/lyrs=m\\u0026x={x}\\u0026y={y}\\u0026z={z}&quot;,\n",
              "                {&quot;attribution&quot;: &quot;Google&quot;, &quot;detectRetina&quot;: false, &quot;maxNativeZoom&quot;: 22, &quot;maxZoom&quot;: 22, &quot;minZoom&quot;: 0, &quot;noWrap&quot;: false, &quot;opacity&quot;: 1, &quot;subdomains&quot;: &quot;abc&quot;, &quot;tms&quot;: false}\n",
              "            ).addTo(map_a783af9b7d149f5228dc2ab1c226193f);\n",
              "        \n",
              "    \n",
              "            L.control.fullscreen(\n",
              "                {&quot;forceSeparateButton&quot;: false, &quot;position&quot;: &quot;topleft&quot;, &quot;title&quot;: &quot;Full Screen&quot;, &quot;titleCancel&quot;: &quot;Exit Full Screen&quot;}\n",
              "            ).addTo(map_a783af9b7d149f5228dc2ab1c226193f);\n",
              "        \n",
              "    \n",
              "            var options = {\n",
              "              position: &quot;topleft&quot;,\n",
              "              draw: {},\n",
              "              edit: {},\n",
              "            }\n",
              "            // FeatureGroup is to store editable layers.\n",
              "            var drawnItems = new L.featureGroup().addTo(\n",
              "                map_a783af9b7d149f5228dc2ab1c226193f\n",
              "            );\n",
              "            options.edit.featureGroup = drawnItems;\n",
              "            var draw_control_929d307c65d9a72724d32fa25fc433ee = new L.Control.Draw(\n",
              "                options\n",
              "            ).addTo( map_a783af9b7d149f5228dc2ab1c226193f );\n",
              "            map_a783af9b7d149f5228dc2ab1c226193f.on(L.Draw.Event.CREATED, function(e) {\n",
              "                var layer = e.layer,\n",
              "                    type = e.layerType;\n",
              "                var coords = JSON.stringify(layer.toGeoJSON());\n",
              "                layer.on(&#x27;click&#x27;, function() {\n",
              "                    alert(coords);\n",
              "                    console.log(coords);\n",
              "                });\n",
              "                drawnItems.addLayer(layer);\n",
              "             });\n",
              "            map_a783af9b7d149f5228dc2ab1c226193f.on(&#x27;draw:created&#x27;, function(e) {\n",
              "                drawnItems.addLayer(e.layer);\n",
              "            });\n",
              "            \n",
              "        \n",
              "    \n",
              "            L.Control.geocoder(\n",
              "                {&quot;collapsed&quot;: true, &quot;defaultMarkGeocode&quot;: true, &quot;position&quot;: &quot;topleft&quot;}\n",
              "            ).on(&#x27;markgeocode&#x27;, function(e) {\n",
              "                map_a783af9b7d149f5228dc2ab1c226193f.setView(e.geocode.center, 11);\n",
              "            }).addTo(map_a783af9b7d149f5228dc2ab1c226193f);\n",
              "\n",
              "        \n",
              "    \n",
              "            map_a783af9b7d149f5228dc2ab1c226193f.fitBounds(\n",
              "                [[-22, -45], [-22, -45]],\n",
              "                {&quot;maxZoom&quot;: 7}\n",
              "            );\n",
              "        \n",
              "    \n",
              "            var tile_layer_8efd45400740ad7c15b4d0ac2e4d6dc9 = L.tileLayer(\n",
              "                &quot;https://earthengine.googleapis.com/v1alpha/projects/earthengine-legacy/maps/57795d5be7ca75e085f05fdd319c7e51-b7570d7dd6367bece7e3e56e5e75cd67/tiles/{z}/{x}/{y}&quot;,\n",
              "                {&quot;attribution&quot;: &quot;Google Earth Engine&quot;, &quot;detectRetina&quot;: false, &quot;maxNativeZoom&quot;: 24, &quot;maxZoom&quot;: 24, &quot;minZoom&quot;: 0, &quot;noWrap&quot;: false, &quot;opacity&quot;: 1.0, &quot;subdomains&quot;: &quot;abc&quot;, &quot;tms&quot;: false}\n",
              "            ).addTo(map_a783af9b7d149f5228dc2ab1c226193f);\n",
              "        \n",
              "    \n",
              "            var tile_layer_42410fea830033fd7b978e42fdfb3d28 = L.tileLayer(\n",
              "                &quot;https://earthengine.googleapis.com/v1alpha/projects/earthengine-legacy/maps/8ded3757d73a2f5adac9cb16539bf2bd-fa9eda72148f622e961ec6790cbc2191/tiles/{z}/{x}/{y}&quot;,\n",
              "                {&quot;attribution&quot;: &quot;Google Earth Engine&quot;, &quot;detectRetina&quot;: false, &quot;maxNativeZoom&quot;: 24, &quot;maxZoom&quot;: 24, &quot;minZoom&quot;: 0, &quot;noWrap&quot;: false, &quot;opacity&quot;: 1.0, &quot;subdomains&quot;: &quot;abc&quot;, &quot;tms&quot;: false}\n",
              "            ).addTo(map_a783af9b7d149f5228dc2ab1c226193f);\n",
              "        \n",
              "    \n",
              "            var tile_layer_1de57e3b9188a3071deb3e8acb56b80f = L.tileLayer(\n",
              "                &quot;https://earthengine.googleapis.com/v1alpha/projects/earthengine-legacy/maps/5dd5dbba8291b3e2f7c3f010ad7a6a21-3b96e073ad936d8cec46e8c0ff5d07c9/tiles/{z}/{x}/{y}&quot;,\n",
              "                {&quot;attribution&quot;: &quot;Google Earth Engine&quot;, &quot;detectRetina&quot;: false, &quot;maxNativeZoom&quot;: 24, &quot;maxZoom&quot;: 24, &quot;minZoom&quot;: 0, &quot;noWrap&quot;: false, &quot;opacity&quot;: 1.0, &quot;subdomains&quot;: &quot;abc&quot;, &quot;tms&quot;: false}\n",
              "            ).addTo(map_a783af9b7d149f5228dc2ab1c226193f);\n",
              "        \n",
              "    \n",
              "            var tile_layer_ab0035183976f20073137c76d3e7142b = L.tileLayer(\n",
              "                &quot;https://earthengine.googleapis.com/v1alpha/projects/earthengine-legacy/maps/0480aaa2a94ee8d0674b681ff5784010-6e40f0daad1b063eddfaa289918a4203/tiles/{z}/{x}/{y}&quot;,\n",
              "                {&quot;attribution&quot;: &quot;Google Earth Engine&quot;, &quot;detectRetina&quot;: false, &quot;maxNativeZoom&quot;: 24, &quot;maxZoom&quot;: 24, &quot;minZoom&quot;: 0, &quot;noWrap&quot;: false, &quot;opacity&quot;: 1.0, &quot;subdomains&quot;: &quot;abc&quot;, &quot;tms&quot;: false}\n",
              "            ).addTo(map_a783af9b7d149f5228dc2ab1c226193f);\n",
              "        \n",
              "    \n",
              "            var layer_control_9087ff0f56d6fc620d8499e8d6e5577d = {\n",
              "                base_layers : {\n",
              "                    &quot;openstreetmap&quot; : tile_layer_44ab0979dfb6850907d0875e0b5cab38,\n",
              "                },\n",
              "                overlays :  {\n",
              "                    &quot;Google Maps&quot; : tile_layer_43dd5f29393cb303a871fbbbb3e06025,\n",
              "                    &quot;Sentinel 1&quot; : tile_layer_8efd45400740ad7c15b4d0ac2e4d6dc9,\n",
              "                    &quot;Sentinel 1 (water_img)&quot; : tile_layer_42410fea830033fd7b978e42fdfb3d28,\n",
              "                    &quot;Sentinel 1 (water_final)&quot; : tile_layer_1de57e3b9188a3071deb3e8acb56b80f,\n",
              "                    &quot;Region of Interest&quot; : tile_layer_ab0035183976f20073137c76d3e7142b,\n",
              "                },\n",
              "            };\n",
              "            L.control.layers(\n",
              "                layer_control_9087ff0f56d6fc620d8499e8d6e5577d.base_layers,\n",
              "                layer_control_9087ff0f56d6fc620d8499e8d6e5577d.overlays,\n",
              "                {&quot;autoZIndex&quot;: true, &quot;collapsed&quot;: true, &quot;position&quot;: &quot;topright&quot;}\n",
              "            ).addTo(map_a783af9b7d149f5228dc2ab1c226193f);\n",
              "        \n",
              "&lt;/script&gt;\n",
              "&lt;/html&gt;\" width=\"100%\" height=\"600\"style=\"border:none !important;\" \"allowfullscreen\" \"webkitallowfullscreen\" \"mozallowfullscreen\"></iframe>"
            ]
          },
          "metadata": {},
          "execution_count": 21
        }
      ]
    },
    {
      "cell_type": "code",
      "metadata": {
        "id": "ne3aCvmonOdH"
      },
      "source": [
        "#@title Export to asset example\n",
        "hf.export_image(\n",
        "    s1_aggregated.collection.mosaic().addBands(water_img),\n",
        "    region,\n",
        "    description = \"hydrafloods_training_water_water_Brasil\",\n",
        "    scale=30,\n",
        "    crs='EPSG:4326',\n",
        "    pyramiding={\"water\":\"mode\"},\n",
        "    export_type='toAsset',\n",
        "    asset_id = \"users/cacamachoh/hydrafloods_training_water_Brasil\"\n",
        ")\n"
      ],
      "execution_count": null,
      "outputs": []
    },
    {
      "cell_type": "code",
      "metadata": {
        "id": "ZLkbMULPmd0R"
      },
      "source": [
        "hf.export_image(\n",
        "    water_final,\n",
        "    region,\n",
        "    description = \"hydrafloods_training_water_Brasil\",\n",
        "    scale=30,\n",
        "    crs='EPSG:4326',\n",
        "    pyramiding={\".default\":\"mode\"},\n",
        "    export_type='toDrive'\n",
        ")\n"
      ],
      "execution_count": null,
      "outputs": []
    },
    {
      "cell_type": "markdown",
      "metadata": {
        "id": "I2rtFpkAyI53"
      },
      "source": [
        "# Extracting floods from permanent water /Extraer inundaciones de aguas permanentes\n",
        "\n",
        "To extract floods we need some indicator of what is normal. The \"normal\" usually influence what the resulting flood map looks like. In these following cases we will use the [JRC surface water data](https://doi.org/10.1038/nature20584) to compare the event against and extract the flooded areas."
      ]
    },
    {
      "cell_type": "markdown",
      "metadata": {
        "id": "-I48ZSnTF3tt"
      },
      "source": [
        "Para extraer inundaciones necesitamos algún indicador de lo que es normal. Lo \"normal\" generalmente influye en el aspecto del mapa de inundación resultante. En los siguientes casos, utilizaremos los [datos de agua superficial del JRC](https://doi.org/10.1038/nature20584)para comparar el evento y extraer las áreas inundadas."
      ]
    },
    {
      "cell_type": "code",
      "metadata": {
        "id": "aoiimxJumdIC"
      },
      "source": [
        "# start by pulling in a pre-computed water layer from earlier\n",
        "event_img = ee.Image(\"users/cacamachoh/hydrafloods_training_water_Brasil\")\n",
        "sar_img = event_img.select(\"V.*\")\n",
        "water_img = event_img.select(\"water\")"
      ],
      "execution_count": null,
      "outputs": []
    },
    {
      "cell_type": "markdown",
      "metadata": {
        "id": "L1w_7D1TyPWi"
      },
      "source": [
        "## Using yearly permanent water / agua permanente anual\n",
        "\n",
        "For this case we will use previous 5-years of classified permanent water to compare against."
      ]
    },
    {
      "cell_type": "markdown",
      "source": [
        "Para este caso, usaremos 5 años anteriores de agua permanente clasificada para comparar."
      ],
      "metadata": {
        "id": "_odUD8PeJIlY"
      }
    },
    {
      "cell_type": "code",
      "source": [
        "water_img = water_img.set(\"system:time_start\", ee.Date(\"2022-12-02\").millis())"
      ],
      "metadata": {
        "id": "G6pPNRTKt5EG"
      },
      "execution_count": null,
      "outputs": []
    },
    {
      "cell_type": "code",
      "metadata": {
        "id": "9_souPOk7vHx",
        "colab": {
          "base_uri": "https://localhost:8080/",
          "height": 36
        },
        "outputId": "d5dcff26-e432-49a0-c81f-57c2b6cccae3"
      },
      "source": [
        "water_img.date().format(\"YYYY-MM-dd\").getInfo()"
      ],
      "execution_count": null,
      "outputs": [
        {
          "output_type": "execute_result",
          "data": {
            "text/plain": [
              "'2022-12-02'"
            ],
            "application/vnd.google.colaboratory.intrinsic+json": {
              "type": "string"
            }
          },
          "metadata": {},
          "execution_count": 26
        }
      ]
    },
    {
      "cell_type": "code",
      "metadata": {
        "id": "KVZafG1dyZ60"
      },
      "source": [
        "# use `extract_flood` function to use JRC data as reference\n",
        "floods_yearly = hf.extract_flood(water_img,reference=\"yearly\")"
      ],
      "execution_count": null,
      "outputs": []
    },
    {
      "cell_type": "code",
      "metadata": {
        "id": "TsFOCI8c9EKh",
        "colab": {
          "base_uri": "https://localhost:8080/",
          "height": 622
        },
        "outputId": "384e3a07-fce2-44bd-8c79-b15242c46a25"
      },
      "source": [
        "# view the results of flood mapping\n",
        "#Map = geemap.Map(center=(-5.2, -80.6), zoom=10)#Peru\n",
        "#Map = geemap.Map(center=(-1.0, -78.8), zoom=9)#Ecuador\n",
        "Map = geemap.Map(center=(-22, -45), zoom=7)#Brasil\n",
        "#Map = geemap.Map(center=(7.6, -73.7), zoom=10)#Colombia\n",
        "\n",
        "Map.addLayer(water_img.selfMask(),{\"min\":0,\"max\":1,\"palette\":cm.palettes.Blues}, \"Sentinel 1 (water)\")\n",
        "Map.addLayer(floods_yearly.selfMask(),{\"min\":0,\"max\":1,\"palette\":\"red\"}, \"Sentinel 1 (flood)\")\n",
        "Map.addLayer(region,{},\"Region of Interest\")\n",
        "Map.addLayerControl()\n",
        "Map"
      ],
      "execution_count": null,
      "outputs": [
        {
          "output_type": "execute_result",
          "data": {
            "text/plain": [
              "<geemap.foliumap.Map at 0x7f7a935bd550>"
            ],
            "text/html": [
              "<iframe srcdoc=\"&lt;!DOCTYPE html&gt;\n",
              "&lt;html&gt;\n",
              "&lt;head&gt;\n",
              "    \n",
              "    &lt;meta http-equiv=&quot;content-type&quot; content=&quot;text/html; charset=UTF-8&quot; /&gt;\n",
              "    \n",
              "        &lt;script&gt;\n",
              "            L_NO_TOUCH = false;\n",
              "            L_DISABLE_3D = false;\n",
              "        &lt;/script&gt;\n",
              "    \n",
              "    &lt;style&gt;html, body {width: 100%;height: 100%;margin: 0;padding: 0;}&lt;/style&gt;\n",
              "    &lt;style&gt;#map {position:absolute;top:0;bottom:0;right:0;left:0;}&lt;/style&gt;\n",
              "    &lt;script src=&quot;https://cdn.jsdelivr.net/npm/leaflet@1.6.0/dist/leaflet.js&quot;&gt;&lt;/script&gt;\n",
              "    &lt;script src=&quot;https://code.jquery.com/jquery-1.12.4.min.js&quot;&gt;&lt;/script&gt;\n",
              "    &lt;script src=&quot;https://maxcdn.bootstrapcdn.com/bootstrap/3.2.0/js/bootstrap.min.js&quot;&gt;&lt;/script&gt;\n",
              "    &lt;script src=&quot;https://cdnjs.cloudflare.com/ajax/libs/Leaflet.awesome-markers/2.0.2/leaflet.awesome-markers.js&quot;&gt;&lt;/script&gt;\n",
              "    &lt;link rel=&quot;stylesheet&quot; href=&quot;https://cdn.jsdelivr.net/npm/leaflet@1.6.0/dist/leaflet.css&quot;/&gt;\n",
              "    &lt;link rel=&quot;stylesheet&quot; href=&quot;https://maxcdn.bootstrapcdn.com/bootstrap/3.2.0/css/bootstrap.min.css&quot;/&gt;\n",
              "    &lt;link rel=&quot;stylesheet&quot; href=&quot;https://maxcdn.bootstrapcdn.com/bootstrap/3.2.0/css/bootstrap-theme.min.css&quot;/&gt;\n",
              "    &lt;link rel=&quot;stylesheet&quot; href=&quot;https://maxcdn.bootstrapcdn.com/font-awesome/4.6.3/css/font-awesome.min.css&quot;/&gt;\n",
              "    &lt;link rel=&quot;stylesheet&quot; href=&quot;https://cdnjs.cloudflare.com/ajax/libs/Leaflet.awesome-markers/2.0.2/leaflet.awesome-markers.css&quot;/&gt;\n",
              "    &lt;link rel=&quot;stylesheet&quot; href=&quot;https://cdn.jsdelivr.net/gh/python-visualization/folium/folium/templates/leaflet.awesome.rotate.min.css&quot;/&gt;\n",
              "    \n",
              "            &lt;meta name=&quot;viewport&quot; content=&quot;width=device-width,\n",
              "                initial-scale=1.0, maximum-scale=1.0, user-scalable=no&quot; /&gt;\n",
              "            &lt;style&gt;\n",
              "                #map_8de72a599cd76a535300848a0ebea443 {\n",
              "                    position: relative;\n",
              "                    width: 100.0%;\n",
              "                    height: 100.0%;\n",
              "                    left: 0.0%;\n",
              "                    top: 0.0%;\n",
              "                }\n",
              "            &lt;/style&gt;\n",
              "        \n",
              "    &lt;script src=&quot;https://cdnjs.cloudflare.com/ajax/libs/leaflet.fullscreen/1.4.2/Control.FullScreen.min.js&quot;&gt;&lt;/script&gt;\n",
              "    &lt;link rel=&quot;stylesheet&quot; href=&quot;https://cdnjs.cloudflare.com/ajax/libs/leaflet.fullscreen/1.4.2/Control.FullScreen.min.css&quot;/&gt;\n",
              "    &lt;script src=&quot;https://cdnjs.cloudflare.com/ajax/libs/leaflet.draw/1.0.2/leaflet.draw.js&quot;&gt;&lt;/script&gt;\n",
              "    &lt;link rel=&quot;stylesheet&quot; href=&quot;https://cdnjs.cloudflare.com/ajax/libs/leaflet.draw/1.0.2/leaflet.draw.css&quot;/&gt;\n",
              "    &lt;script src=&quot;https://unpkg.com/leaflet-control-geocoder/dist/Control.Geocoder.js&quot;&gt;&lt;/script&gt;\n",
              "    &lt;link rel=&quot;stylesheet&quot; href=&quot;https://unpkg.com/leaflet-control-geocoder/dist/Control.Geocoder.css&quot;/&gt;\n",
              "&lt;/head&gt;\n",
              "&lt;body&gt;\n",
              "    \n",
              "    \n",
              "            &lt;div class=&quot;folium-map&quot; id=&quot;map_8de72a599cd76a535300848a0ebea443&quot; &gt;&lt;/div&gt;\n",
              "        \n",
              "&lt;/body&gt;\n",
              "&lt;script&gt;\n",
              "    \n",
              "    \n",
              "            var map_8de72a599cd76a535300848a0ebea443 = L.map(\n",
              "                &quot;map_8de72a599cd76a535300848a0ebea443&quot;,\n",
              "                {\n",
              "                    center: [-22.0, -45.0],\n",
              "                    crs: L.CRS.EPSG3857,\n",
              "                    zoom: 7,\n",
              "                    zoomControl: true,\n",
              "                    preferCanvas: false,\n",
              "                    eeInitialize: true,\n",
              "                    addGoogleMap: true,\n",
              "                    pluginLatlngpopup: false,\n",
              "                    pluginFullscreen: true,\n",
              "                    pluginDraw: true,\n",
              "                    DrawExport: false,\n",
              "                    pluginMinimap: false,\n",
              "                    locateControl: false,\n",
              "                    searchControl: true,\n",
              "                    layersControl: true,\n",
              "                }\n",
              "            );\n",
              "\n",
              "            \n",
              "\n",
              "        \n",
              "    \n",
              "            var tile_layer_da2b95ee706a12efd7db22d2c5d8a58b = L.tileLayer(\n",
              "                &quot;https://{s}.tile.openstreetmap.org/{z}/{x}/{y}.png&quot;,\n",
              "                {&quot;attribution&quot;: &quot;Data by \\u0026copy; \\u003ca href=\\&quot;http://openstreetmap.org\\&quot;\\u003eOpenStreetMap\\u003c/a\\u003e, under \\u003ca href=\\&quot;http://www.openstreetmap.org/copyright\\&quot;\\u003eODbL\\u003c/a\\u003e.&quot;, &quot;detectRetina&quot;: false, &quot;maxNativeZoom&quot;: 30, &quot;maxZoom&quot;: 30, &quot;minZoom&quot;: 0, &quot;noWrap&quot;: false, &quot;opacity&quot;: 1, &quot;subdomains&quot;: &quot;abc&quot;, &quot;tms&quot;: false}\n",
              "            ).addTo(map_8de72a599cd76a535300848a0ebea443);\n",
              "        \n",
              "    \n",
              "            var tile_layer_43dd5f29393cb303a871fbbbb3e06025 = L.tileLayer(\n",
              "                &quot;https://mt1.google.com/vt/lyrs=m\\u0026x={x}\\u0026y={y}\\u0026z={z}&quot;,\n",
              "                {&quot;attribution&quot;: &quot;Google&quot;, &quot;detectRetina&quot;: false, &quot;maxNativeZoom&quot;: 22, &quot;maxZoom&quot;: 22, &quot;minZoom&quot;: 0, &quot;noWrap&quot;: false, &quot;opacity&quot;: 1, &quot;subdomains&quot;: &quot;abc&quot;, &quot;tms&quot;: false}\n",
              "            ).addTo(map_8de72a599cd76a535300848a0ebea443);\n",
              "        \n",
              "    \n",
              "            L.control.fullscreen(\n",
              "                {&quot;forceSeparateButton&quot;: false, &quot;position&quot;: &quot;topleft&quot;, &quot;title&quot;: &quot;Full Screen&quot;, &quot;titleCancel&quot;: &quot;Exit Full Screen&quot;}\n",
              "            ).addTo(map_8de72a599cd76a535300848a0ebea443);\n",
              "        \n",
              "    \n",
              "            var options = {\n",
              "              position: &quot;topleft&quot;,\n",
              "              draw: {},\n",
              "              edit: {},\n",
              "            }\n",
              "            // FeatureGroup is to store editable layers.\n",
              "            var drawnItems = new L.featureGroup().addTo(\n",
              "                map_8de72a599cd76a535300848a0ebea443\n",
              "            );\n",
              "            options.edit.featureGroup = drawnItems;\n",
              "            var draw_control_681ac3fb23579a1a74d4b93ea00f80f4 = new L.Control.Draw(\n",
              "                options\n",
              "            ).addTo( map_8de72a599cd76a535300848a0ebea443 );\n",
              "            map_8de72a599cd76a535300848a0ebea443.on(L.Draw.Event.CREATED, function(e) {\n",
              "                var layer = e.layer,\n",
              "                    type = e.layerType;\n",
              "                var coords = JSON.stringify(layer.toGeoJSON());\n",
              "                layer.on(&#x27;click&#x27;, function() {\n",
              "                    alert(coords);\n",
              "                    console.log(coords);\n",
              "                });\n",
              "                drawnItems.addLayer(layer);\n",
              "             });\n",
              "            map_8de72a599cd76a535300848a0ebea443.on(&#x27;draw:created&#x27;, function(e) {\n",
              "                drawnItems.addLayer(e.layer);\n",
              "            });\n",
              "            \n",
              "        \n",
              "    \n",
              "            L.Control.geocoder(\n",
              "                {&quot;collapsed&quot;: true, &quot;defaultMarkGeocode&quot;: true, &quot;position&quot;: &quot;topleft&quot;}\n",
              "            ).on(&#x27;markgeocode&#x27;, function(e) {\n",
              "                map_8de72a599cd76a535300848a0ebea443.setView(e.geocode.center, 11);\n",
              "            }).addTo(map_8de72a599cd76a535300848a0ebea443);\n",
              "\n",
              "        \n",
              "    \n",
              "            map_8de72a599cd76a535300848a0ebea443.fitBounds(\n",
              "                [[-22, -45], [-22, -45]],\n",
              "                {&quot;maxZoom&quot;: 7}\n",
              "            );\n",
              "        \n",
              "    \n",
              "            var tile_layer_992af856fdf19e981e84d5a789fb7280 = L.tileLayer(\n",
              "                &quot;https://earthengine.googleapis.com/v1alpha/projects/earthengine-legacy/maps/578be92b539b37d6a3965a9d6217d4c5-de5f4c826c2defb9845b20d54a65f7cd/tiles/{z}/{x}/{y}&quot;,\n",
              "                {&quot;attribution&quot;: &quot;Google Earth Engine&quot;, &quot;detectRetina&quot;: false, &quot;maxNativeZoom&quot;: 24, &quot;maxZoom&quot;: 24, &quot;minZoom&quot;: 0, &quot;noWrap&quot;: false, &quot;opacity&quot;: 1.0, &quot;subdomains&quot;: &quot;abc&quot;, &quot;tms&quot;: false}\n",
              "            ).addTo(map_8de72a599cd76a535300848a0ebea443);\n",
              "        \n",
              "    \n",
              "            var tile_layer_2d89e6d2f67d6d3b8926c2783f3f3ad5 = L.tileLayer(\n",
              "                &quot;https://earthengine.googleapis.com/v1alpha/projects/earthengine-legacy/maps/c636f60cc520f05a30084d08d0df70a4-d2ea3f502aed3301f14518b57eb96ec9/tiles/{z}/{x}/{y}&quot;,\n",
              "                {&quot;attribution&quot;: &quot;Google Earth Engine&quot;, &quot;detectRetina&quot;: false, &quot;maxNativeZoom&quot;: 24, &quot;maxZoom&quot;: 24, &quot;minZoom&quot;: 0, &quot;noWrap&quot;: false, &quot;opacity&quot;: 1.0, &quot;subdomains&quot;: &quot;abc&quot;, &quot;tms&quot;: false}\n",
              "            ).addTo(map_8de72a599cd76a535300848a0ebea443);\n",
              "        \n",
              "    \n",
              "            var tile_layer_bb3562e3b8c27fd1de3b64f9ce66e759 = L.tileLayer(\n",
              "                &quot;https://earthengine.googleapis.com/v1alpha/projects/earthengine-legacy/maps/0480aaa2a94ee8d0674b681ff5784010-247e72d7edf2b29dd3d45d8600cde9e1/tiles/{z}/{x}/{y}&quot;,\n",
              "                {&quot;attribution&quot;: &quot;Google Earth Engine&quot;, &quot;detectRetina&quot;: false, &quot;maxNativeZoom&quot;: 24, &quot;maxZoom&quot;: 24, &quot;minZoom&quot;: 0, &quot;noWrap&quot;: false, &quot;opacity&quot;: 1.0, &quot;subdomains&quot;: &quot;abc&quot;, &quot;tms&quot;: false}\n",
              "            ).addTo(map_8de72a599cd76a535300848a0ebea443);\n",
              "        \n",
              "    \n",
              "            var layer_control_3c675a578915f1ca830d021f1ea5c9cb = {\n",
              "                base_layers : {\n",
              "                    &quot;openstreetmap&quot; : tile_layer_da2b95ee706a12efd7db22d2c5d8a58b,\n",
              "                },\n",
              "                overlays :  {\n",
              "                    &quot;Google Maps&quot; : tile_layer_43dd5f29393cb303a871fbbbb3e06025,\n",
              "                    &quot;Sentinel 1 (water)&quot; : tile_layer_992af856fdf19e981e84d5a789fb7280,\n",
              "                    &quot;Sentinel 1 (flood)&quot; : tile_layer_2d89e6d2f67d6d3b8926c2783f3f3ad5,\n",
              "                    &quot;Region of Interest&quot; : tile_layer_bb3562e3b8c27fd1de3b64f9ce66e759,\n",
              "                },\n",
              "            };\n",
              "            L.control.layers(\n",
              "                layer_control_3c675a578915f1ca830d021f1ea5c9cb.base_layers,\n",
              "                layer_control_3c675a578915f1ca830d021f1ea5c9cb.overlays,\n",
              "                {&quot;autoZIndex&quot;: true, &quot;collapsed&quot;: true, &quot;position&quot;: &quot;topright&quot;}\n",
              "            ).addTo(map_8de72a599cd76a535300848a0ebea443);\n",
              "        \n",
              "&lt;/script&gt;\n",
              "&lt;/html&gt;\" width=\"100%\" height=\"600\"style=\"border:none !important;\" \"allowfullscreen\" \"webkitallowfullscreen\" \"mozallowfullscreen\"></iframe>"
            ]
          },
          "metadata": {},
          "execution_count": 28
        }
      ]
    },
    {
      "cell_type": "markdown",
      "metadata": {
        "id": "DX8EqXQnyTXA"
      },
      "source": [
        "## Using long-term occurrence/Usando la ocurrencia a largo plazo\n",
        "\n",
        "Here we use the full record of JRC observed water and define permanent using a % occurrence threshold."
      ]
    },
    {
      "cell_type": "markdown",
      "source": [
        "Aquí usamos el registro completo de agua observada por el JRC y definimos permanente usando un % de umbral de ocurrencia."
      ],
      "metadata": {
        "id": "_b_7pqNnJb_3"
      }
    },
    {
      "cell_type": "code",
      "metadata": {
        "id": "AfmLWUn8yZQf"
      },
      "source": [
        "# use `extract_flood` function to use JRC data as reference\n",
        "floods_occurrence = hf.extract_flood(water_img,reference=\"occurrence\",permanent_threshold=5)"
      ],
      "execution_count": null,
      "outputs": []
    },
    {
      "cell_type": "code",
      "metadata": {
        "id": "pwjL4n1e_rEn",
        "colab": {
          "base_uri": "https://localhost:8080/",
          "height": 622
        },
        "outputId": "c7e0257c-c3c2-4be9-a79a-87c7919bfe79"
      },
      "source": [
        "# view the results of flood mapping\n",
        "#Map = geemap.Map(center=(-5.2, -80.6), zoom=10)#Peru\n",
        "#Map = geemap.Map(center=(-1.0, -78.8), zoom=9)#Ecuador\n",
        "Map = geemap.Map(center=(-22, -45), zoom=7)#Brasil\n",
        "#Map = geemap.Map(center=(7.6, -73.7), zoom=10)#Colombia\n",
        "\n",
        "Map.addLayer(sar_img,{\"bands\": \"VV\", \"min\":-25, \"max\": 0}, 'Sentinel 1')\n",
        "Map.addLayer(water_img.selfMask(),{\"min\":0,\"max\":1,\"palette\":cm.palettes.Blues}, \"Sentinel 1 (water)\")\n",
        "Map.addLayer(floods_occurrence.selfMask(),{\"min\":0,\"max\":1,\"palette\":\"red\"}, \"Sentinel 1 (flood)\")\n",
        "Map.addLayer(region,{},\"Region of Interest\")\n",
        "Map.addLayerControl()\n",
        "Map"
      ],
      "execution_count": null,
      "outputs": [
        {
          "output_type": "execute_result",
          "data": {
            "text/plain": [
              "<geemap.foliumap.Map at 0x7f7a932f8250>"
            ],
            "text/html": [
              "<iframe srcdoc=\"&lt;!DOCTYPE html&gt;\n",
              "&lt;html&gt;\n",
              "&lt;head&gt;\n",
              "    \n",
              "    &lt;meta http-equiv=&quot;content-type&quot; content=&quot;text/html; charset=UTF-8&quot; /&gt;\n",
              "    \n",
              "        &lt;script&gt;\n",
              "            L_NO_TOUCH = false;\n",
              "            L_DISABLE_3D = false;\n",
              "        &lt;/script&gt;\n",
              "    \n",
              "    &lt;style&gt;html, body {width: 100%;height: 100%;margin: 0;padding: 0;}&lt;/style&gt;\n",
              "    &lt;style&gt;#map {position:absolute;top:0;bottom:0;right:0;left:0;}&lt;/style&gt;\n",
              "    &lt;script src=&quot;https://cdn.jsdelivr.net/npm/leaflet@1.6.0/dist/leaflet.js&quot;&gt;&lt;/script&gt;\n",
              "    &lt;script src=&quot;https://code.jquery.com/jquery-1.12.4.min.js&quot;&gt;&lt;/script&gt;\n",
              "    &lt;script src=&quot;https://maxcdn.bootstrapcdn.com/bootstrap/3.2.0/js/bootstrap.min.js&quot;&gt;&lt;/script&gt;\n",
              "    &lt;script src=&quot;https://cdnjs.cloudflare.com/ajax/libs/Leaflet.awesome-markers/2.0.2/leaflet.awesome-markers.js&quot;&gt;&lt;/script&gt;\n",
              "    &lt;link rel=&quot;stylesheet&quot; href=&quot;https://cdn.jsdelivr.net/npm/leaflet@1.6.0/dist/leaflet.css&quot;/&gt;\n",
              "    &lt;link rel=&quot;stylesheet&quot; href=&quot;https://maxcdn.bootstrapcdn.com/bootstrap/3.2.0/css/bootstrap.min.css&quot;/&gt;\n",
              "    &lt;link rel=&quot;stylesheet&quot; href=&quot;https://maxcdn.bootstrapcdn.com/bootstrap/3.2.0/css/bootstrap-theme.min.css&quot;/&gt;\n",
              "    &lt;link rel=&quot;stylesheet&quot; href=&quot;https://maxcdn.bootstrapcdn.com/font-awesome/4.6.3/css/font-awesome.min.css&quot;/&gt;\n",
              "    &lt;link rel=&quot;stylesheet&quot; href=&quot;https://cdnjs.cloudflare.com/ajax/libs/Leaflet.awesome-markers/2.0.2/leaflet.awesome-markers.css&quot;/&gt;\n",
              "    &lt;link rel=&quot;stylesheet&quot; href=&quot;https://cdn.jsdelivr.net/gh/python-visualization/folium/folium/templates/leaflet.awesome.rotate.min.css&quot;/&gt;\n",
              "    \n",
              "            &lt;meta name=&quot;viewport&quot; content=&quot;width=device-width,\n",
              "                initial-scale=1.0, maximum-scale=1.0, user-scalable=no&quot; /&gt;\n",
              "            &lt;style&gt;\n",
              "                #map_8656213315ef52b07466fc6618a4db1d {\n",
              "                    position: relative;\n",
              "                    width: 100.0%;\n",
              "                    height: 100.0%;\n",
              "                    left: 0.0%;\n",
              "                    top: 0.0%;\n",
              "                }\n",
              "            &lt;/style&gt;\n",
              "        \n",
              "    &lt;script src=&quot;https://cdnjs.cloudflare.com/ajax/libs/leaflet.fullscreen/1.4.2/Control.FullScreen.min.js&quot;&gt;&lt;/script&gt;\n",
              "    &lt;link rel=&quot;stylesheet&quot; href=&quot;https://cdnjs.cloudflare.com/ajax/libs/leaflet.fullscreen/1.4.2/Control.FullScreen.min.css&quot;/&gt;\n",
              "    &lt;script src=&quot;https://cdnjs.cloudflare.com/ajax/libs/leaflet.draw/1.0.2/leaflet.draw.js&quot;&gt;&lt;/script&gt;\n",
              "    &lt;link rel=&quot;stylesheet&quot; href=&quot;https://cdnjs.cloudflare.com/ajax/libs/leaflet.draw/1.0.2/leaflet.draw.css&quot;/&gt;\n",
              "    &lt;script src=&quot;https://unpkg.com/leaflet-control-geocoder/dist/Control.Geocoder.js&quot;&gt;&lt;/script&gt;\n",
              "    &lt;link rel=&quot;stylesheet&quot; href=&quot;https://unpkg.com/leaflet-control-geocoder/dist/Control.Geocoder.css&quot;/&gt;\n",
              "&lt;/head&gt;\n",
              "&lt;body&gt;\n",
              "    \n",
              "    \n",
              "            &lt;div class=&quot;folium-map&quot; id=&quot;map_8656213315ef52b07466fc6618a4db1d&quot; &gt;&lt;/div&gt;\n",
              "        \n",
              "&lt;/body&gt;\n",
              "&lt;script&gt;\n",
              "    \n",
              "    \n",
              "            var map_8656213315ef52b07466fc6618a4db1d = L.map(\n",
              "                &quot;map_8656213315ef52b07466fc6618a4db1d&quot;,\n",
              "                {\n",
              "                    center: [-22.0, -45.0],\n",
              "                    crs: L.CRS.EPSG3857,\n",
              "                    zoom: 7,\n",
              "                    zoomControl: true,\n",
              "                    preferCanvas: false,\n",
              "                    eeInitialize: true,\n",
              "                    addGoogleMap: true,\n",
              "                    pluginLatlngpopup: false,\n",
              "                    pluginFullscreen: true,\n",
              "                    pluginDraw: true,\n",
              "                    DrawExport: false,\n",
              "                    pluginMinimap: false,\n",
              "                    locateControl: false,\n",
              "                    searchControl: true,\n",
              "                    layersControl: true,\n",
              "                }\n",
              "            );\n",
              "\n",
              "            \n",
              "\n",
              "        \n",
              "    \n",
              "            var tile_layer_b2afc96d40af9cadc743f0c42f19b516 = L.tileLayer(\n",
              "                &quot;https://{s}.tile.openstreetmap.org/{z}/{x}/{y}.png&quot;,\n",
              "                {&quot;attribution&quot;: &quot;Data by \\u0026copy; \\u003ca href=\\&quot;http://openstreetmap.org\\&quot;\\u003eOpenStreetMap\\u003c/a\\u003e, under \\u003ca href=\\&quot;http://www.openstreetmap.org/copyright\\&quot;\\u003eODbL\\u003c/a\\u003e.&quot;, &quot;detectRetina&quot;: false, &quot;maxNativeZoom&quot;: 30, &quot;maxZoom&quot;: 30, &quot;minZoom&quot;: 0, &quot;noWrap&quot;: false, &quot;opacity&quot;: 1, &quot;subdomains&quot;: &quot;abc&quot;, &quot;tms&quot;: false}\n",
              "            ).addTo(map_8656213315ef52b07466fc6618a4db1d);\n",
              "        \n",
              "    \n",
              "            var tile_layer_43dd5f29393cb303a871fbbbb3e06025 = L.tileLayer(\n",
              "                &quot;https://mt1.google.com/vt/lyrs=m\\u0026x={x}\\u0026y={y}\\u0026z={z}&quot;,\n",
              "                {&quot;attribution&quot;: &quot;Google&quot;, &quot;detectRetina&quot;: false, &quot;maxNativeZoom&quot;: 22, &quot;maxZoom&quot;: 22, &quot;minZoom&quot;: 0, &quot;noWrap&quot;: false, &quot;opacity&quot;: 1, &quot;subdomains&quot;: &quot;abc&quot;, &quot;tms&quot;: false}\n",
              "            ).addTo(map_8656213315ef52b07466fc6618a4db1d);\n",
              "        \n",
              "    \n",
              "            L.control.fullscreen(\n",
              "                {&quot;forceSeparateButton&quot;: false, &quot;position&quot;: &quot;topleft&quot;, &quot;title&quot;: &quot;Full Screen&quot;, &quot;titleCancel&quot;: &quot;Exit Full Screen&quot;}\n",
              "            ).addTo(map_8656213315ef52b07466fc6618a4db1d);\n",
              "        \n",
              "    \n",
              "            var options = {\n",
              "              position: &quot;topleft&quot;,\n",
              "              draw: {},\n",
              "              edit: {},\n",
              "            }\n",
              "            // FeatureGroup is to store editable layers.\n",
              "            var drawnItems = new L.featureGroup().addTo(\n",
              "                map_8656213315ef52b07466fc6618a4db1d\n",
              "            );\n",
              "            options.edit.featureGroup = drawnItems;\n",
              "            var draw_control_5f50a3a5a49d70e2b65b5bdd660bcfd2 = new L.Control.Draw(\n",
              "                options\n",
              "            ).addTo( map_8656213315ef52b07466fc6618a4db1d );\n",
              "            map_8656213315ef52b07466fc6618a4db1d.on(L.Draw.Event.CREATED, function(e) {\n",
              "                var layer = e.layer,\n",
              "                    type = e.layerType;\n",
              "                var coords = JSON.stringify(layer.toGeoJSON());\n",
              "                layer.on(&#x27;click&#x27;, function() {\n",
              "                    alert(coords);\n",
              "                    console.log(coords);\n",
              "                });\n",
              "                drawnItems.addLayer(layer);\n",
              "             });\n",
              "            map_8656213315ef52b07466fc6618a4db1d.on(&#x27;draw:created&#x27;, function(e) {\n",
              "                drawnItems.addLayer(e.layer);\n",
              "            });\n",
              "            \n",
              "        \n",
              "    \n",
              "            L.Control.geocoder(\n",
              "                {&quot;collapsed&quot;: true, &quot;defaultMarkGeocode&quot;: true, &quot;position&quot;: &quot;topleft&quot;}\n",
              "            ).on(&#x27;markgeocode&#x27;, function(e) {\n",
              "                map_8656213315ef52b07466fc6618a4db1d.setView(e.geocode.center, 11);\n",
              "            }).addTo(map_8656213315ef52b07466fc6618a4db1d);\n",
              "\n",
              "        \n",
              "    \n",
              "            map_8656213315ef52b07466fc6618a4db1d.fitBounds(\n",
              "                [[-22, -45], [-22, -45]],\n",
              "                {&quot;maxZoom&quot;: 7}\n",
              "            );\n",
              "        \n",
              "    \n",
              "            var tile_layer_e47631dd3ab0dbdfcb23bd81f4292d39 = L.tileLayer(\n",
              "                &quot;https://earthengine.googleapis.com/v1alpha/projects/earthengine-legacy/maps/fe8eda6dc7442a0b7e0d074f1bd729af-b5bb53f62410e3efcdd19bc3b7495fed/tiles/{z}/{x}/{y}&quot;,\n",
              "                {&quot;attribution&quot;: &quot;Google Earth Engine&quot;, &quot;detectRetina&quot;: false, &quot;maxNativeZoom&quot;: 24, &quot;maxZoom&quot;: 24, &quot;minZoom&quot;: 0, &quot;noWrap&quot;: false, &quot;opacity&quot;: 1.0, &quot;subdomains&quot;: &quot;abc&quot;, &quot;tms&quot;: false}\n",
              "            ).addTo(map_8656213315ef52b07466fc6618a4db1d);\n",
              "        \n",
              "    \n",
              "            var tile_layer_57857b2a301717527399a2689ee3b2d2 = L.tileLayer(\n",
              "                &quot;https://earthengine.googleapis.com/v1alpha/projects/earthengine-legacy/maps/578be92b539b37d6a3965a9d6217d4c5-e61db182177e913c1f27b8b80254f923/tiles/{z}/{x}/{y}&quot;,\n",
              "                {&quot;attribution&quot;: &quot;Google Earth Engine&quot;, &quot;detectRetina&quot;: false, &quot;maxNativeZoom&quot;: 24, &quot;maxZoom&quot;: 24, &quot;minZoom&quot;: 0, &quot;noWrap&quot;: false, &quot;opacity&quot;: 1.0, &quot;subdomains&quot;: &quot;abc&quot;, &quot;tms&quot;: false}\n",
              "            ).addTo(map_8656213315ef52b07466fc6618a4db1d);\n",
              "        \n",
              "    \n",
              "            var tile_layer_e36c39136ec46286124ef99525522dd6 = L.tileLayer(\n",
              "                &quot;https://earthengine.googleapis.com/v1alpha/projects/earthengine-legacy/maps/3d3c3f072ea083d36ebd31dcb0307562-63063df1a5bea7fe3ced1e2d16463605/tiles/{z}/{x}/{y}&quot;,\n",
              "                {&quot;attribution&quot;: &quot;Google Earth Engine&quot;, &quot;detectRetina&quot;: false, &quot;maxNativeZoom&quot;: 24, &quot;maxZoom&quot;: 24, &quot;minZoom&quot;: 0, &quot;noWrap&quot;: false, &quot;opacity&quot;: 1.0, &quot;subdomains&quot;: &quot;abc&quot;, &quot;tms&quot;: false}\n",
              "            ).addTo(map_8656213315ef52b07466fc6618a4db1d);\n",
              "        \n",
              "    \n",
              "            var tile_layer_663193bcadbf57ff8e723b61f90b0af5 = L.tileLayer(\n",
              "                &quot;https://earthengine.googleapis.com/v1alpha/projects/earthengine-legacy/maps/0480aaa2a94ee8d0674b681ff5784010-90f99a30f7605a822ff150ffc22df913/tiles/{z}/{x}/{y}&quot;,\n",
              "                {&quot;attribution&quot;: &quot;Google Earth Engine&quot;, &quot;detectRetina&quot;: false, &quot;maxNativeZoom&quot;: 24, &quot;maxZoom&quot;: 24, &quot;minZoom&quot;: 0, &quot;noWrap&quot;: false, &quot;opacity&quot;: 1.0, &quot;subdomains&quot;: &quot;abc&quot;, &quot;tms&quot;: false}\n",
              "            ).addTo(map_8656213315ef52b07466fc6618a4db1d);\n",
              "        \n",
              "    \n",
              "            var layer_control_13514bd4e48c0eb2972fdeebfa6d431b = {\n",
              "                base_layers : {\n",
              "                    &quot;openstreetmap&quot; : tile_layer_b2afc96d40af9cadc743f0c42f19b516,\n",
              "                },\n",
              "                overlays :  {\n",
              "                    &quot;Google Maps&quot; : tile_layer_43dd5f29393cb303a871fbbbb3e06025,\n",
              "                    &quot;Sentinel 1&quot; : tile_layer_e47631dd3ab0dbdfcb23bd81f4292d39,\n",
              "                    &quot;Sentinel 1 (water)&quot; : tile_layer_57857b2a301717527399a2689ee3b2d2,\n",
              "                    &quot;Sentinel 1 (flood)&quot; : tile_layer_e36c39136ec46286124ef99525522dd6,\n",
              "                    &quot;Region of Interest&quot; : tile_layer_663193bcadbf57ff8e723b61f90b0af5,\n",
              "                },\n",
              "            };\n",
              "            L.control.layers(\n",
              "                layer_control_13514bd4e48c0eb2972fdeebfa6d431b.base_layers,\n",
              "                layer_control_13514bd4e48c0eb2972fdeebfa6d431b.overlays,\n",
              "                {&quot;autoZIndex&quot;: true, &quot;collapsed&quot;: true, &quot;position&quot;: &quot;topright&quot;}\n",
              "            ).addTo(map_8656213315ef52b07466fc6618a4db1d);\n",
              "        \n",
              "&lt;/script&gt;\n",
              "&lt;/html&gt;\" width=\"100%\" height=\"600\"style=\"border:none !important;\" \"allowfullscreen\" \"webkitallowfullscreen\" \"mozallowfullscreen\"></iframe>"
            ]
          },
          "metadata": {},
          "execution_count": 30
        }
      ]
    },
    {
      "cell_type": "markdown",
      "metadata": {
        "id": "w2xrgkwPyam-"
      },
      "source": [
        "## Using seasonal information / Uso de información estacional\n",
        "\n",
        "Here we will use the occurrence for the month that we observe to remove any effects of seasonality that is present in floods."
      ]
    },
    {
      "cell_type": "markdown",
      "source": [
        "Aquí usaremos la ocurrencia del mes que observamos para eliminar cualquier efecto de estacionalidad que esté presente en las inundaciones."
      ],
      "metadata": {
        "id": "Wte4X7PiKg1Q"
      }
    },
    {
      "cell_type": "code",
      "metadata": {
        "id": "HDfm5dZw_yWa"
      },
      "source": [
        "# use `extract_flood` function to use JRC data as reference\n",
        "floods_seasonal = hf.extract_flood(water_img,reference=\"seasonal\",permanent_threshold=10)"
      ],
      "execution_count": null,
      "outputs": []
    },
    {
      "cell_type": "code",
      "metadata": {
        "id": "5M38te1j_0vG",
        "colab": {
          "base_uri": "https://localhost:8080/",
          "height": 622
        },
        "outputId": "93069558-a9f1-43f4-ae03-258f803280d3"
      },
      "source": [
        "# view the results of flood mapping\n",
        "#Map = geemap.Map(center=(-5.2, -80.6), zoom=10)#Peru\n",
        "#Map = geemap.Map(center=(-1.0, -78.8), zoom=9)#Ecuador\n",
        "Map = geemap.Map(center=(-22, -45), zoom=7)#Brasil\n",
        "#Map = geemap.Map(center=(7.6, -73.7), zoom=10)#Colombia\n",
        "\n",
        "Map.addLayer(sar_img,{\"bands\": \"VV\", \"min\":-25, \"max\": 0}, 'Sentinel 1')\n",
        "Map.addLayer(water_img.selfMask(),{\"min\":0,\"max\":1,\"palette\":cm.palettes.Blues}, \"Sentinel 1 (water)\")\n",
        "Map.addLayer(floods_seasonal.selfMask(),{\"min\":0,\"max\":1,\"palette\":\"red\"}, \"Sentinel 1 (flood)\")\n",
        "Map.addLayer(region,{},\"Region of Interest\")\n",
        "\n",
        "Map.addLayerControl()\n",
        "Map"
      ],
      "execution_count": null,
      "outputs": [
        {
          "output_type": "execute_result",
          "data": {
            "text/plain": [
              "<geemap.foliumap.Map at 0x7f7a93602df0>"
            ],
            "text/html": [
              "<iframe srcdoc=\"&lt;!DOCTYPE html&gt;\n",
              "&lt;html&gt;\n",
              "&lt;head&gt;\n",
              "    \n",
              "    &lt;meta http-equiv=&quot;content-type&quot; content=&quot;text/html; charset=UTF-8&quot; /&gt;\n",
              "    \n",
              "        &lt;script&gt;\n",
              "            L_NO_TOUCH = false;\n",
              "            L_DISABLE_3D = false;\n",
              "        &lt;/script&gt;\n",
              "    \n",
              "    &lt;style&gt;html, body {width: 100%;height: 100%;margin: 0;padding: 0;}&lt;/style&gt;\n",
              "    &lt;style&gt;#map {position:absolute;top:0;bottom:0;right:0;left:0;}&lt;/style&gt;\n",
              "    &lt;script src=&quot;https://cdn.jsdelivr.net/npm/leaflet@1.6.0/dist/leaflet.js&quot;&gt;&lt;/script&gt;\n",
              "    &lt;script src=&quot;https://code.jquery.com/jquery-1.12.4.min.js&quot;&gt;&lt;/script&gt;\n",
              "    &lt;script src=&quot;https://maxcdn.bootstrapcdn.com/bootstrap/3.2.0/js/bootstrap.min.js&quot;&gt;&lt;/script&gt;\n",
              "    &lt;script src=&quot;https://cdnjs.cloudflare.com/ajax/libs/Leaflet.awesome-markers/2.0.2/leaflet.awesome-markers.js&quot;&gt;&lt;/script&gt;\n",
              "    &lt;link rel=&quot;stylesheet&quot; href=&quot;https://cdn.jsdelivr.net/npm/leaflet@1.6.0/dist/leaflet.css&quot;/&gt;\n",
              "    &lt;link rel=&quot;stylesheet&quot; href=&quot;https://maxcdn.bootstrapcdn.com/bootstrap/3.2.0/css/bootstrap.min.css&quot;/&gt;\n",
              "    &lt;link rel=&quot;stylesheet&quot; href=&quot;https://maxcdn.bootstrapcdn.com/bootstrap/3.2.0/css/bootstrap-theme.min.css&quot;/&gt;\n",
              "    &lt;link rel=&quot;stylesheet&quot; href=&quot;https://maxcdn.bootstrapcdn.com/font-awesome/4.6.3/css/font-awesome.min.css&quot;/&gt;\n",
              "    &lt;link rel=&quot;stylesheet&quot; href=&quot;https://cdnjs.cloudflare.com/ajax/libs/Leaflet.awesome-markers/2.0.2/leaflet.awesome-markers.css&quot;/&gt;\n",
              "    &lt;link rel=&quot;stylesheet&quot; href=&quot;https://cdn.jsdelivr.net/gh/python-visualization/folium/folium/templates/leaflet.awesome.rotate.min.css&quot;/&gt;\n",
              "    \n",
              "            &lt;meta name=&quot;viewport&quot; content=&quot;width=device-width,\n",
              "                initial-scale=1.0, maximum-scale=1.0, user-scalable=no&quot; /&gt;\n",
              "            &lt;style&gt;\n",
              "                #map_5bc3633d4c684d1f8089374e7e1ed046 {\n",
              "                    position: relative;\n",
              "                    width: 100.0%;\n",
              "                    height: 100.0%;\n",
              "                    left: 0.0%;\n",
              "                    top: 0.0%;\n",
              "                }\n",
              "            &lt;/style&gt;\n",
              "        \n",
              "    &lt;script src=&quot;https://cdnjs.cloudflare.com/ajax/libs/leaflet.fullscreen/1.4.2/Control.FullScreen.min.js&quot;&gt;&lt;/script&gt;\n",
              "    &lt;link rel=&quot;stylesheet&quot; href=&quot;https://cdnjs.cloudflare.com/ajax/libs/leaflet.fullscreen/1.4.2/Control.FullScreen.min.css&quot;/&gt;\n",
              "    &lt;script src=&quot;https://cdnjs.cloudflare.com/ajax/libs/leaflet.draw/1.0.2/leaflet.draw.js&quot;&gt;&lt;/script&gt;\n",
              "    &lt;link rel=&quot;stylesheet&quot; href=&quot;https://cdnjs.cloudflare.com/ajax/libs/leaflet.draw/1.0.2/leaflet.draw.css&quot;/&gt;\n",
              "    &lt;script src=&quot;https://unpkg.com/leaflet-control-geocoder/dist/Control.Geocoder.js&quot;&gt;&lt;/script&gt;\n",
              "    &lt;link rel=&quot;stylesheet&quot; href=&quot;https://unpkg.com/leaflet-control-geocoder/dist/Control.Geocoder.css&quot;/&gt;\n",
              "&lt;/head&gt;\n",
              "&lt;body&gt;\n",
              "    \n",
              "    \n",
              "            &lt;div class=&quot;folium-map&quot; id=&quot;map_5bc3633d4c684d1f8089374e7e1ed046&quot; &gt;&lt;/div&gt;\n",
              "        \n",
              "&lt;/body&gt;\n",
              "&lt;script&gt;\n",
              "    \n",
              "    \n",
              "            var map_5bc3633d4c684d1f8089374e7e1ed046 = L.map(\n",
              "                &quot;map_5bc3633d4c684d1f8089374e7e1ed046&quot;,\n",
              "                {\n",
              "                    center: [-22.0, -45.0],\n",
              "                    crs: L.CRS.EPSG3857,\n",
              "                    zoom: 7,\n",
              "                    zoomControl: true,\n",
              "                    preferCanvas: false,\n",
              "                    eeInitialize: true,\n",
              "                    addGoogleMap: true,\n",
              "                    pluginLatlngpopup: false,\n",
              "                    pluginFullscreen: true,\n",
              "                    pluginDraw: true,\n",
              "                    DrawExport: false,\n",
              "                    pluginMinimap: false,\n",
              "                    locateControl: false,\n",
              "                    searchControl: true,\n",
              "                    layersControl: true,\n",
              "                }\n",
              "            );\n",
              "\n",
              "            \n",
              "\n",
              "        \n",
              "    \n",
              "            var tile_layer_bb0a1f9815a73c2fd858d9a99e74f31b = L.tileLayer(\n",
              "                &quot;https://{s}.tile.openstreetmap.org/{z}/{x}/{y}.png&quot;,\n",
              "                {&quot;attribution&quot;: &quot;Data by \\u0026copy; \\u003ca href=\\&quot;http://openstreetmap.org\\&quot;\\u003eOpenStreetMap\\u003c/a\\u003e, under \\u003ca href=\\&quot;http://www.openstreetmap.org/copyright\\&quot;\\u003eODbL\\u003c/a\\u003e.&quot;, &quot;detectRetina&quot;: false, &quot;maxNativeZoom&quot;: 30, &quot;maxZoom&quot;: 30, &quot;minZoom&quot;: 0, &quot;noWrap&quot;: false, &quot;opacity&quot;: 1, &quot;subdomains&quot;: &quot;abc&quot;, &quot;tms&quot;: false}\n",
              "            ).addTo(map_5bc3633d4c684d1f8089374e7e1ed046);\n",
              "        \n",
              "    \n",
              "            var tile_layer_43dd5f29393cb303a871fbbbb3e06025 = L.tileLayer(\n",
              "                &quot;https://mt1.google.com/vt/lyrs=m\\u0026x={x}\\u0026y={y}\\u0026z={z}&quot;,\n",
              "                {&quot;attribution&quot;: &quot;Google&quot;, &quot;detectRetina&quot;: false, &quot;maxNativeZoom&quot;: 22, &quot;maxZoom&quot;: 22, &quot;minZoom&quot;: 0, &quot;noWrap&quot;: false, &quot;opacity&quot;: 1, &quot;subdomains&quot;: &quot;abc&quot;, &quot;tms&quot;: false}\n",
              "            ).addTo(map_5bc3633d4c684d1f8089374e7e1ed046);\n",
              "        \n",
              "    \n",
              "            L.control.fullscreen(\n",
              "                {&quot;forceSeparateButton&quot;: false, &quot;position&quot;: &quot;topleft&quot;, &quot;title&quot;: &quot;Full Screen&quot;, &quot;titleCancel&quot;: &quot;Exit Full Screen&quot;}\n",
              "            ).addTo(map_5bc3633d4c684d1f8089374e7e1ed046);\n",
              "        \n",
              "    \n",
              "            var options = {\n",
              "              position: &quot;topleft&quot;,\n",
              "              draw: {},\n",
              "              edit: {},\n",
              "            }\n",
              "            // FeatureGroup is to store editable layers.\n",
              "            var drawnItems = new L.featureGroup().addTo(\n",
              "                map_5bc3633d4c684d1f8089374e7e1ed046\n",
              "            );\n",
              "            options.edit.featureGroup = drawnItems;\n",
              "            var draw_control_e1adeb5d559f415ba8c81d191c305969 = new L.Control.Draw(\n",
              "                options\n",
              "            ).addTo( map_5bc3633d4c684d1f8089374e7e1ed046 );\n",
              "            map_5bc3633d4c684d1f8089374e7e1ed046.on(L.Draw.Event.CREATED, function(e) {\n",
              "                var layer = e.layer,\n",
              "                    type = e.layerType;\n",
              "                var coords = JSON.stringify(layer.toGeoJSON());\n",
              "                layer.on(&#x27;click&#x27;, function() {\n",
              "                    alert(coords);\n",
              "                    console.log(coords);\n",
              "                });\n",
              "                drawnItems.addLayer(layer);\n",
              "             });\n",
              "            map_5bc3633d4c684d1f8089374e7e1ed046.on(&#x27;draw:created&#x27;, function(e) {\n",
              "                drawnItems.addLayer(e.layer);\n",
              "            });\n",
              "            \n",
              "        \n",
              "    \n",
              "            L.Control.geocoder(\n",
              "                {&quot;collapsed&quot;: true, &quot;defaultMarkGeocode&quot;: true, &quot;position&quot;: &quot;topleft&quot;}\n",
              "            ).on(&#x27;markgeocode&#x27;, function(e) {\n",
              "                map_5bc3633d4c684d1f8089374e7e1ed046.setView(e.geocode.center, 11);\n",
              "            }).addTo(map_5bc3633d4c684d1f8089374e7e1ed046);\n",
              "\n",
              "        \n",
              "    \n",
              "            map_5bc3633d4c684d1f8089374e7e1ed046.fitBounds(\n",
              "                [[-22, -45], [-22, -45]],\n",
              "                {&quot;maxZoom&quot;: 7}\n",
              "            );\n",
              "        \n",
              "    \n",
              "            var tile_layer_e1b265b073ff9e593d586e1e1ce31e0e = L.tileLayer(\n",
              "                &quot;https://earthengine.googleapis.com/v1alpha/projects/earthengine-legacy/maps/fe8eda6dc7442a0b7e0d074f1bd729af-ff1bd5a604e9502b9f7d182da77b0237/tiles/{z}/{x}/{y}&quot;,\n",
              "                {&quot;attribution&quot;: &quot;Google Earth Engine&quot;, &quot;detectRetina&quot;: false, &quot;maxNativeZoom&quot;: 24, &quot;maxZoom&quot;: 24, &quot;minZoom&quot;: 0, &quot;noWrap&quot;: false, &quot;opacity&quot;: 1.0, &quot;subdomains&quot;: &quot;abc&quot;, &quot;tms&quot;: false}\n",
              "            ).addTo(map_5bc3633d4c684d1f8089374e7e1ed046);\n",
              "        \n",
              "    \n",
              "            var tile_layer_40f08d4837c6893844a78e837cc7e288 = L.tileLayer(\n",
              "                &quot;https://earthengine.googleapis.com/v1alpha/projects/earthengine-legacy/maps/578be92b539b37d6a3965a9d6217d4c5-65844630ece7c4e0b5b8800ed4651582/tiles/{z}/{x}/{y}&quot;,\n",
              "                {&quot;attribution&quot;: &quot;Google Earth Engine&quot;, &quot;detectRetina&quot;: false, &quot;maxNativeZoom&quot;: 24, &quot;maxZoom&quot;: 24, &quot;minZoom&quot;: 0, &quot;noWrap&quot;: false, &quot;opacity&quot;: 1.0, &quot;subdomains&quot;: &quot;abc&quot;, &quot;tms&quot;: false}\n",
              "            ).addTo(map_5bc3633d4c684d1f8089374e7e1ed046);\n",
              "        \n",
              "    \n",
              "            var tile_layer_fe44175d8feb6b966056450efcb0d87e = L.tileLayer(\n",
              "                &quot;https://earthengine.googleapis.com/v1alpha/projects/earthengine-legacy/maps/86af8291b37567cef9da8f4e866d0b8f-3688930fb6bc59403f8e1759f79d6d37/tiles/{z}/{x}/{y}&quot;,\n",
              "                {&quot;attribution&quot;: &quot;Google Earth Engine&quot;, &quot;detectRetina&quot;: false, &quot;maxNativeZoom&quot;: 24, &quot;maxZoom&quot;: 24, &quot;minZoom&quot;: 0, &quot;noWrap&quot;: false, &quot;opacity&quot;: 1.0, &quot;subdomains&quot;: &quot;abc&quot;, &quot;tms&quot;: false}\n",
              "            ).addTo(map_5bc3633d4c684d1f8089374e7e1ed046);\n",
              "        \n",
              "    \n",
              "            var tile_layer_8606d5ab293cec846eb2bb19a094363a = L.tileLayer(\n",
              "                &quot;https://earthengine.googleapis.com/v1alpha/projects/earthengine-legacy/maps/0480aaa2a94ee8d0674b681ff5784010-995ee8643ff412c1f29014c557a3a037/tiles/{z}/{x}/{y}&quot;,\n",
              "                {&quot;attribution&quot;: &quot;Google Earth Engine&quot;, &quot;detectRetina&quot;: false, &quot;maxNativeZoom&quot;: 24, &quot;maxZoom&quot;: 24, &quot;minZoom&quot;: 0, &quot;noWrap&quot;: false, &quot;opacity&quot;: 1.0, &quot;subdomains&quot;: &quot;abc&quot;, &quot;tms&quot;: false}\n",
              "            ).addTo(map_5bc3633d4c684d1f8089374e7e1ed046);\n",
              "        \n",
              "    \n",
              "            var layer_control_58369dcf03a6177ea5762dbfd16a2f50 = {\n",
              "                base_layers : {\n",
              "                    &quot;openstreetmap&quot; : tile_layer_bb0a1f9815a73c2fd858d9a99e74f31b,\n",
              "                },\n",
              "                overlays :  {\n",
              "                    &quot;Google Maps&quot; : tile_layer_43dd5f29393cb303a871fbbbb3e06025,\n",
              "                    &quot;Sentinel 1&quot; : tile_layer_e1b265b073ff9e593d586e1e1ce31e0e,\n",
              "                    &quot;Sentinel 1 (water)&quot; : tile_layer_40f08d4837c6893844a78e837cc7e288,\n",
              "                    &quot;Sentinel 1 (flood)&quot; : tile_layer_fe44175d8feb6b966056450efcb0d87e,\n",
              "                    &quot;Region of Interest&quot; : tile_layer_8606d5ab293cec846eb2bb19a094363a,\n",
              "                },\n",
              "            };\n",
              "            L.control.layers(\n",
              "                layer_control_58369dcf03a6177ea5762dbfd16a2f50.base_layers,\n",
              "                layer_control_58369dcf03a6177ea5762dbfd16a2f50.overlays,\n",
              "                {&quot;autoZIndex&quot;: true, &quot;collapsed&quot;: true, &quot;position&quot;: &quot;topright&quot;}\n",
              "            ).addTo(map_5bc3633d4c684d1f8089374e7e1ed046);\n",
              "        \n",
              "&lt;/script&gt;\n",
              "&lt;/html&gt;\" width=\"100%\" height=\"600\"style=\"border:none !important;\" \"allowfullscreen\" \"webkitallowfullscreen\" \"mozallowfullscreen\"></iframe>"
            ]
          },
          "metadata": {},
          "execution_count": 32
        }
      ]
    },
    {
      "cell_type": "markdown",
      "metadata": {
        "id": "soQkE5WRAR7X"
      },
      "source": [
        "## Comparing the different approaches / Comparando los diferentes enfoques"
      ]
    },
    {
      "cell_type": "code",
      "metadata": {
        "id": "nHnZzAAHARUp",
        "colab": {
          "base_uri": "https://localhost:8080/",
          "height": 622
        },
        "outputId": "a2fab3aa-46d5-4f1f-de4f-750a44b6750d"
      },
      "source": [
        "# view the results of flood mapping\n",
        "\n",
        "#Map = geemap.Map(center=(-5.2, -80.6), zoom=10)#Peru\n",
        "#Map = geemap.Map(center=(-1.0, -78.8), zoom=9)#Ecuador\n",
        "Map = geemap.Map(center=(-22, -45), zoom=7)#Brasil\n",
        "#Map = geemap.Map(center=(7.6, -73.7), zoom=10)#Colombia\n",
        "\n",
        "Map.addLayer(sar_img,{\"bands\": \"VV\", \"min\":-25, \"max\": 0}, 'Sentinel 1')\n",
        "Map.addLayer(water_img.selfMask(),{\"min\":0,\"max\":1,\"palette\":cm.palettes.Blues}, \"Sentinel 1 (water2)\")\n",
        "Map.addLayer(floods_yearly.selfMask(),{\"min\":0,\"max\":1,\"palette\":\"#FF7F7F\"}, \"Sentinel 1 (yearly)\")\n",
        "Map.addLayer(floods_occurrence.selfMask(),{\"min\":0,\"max\":1,\"palette\":\"red\"}, \"Sentinel 1 (ocurrence)\")\n",
        "Map.addLayer(floods_seasonal.selfMask(),{\"min\":0,\"max\":1,\"palette\":\"darkred\"}, \"Sentinel 1 (seasonal)\")\n",
        "Map.addLayer(region,{},\"Region of Interest\")\n",
        "\n",
        "Map.addLayerControl()\n",
        "Map"
      ],
      "execution_count": null,
      "outputs": [
        {
          "output_type": "execute_result",
          "data": {
            "text/plain": [
              "<geemap.foliumap.Map at 0x7f7a935a4670>"
            ],
            "text/html": [
              "<iframe srcdoc=\"&lt;!DOCTYPE html&gt;\n",
              "&lt;html&gt;\n",
              "&lt;head&gt;\n",
              "    \n",
              "    &lt;meta http-equiv=&quot;content-type&quot; content=&quot;text/html; charset=UTF-8&quot; /&gt;\n",
              "    \n",
              "        &lt;script&gt;\n",
              "            L_NO_TOUCH = false;\n",
              "            L_DISABLE_3D = false;\n",
              "        &lt;/script&gt;\n",
              "    \n",
              "    &lt;style&gt;html, body {width: 100%;height: 100%;margin: 0;padding: 0;}&lt;/style&gt;\n",
              "    &lt;style&gt;#map {position:absolute;top:0;bottom:0;right:0;left:0;}&lt;/style&gt;\n",
              "    &lt;script src=&quot;https://cdn.jsdelivr.net/npm/leaflet@1.6.0/dist/leaflet.js&quot;&gt;&lt;/script&gt;\n",
              "    &lt;script src=&quot;https://code.jquery.com/jquery-1.12.4.min.js&quot;&gt;&lt;/script&gt;\n",
              "    &lt;script src=&quot;https://maxcdn.bootstrapcdn.com/bootstrap/3.2.0/js/bootstrap.min.js&quot;&gt;&lt;/script&gt;\n",
              "    &lt;script src=&quot;https://cdnjs.cloudflare.com/ajax/libs/Leaflet.awesome-markers/2.0.2/leaflet.awesome-markers.js&quot;&gt;&lt;/script&gt;\n",
              "    &lt;link rel=&quot;stylesheet&quot; href=&quot;https://cdn.jsdelivr.net/npm/leaflet@1.6.0/dist/leaflet.css&quot;/&gt;\n",
              "    &lt;link rel=&quot;stylesheet&quot; href=&quot;https://maxcdn.bootstrapcdn.com/bootstrap/3.2.0/css/bootstrap.min.css&quot;/&gt;\n",
              "    &lt;link rel=&quot;stylesheet&quot; href=&quot;https://maxcdn.bootstrapcdn.com/bootstrap/3.2.0/css/bootstrap-theme.min.css&quot;/&gt;\n",
              "    &lt;link rel=&quot;stylesheet&quot; href=&quot;https://maxcdn.bootstrapcdn.com/font-awesome/4.6.3/css/font-awesome.min.css&quot;/&gt;\n",
              "    &lt;link rel=&quot;stylesheet&quot; href=&quot;https://cdnjs.cloudflare.com/ajax/libs/Leaflet.awesome-markers/2.0.2/leaflet.awesome-markers.css&quot;/&gt;\n",
              "    &lt;link rel=&quot;stylesheet&quot; href=&quot;https://cdn.jsdelivr.net/gh/python-visualization/folium/folium/templates/leaflet.awesome.rotate.min.css&quot;/&gt;\n",
              "    \n",
              "            &lt;meta name=&quot;viewport&quot; content=&quot;width=device-width,\n",
              "                initial-scale=1.0, maximum-scale=1.0, user-scalable=no&quot; /&gt;\n",
              "            &lt;style&gt;\n",
              "                #map_ad0617cf6141ab284e086338afda1cf3 {\n",
              "                    position: relative;\n",
              "                    width: 100.0%;\n",
              "                    height: 100.0%;\n",
              "                    left: 0.0%;\n",
              "                    top: 0.0%;\n",
              "                }\n",
              "            &lt;/style&gt;\n",
              "        \n",
              "    &lt;script src=&quot;https://cdnjs.cloudflare.com/ajax/libs/leaflet.fullscreen/1.4.2/Control.FullScreen.min.js&quot;&gt;&lt;/script&gt;\n",
              "    &lt;link rel=&quot;stylesheet&quot; href=&quot;https://cdnjs.cloudflare.com/ajax/libs/leaflet.fullscreen/1.4.2/Control.FullScreen.min.css&quot;/&gt;\n",
              "    &lt;script src=&quot;https://cdnjs.cloudflare.com/ajax/libs/leaflet.draw/1.0.2/leaflet.draw.js&quot;&gt;&lt;/script&gt;\n",
              "    &lt;link rel=&quot;stylesheet&quot; href=&quot;https://cdnjs.cloudflare.com/ajax/libs/leaflet.draw/1.0.2/leaflet.draw.css&quot;/&gt;\n",
              "    &lt;script src=&quot;https://unpkg.com/leaflet-control-geocoder/dist/Control.Geocoder.js&quot;&gt;&lt;/script&gt;\n",
              "    &lt;link rel=&quot;stylesheet&quot; href=&quot;https://unpkg.com/leaflet-control-geocoder/dist/Control.Geocoder.css&quot;/&gt;\n",
              "&lt;/head&gt;\n",
              "&lt;body&gt;\n",
              "    \n",
              "    \n",
              "            &lt;div class=&quot;folium-map&quot; id=&quot;map_ad0617cf6141ab284e086338afda1cf3&quot; &gt;&lt;/div&gt;\n",
              "        \n",
              "&lt;/body&gt;\n",
              "&lt;script&gt;\n",
              "    \n",
              "    \n",
              "            var map_ad0617cf6141ab284e086338afda1cf3 = L.map(\n",
              "                &quot;map_ad0617cf6141ab284e086338afda1cf3&quot;,\n",
              "                {\n",
              "                    center: [-22.0, -45.0],\n",
              "                    crs: L.CRS.EPSG3857,\n",
              "                    zoom: 7,\n",
              "                    zoomControl: true,\n",
              "                    preferCanvas: false,\n",
              "                    eeInitialize: true,\n",
              "                    addGoogleMap: true,\n",
              "                    pluginLatlngpopup: false,\n",
              "                    pluginFullscreen: true,\n",
              "                    pluginDraw: true,\n",
              "                    DrawExport: false,\n",
              "                    pluginMinimap: false,\n",
              "                    locateControl: false,\n",
              "                    searchControl: true,\n",
              "                    layersControl: true,\n",
              "                }\n",
              "            );\n",
              "\n",
              "            \n",
              "\n",
              "        \n",
              "    \n",
              "            var tile_layer_4a605edb2b3ff5ac7efe36f0ac58abc3 = L.tileLayer(\n",
              "                &quot;https://{s}.tile.openstreetmap.org/{z}/{x}/{y}.png&quot;,\n",
              "                {&quot;attribution&quot;: &quot;Data by \\u0026copy; \\u003ca href=\\&quot;http://openstreetmap.org\\&quot;\\u003eOpenStreetMap\\u003c/a\\u003e, under \\u003ca href=\\&quot;http://www.openstreetmap.org/copyright\\&quot;\\u003eODbL\\u003c/a\\u003e.&quot;, &quot;detectRetina&quot;: false, &quot;maxNativeZoom&quot;: 30, &quot;maxZoom&quot;: 30, &quot;minZoom&quot;: 0, &quot;noWrap&quot;: false, &quot;opacity&quot;: 1, &quot;subdomains&quot;: &quot;abc&quot;, &quot;tms&quot;: false}\n",
              "            ).addTo(map_ad0617cf6141ab284e086338afda1cf3);\n",
              "        \n",
              "    \n",
              "            var tile_layer_43dd5f29393cb303a871fbbbb3e06025 = L.tileLayer(\n",
              "                &quot;https://mt1.google.com/vt/lyrs=m\\u0026x={x}\\u0026y={y}\\u0026z={z}&quot;,\n",
              "                {&quot;attribution&quot;: &quot;Google&quot;, &quot;detectRetina&quot;: false, &quot;maxNativeZoom&quot;: 22, &quot;maxZoom&quot;: 22, &quot;minZoom&quot;: 0, &quot;noWrap&quot;: false, &quot;opacity&quot;: 1, &quot;subdomains&quot;: &quot;abc&quot;, &quot;tms&quot;: false}\n",
              "            ).addTo(map_ad0617cf6141ab284e086338afda1cf3);\n",
              "        \n",
              "    \n",
              "            L.control.fullscreen(\n",
              "                {&quot;forceSeparateButton&quot;: false, &quot;position&quot;: &quot;topleft&quot;, &quot;title&quot;: &quot;Full Screen&quot;, &quot;titleCancel&quot;: &quot;Exit Full Screen&quot;}\n",
              "            ).addTo(map_ad0617cf6141ab284e086338afda1cf3);\n",
              "        \n",
              "    \n",
              "            var options = {\n",
              "              position: &quot;topleft&quot;,\n",
              "              draw: {},\n",
              "              edit: {},\n",
              "            }\n",
              "            // FeatureGroup is to store editable layers.\n",
              "            var drawnItems = new L.featureGroup().addTo(\n",
              "                map_ad0617cf6141ab284e086338afda1cf3\n",
              "            );\n",
              "            options.edit.featureGroup = drawnItems;\n",
              "            var draw_control_b1dc0665ec088c6f7f691e2dc7cfdfef = new L.Control.Draw(\n",
              "                options\n",
              "            ).addTo( map_ad0617cf6141ab284e086338afda1cf3 );\n",
              "            map_ad0617cf6141ab284e086338afda1cf3.on(L.Draw.Event.CREATED, function(e) {\n",
              "                var layer = e.layer,\n",
              "                    type = e.layerType;\n",
              "                var coords = JSON.stringify(layer.toGeoJSON());\n",
              "                layer.on(&#x27;click&#x27;, function() {\n",
              "                    alert(coords);\n",
              "                    console.log(coords);\n",
              "                });\n",
              "                drawnItems.addLayer(layer);\n",
              "             });\n",
              "            map_ad0617cf6141ab284e086338afda1cf3.on(&#x27;draw:created&#x27;, function(e) {\n",
              "                drawnItems.addLayer(e.layer);\n",
              "            });\n",
              "            \n",
              "        \n",
              "    \n",
              "            L.Control.geocoder(\n",
              "                {&quot;collapsed&quot;: true, &quot;defaultMarkGeocode&quot;: true, &quot;position&quot;: &quot;topleft&quot;}\n",
              "            ).on(&#x27;markgeocode&#x27;, function(e) {\n",
              "                map_ad0617cf6141ab284e086338afda1cf3.setView(e.geocode.center, 11);\n",
              "            }).addTo(map_ad0617cf6141ab284e086338afda1cf3);\n",
              "\n",
              "        \n",
              "    \n",
              "            map_ad0617cf6141ab284e086338afda1cf3.fitBounds(\n",
              "                [[-22, -45], [-22, -45]],\n",
              "                {&quot;maxZoom&quot;: 7}\n",
              "            );\n",
              "        \n",
              "    \n",
              "            var tile_layer_44eb8ea91b20700a6cce46dcf16bc373 = L.tileLayer(\n",
              "                &quot;https://earthengine.googleapis.com/v1alpha/projects/earthengine-legacy/maps/fe8eda6dc7442a0b7e0d074f1bd729af-46a932272fde6d9f5f92fce4c9a1f7ce/tiles/{z}/{x}/{y}&quot;,\n",
              "                {&quot;attribution&quot;: &quot;Google Earth Engine&quot;, &quot;detectRetina&quot;: false, &quot;maxNativeZoom&quot;: 24, &quot;maxZoom&quot;: 24, &quot;minZoom&quot;: 0, &quot;noWrap&quot;: false, &quot;opacity&quot;: 1.0, &quot;subdomains&quot;: &quot;abc&quot;, &quot;tms&quot;: false}\n",
              "            ).addTo(map_ad0617cf6141ab284e086338afda1cf3);\n",
              "        \n",
              "    \n",
              "            var tile_layer_ff91a764eeb45de012faaaabe86a94ee = L.tileLayer(\n",
              "                &quot;https://earthengine.googleapis.com/v1alpha/projects/earthengine-legacy/maps/578be92b539b37d6a3965a9d6217d4c5-76309cadb63f22e01e636cfc88f9d05d/tiles/{z}/{x}/{y}&quot;,\n",
              "                {&quot;attribution&quot;: &quot;Google Earth Engine&quot;, &quot;detectRetina&quot;: false, &quot;maxNativeZoom&quot;: 24, &quot;maxZoom&quot;: 24, &quot;minZoom&quot;: 0, &quot;noWrap&quot;: false, &quot;opacity&quot;: 1.0, &quot;subdomains&quot;: &quot;abc&quot;, &quot;tms&quot;: false}\n",
              "            ).addTo(map_ad0617cf6141ab284e086338afda1cf3);\n",
              "        \n",
              "    \n",
              "            var tile_layer_70be9c307d860193e69754d8e20bfa1c = L.tileLayer(\n",
              "                &quot;https://earthengine.googleapis.com/v1alpha/projects/earthengine-legacy/maps/0a3c6d9ab7c22104279084a62e7e067e-d2c24900db81ec6783c1cdf1f8ee88ce/tiles/{z}/{x}/{y}&quot;,\n",
              "                {&quot;attribution&quot;: &quot;Google Earth Engine&quot;, &quot;detectRetina&quot;: false, &quot;maxNativeZoom&quot;: 24, &quot;maxZoom&quot;: 24, &quot;minZoom&quot;: 0, &quot;noWrap&quot;: false, &quot;opacity&quot;: 1.0, &quot;subdomains&quot;: &quot;abc&quot;, &quot;tms&quot;: false}\n",
              "            ).addTo(map_ad0617cf6141ab284e086338afda1cf3);\n",
              "        \n",
              "    \n",
              "            var tile_layer_f25e4ab45dbd96df6503bb44a9e685c2 = L.tileLayer(\n",
              "                &quot;https://earthengine.googleapis.com/v1alpha/projects/earthengine-legacy/maps/3d3c3f072ea083d36ebd31dcb0307562-7ad5b45518cf20d242d67e5fe9458950/tiles/{z}/{x}/{y}&quot;,\n",
              "                {&quot;attribution&quot;: &quot;Google Earth Engine&quot;, &quot;detectRetina&quot;: false, &quot;maxNativeZoom&quot;: 24, &quot;maxZoom&quot;: 24, &quot;minZoom&quot;: 0, &quot;noWrap&quot;: false, &quot;opacity&quot;: 1.0, &quot;subdomains&quot;: &quot;abc&quot;, &quot;tms&quot;: false}\n",
              "            ).addTo(map_ad0617cf6141ab284e086338afda1cf3);\n",
              "        \n",
              "    \n",
              "            var tile_layer_b21dd8f9a77b288f7a9c80aa2c9b50c2 = L.tileLayer(\n",
              "                &quot;https://earthengine.googleapis.com/v1alpha/projects/earthengine-legacy/maps/a1e7e6b2d1f53e651fb88afb50e9edd6-58e274e89121d1c0a46491923a74f08d/tiles/{z}/{x}/{y}&quot;,\n",
              "                {&quot;attribution&quot;: &quot;Google Earth Engine&quot;, &quot;detectRetina&quot;: false, &quot;maxNativeZoom&quot;: 24, &quot;maxZoom&quot;: 24, &quot;minZoom&quot;: 0, &quot;noWrap&quot;: false, &quot;opacity&quot;: 1.0, &quot;subdomains&quot;: &quot;abc&quot;, &quot;tms&quot;: false}\n",
              "            ).addTo(map_ad0617cf6141ab284e086338afda1cf3);\n",
              "        \n",
              "    \n",
              "            var tile_layer_dca64f6a99d49a6cdf6e5dcac1780b7f = L.tileLayer(\n",
              "                &quot;https://earthengine.googleapis.com/v1alpha/projects/earthengine-legacy/maps/0480aaa2a94ee8d0674b681ff5784010-7fd596003ae7026fe927cefc4269aff5/tiles/{z}/{x}/{y}&quot;,\n",
              "                {&quot;attribution&quot;: &quot;Google Earth Engine&quot;, &quot;detectRetina&quot;: false, &quot;maxNativeZoom&quot;: 24, &quot;maxZoom&quot;: 24, &quot;minZoom&quot;: 0, &quot;noWrap&quot;: false, &quot;opacity&quot;: 1.0, &quot;subdomains&quot;: &quot;abc&quot;, &quot;tms&quot;: false}\n",
              "            ).addTo(map_ad0617cf6141ab284e086338afda1cf3);\n",
              "        \n",
              "    \n",
              "            var layer_control_b3a0f44a4a5c3fec2f69e59bc1661395 = {\n",
              "                base_layers : {\n",
              "                    &quot;openstreetmap&quot; : tile_layer_4a605edb2b3ff5ac7efe36f0ac58abc3,\n",
              "                },\n",
              "                overlays :  {\n",
              "                    &quot;Google Maps&quot; : tile_layer_43dd5f29393cb303a871fbbbb3e06025,\n",
              "                    &quot;Sentinel 1&quot; : tile_layer_44eb8ea91b20700a6cce46dcf16bc373,\n",
              "                    &quot;Sentinel 1 (water2)&quot; : tile_layer_ff91a764eeb45de012faaaabe86a94ee,\n",
              "                    &quot;Sentinel 1 (yearly)&quot; : tile_layer_70be9c307d860193e69754d8e20bfa1c,\n",
              "                    &quot;Sentinel 1 (ocurrence)&quot; : tile_layer_f25e4ab45dbd96df6503bb44a9e685c2,\n",
              "                    &quot;Sentinel 1 (seasonal)&quot; : tile_layer_b21dd8f9a77b288f7a9c80aa2c9b50c2,\n",
              "                    &quot;Region of Interest&quot; : tile_layer_dca64f6a99d49a6cdf6e5dcac1780b7f,\n",
              "                },\n",
              "            };\n",
              "            L.control.layers(\n",
              "                layer_control_b3a0f44a4a5c3fec2f69e59bc1661395.base_layers,\n",
              "                layer_control_b3a0f44a4a5c3fec2f69e59bc1661395.overlays,\n",
              "                {&quot;autoZIndex&quot;: true, &quot;collapsed&quot;: true, &quot;position&quot;: &quot;topright&quot;}\n",
              "            ).addTo(map_ad0617cf6141ab284e086338afda1cf3);\n",
              "        \n",
              "&lt;/script&gt;\n",
              "&lt;/html&gt;\" width=\"100%\" height=\"600\"style=\"border:none !important;\" \"allowfullscreen\" \"webkitallowfullscreen\" \"mozallowfullscreen\"></iframe>"
            ]
          },
          "metadata": {},
          "execution_count": 33
        }
      ]
    },
    {
      "cell_type": "markdown",
      "metadata": {
        "id": "69DZSc4cydji"
      },
      "source": [
        "Any caveauts to using these methods?"
      ]
    },
    {
      "cell_type": "markdown",
      "source": [
        "¿Alguna advertencia sobre el uso de estos métodos?"
      ],
      "metadata": {
        "id": "rc0qTPEOK78L"
      }
    },
    {
      "cell_type": "markdown",
      "metadata": {
        "id": "4CtPfSNYyibA"
      },
      "source": [
        "## Pre- and post-event differencing / diferenciando antes despues del evento\n",
        "\n",
        "\n",
        "\n"
      ]
    },
    {
      "cell_type": "code",
      "metadata": {
        "id": "6Bwm0d-hyctI"
      },
      "source": [
        "# get imagery for a period before event\n",
        "#preevent = hf.Sentinel1(region,\"2017-02-01\",\"2017-02-28\")#Peru\n",
        "#preevent = hf.Sentinel1(region,\"2022-02-25\",\"2022-02-28\")#Ecuador\n",
        "preevent = hf.Sentinel1(region,\"2022-11-19\",\"2022-11-25\")#Brasil\n",
        "#preevent = hf.Sentinel1(region,\"2021-01-01\",\"2021-12-31\")#Colombia"
      ],
      "execution_count": null,
      "outputs": []
    },
    {
      "cell_type": "code",
      "source": [
        "preevent.n_images"
      ],
      "metadata": {
        "colab": {
          "base_uri": "https://localhost:8080/"
        },
        "id": "3dC6ryRy-Gaq",
        "outputId": "ef6dc049-3ec8-4e99-eca5-0be5b9cf3923"
      },
      "execution_count": null,
      "outputs": [
        {
          "output_type": "execute_result",
          "data": {
            "text/plain": [
              "5"
            ]
          },
          "metadata": {},
          "execution_count": 36
        }
      ]
    },
    {
      "cell_type": "code",
      "source": [
        "preevent.dates"
      ],
      "metadata": {
        "colab": {
          "base_uri": "https://localhost:8080/"
        },
        "id": "iRoa6fsLDBY-",
        "outputId": "8971ae77-a315-4507-9a3a-b7c86425f794"
      },
      "execution_count": null,
      "outputs": [
        {
          "output_type": "execute_result",
          "data": {
            "text/plain": [
              "['2022-11-20 08:31:18.000',\n",
              " '2022-11-20 08:31:47.000',\n",
              " '2022-11-22 08:13:54.000',\n",
              " '2022-11-22 08:14:19.000',\n",
              " '2022-11-24 21:44:10.000']"
            ]
          },
          "metadata": {},
          "execution_count": 37
        }
      ]
    },
    {
      "cell_type": "code",
      "metadata": {
        "id": "tYRt1aT6VjfG"
      },
      "source": [
        "# apply a (psuedo-) terrain flattening algorithm to S1 data\n",
        "preevent_flat = preevent.apply_func(hf.slope_correction, elevation = dem, buffer = 100)"
      ],
      "execution_count": null,
      "outputs": []
    },
    {
      "cell_type": "code",
      "metadata": {
        "id": "_tqqzXuUXJ2z"
      },
      "source": [
        "# apply a speckle filter algorithm to S1 data\n",
        "preevent_filtered = preevent_flat.apply_func(hf.gamma_map)"
      ],
      "execution_count": null,
      "outputs": []
    },
    {
      "cell_type": "code",
      "metadata": {
        "id": "nKm1w2JxXNNf"
      },
      "source": [
        "pre_img = preevent_filtered.collection.median()"
      ],
      "execution_count": null,
      "outputs": []
    },
    {
      "cell_type": "markdown",
      "metadata": {
        "id": "jx0pKD0iXROU"
      },
      "source": [
        "### Classification differencing"
      ]
    },
    {
      "cell_type": "code",
      "metadata": {
        "id": "m8Lo_AxXXQlQ"
      },
      "source": [
        "pre_water = hf.edge_otsu(pre_img,band=\"VV\",initial_threshold=-16,edge_buffer=300,region=region,scale=30)"
      ],
      "execution_count": null,
      "outputs": []
    },
    {
      "cell_type": "code",
      "metadata": {
        "id": "5SDN5DhrXbxn"
      },
      "source": [
        "floods_prepost = hf.discrete_difference(water_img,pre_water)"
      ],
      "execution_count": null,
      "outputs": []
    },
    {
      "cell_type": "code",
      "metadata": {
        "id": "JcUJtu7tXhRa",
        "colab": {
          "base_uri": "https://localhost:8080/",
          "height": 622
        },
        "outputId": "403db9fa-a90c-47ad-fae8-d0de7c09e98a"
      },
      "source": [
        "# view the results of flood mapping\n",
        "#Map = geemap.Map(center=(-5.2, -80.6), zoom=8)#Peru\n",
        "#Map = geemap.Map(center=(-1.0, -78.8), zoom=9)#Ecuador\n",
        "Map = geemap.Map(center=(-22, -45), zoom=7)#Brasil\n",
        "#Map = geemap.Map(center=(7.6, -73.7), zoom=10)#Colombia\n",
        "\n",
        "Map.addLayer(pre_img,{\"bands\": \"VV\", \"min\":-25, \"max\": 0}, 'pre-event Sentinel 1')\n",
        "Map.addLayer(pre_water.selfMask(),{\"min\":0,\"max\":1,\"palette\":cm.palettes.Blues}, \"pre-event water\")\n",
        "Map.addLayer(sar_img,{\"bands\": \"VV\", \"min\":-25, \"max\": 0}, \"post-event Sentinel 1\")\n",
        "Map.addLayer(water_img.selfMask(),{\"min\":0,\"max\":1,\"palette\":\"lightblue\"}, \"post-event water\")\n",
        "Map.addLayer(floods_prepost.selfMask(),{\"min\":0,\"max\":1,\"palette\":\"red\"}, \"event flooding\")\n",
        "\n",
        "Map.addLayer(region,{},\"Region of Interest\")\n",
        "Map.addLayerControl()\n",
        "Map"
      ],
      "execution_count": null,
      "outputs": [
        {
          "output_type": "execute_result",
          "data": {
            "text/plain": [
              "<geemap.foliumap.Map at 0x7f7a93259280>"
            ],
            "text/html": [
              "<iframe srcdoc=\"&lt;!DOCTYPE html&gt;\n",
              "&lt;html&gt;\n",
              "&lt;head&gt;\n",
              "    \n",
              "    &lt;meta http-equiv=&quot;content-type&quot; content=&quot;text/html; charset=UTF-8&quot; /&gt;\n",
              "    \n",
              "        &lt;script&gt;\n",
              "            L_NO_TOUCH = false;\n",
              "            L_DISABLE_3D = false;\n",
              "        &lt;/script&gt;\n",
              "    \n",
              "    &lt;style&gt;html, body {width: 100%;height: 100%;margin: 0;padding: 0;}&lt;/style&gt;\n",
              "    &lt;style&gt;#map {position:absolute;top:0;bottom:0;right:0;left:0;}&lt;/style&gt;\n",
              "    &lt;script src=&quot;https://cdn.jsdelivr.net/npm/leaflet@1.6.0/dist/leaflet.js&quot;&gt;&lt;/script&gt;\n",
              "    &lt;script src=&quot;https://code.jquery.com/jquery-1.12.4.min.js&quot;&gt;&lt;/script&gt;\n",
              "    &lt;script src=&quot;https://maxcdn.bootstrapcdn.com/bootstrap/3.2.0/js/bootstrap.min.js&quot;&gt;&lt;/script&gt;\n",
              "    &lt;script src=&quot;https://cdnjs.cloudflare.com/ajax/libs/Leaflet.awesome-markers/2.0.2/leaflet.awesome-markers.js&quot;&gt;&lt;/script&gt;\n",
              "    &lt;link rel=&quot;stylesheet&quot; href=&quot;https://cdn.jsdelivr.net/npm/leaflet@1.6.0/dist/leaflet.css&quot;/&gt;\n",
              "    &lt;link rel=&quot;stylesheet&quot; href=&quot;https://maxcdn.bootstrapcdn.com/bootstrap/3.2.0/css/bootstrap.min.css&quot;/&gt;\n",
              "    &lt;link rel=&quot;stylesheet&quot; href=&quot;https://maxcdn.bootstrapcdn.com/bootstrap/3.2.0/css/bootstrap-theme.min.css&quot;/&gt;\n",
              "    &lt;link rel=&quot;stylesheet&quot; href=&quot;https://maxcdn.bootstrapcdn.com/font-awesome/4.6.3/css/font-awesome.min.css&quot;/&gt;\n",
              "    &lt;link rel=&quot;stylesheet&quot; href=&quot;https://cdnjs.cloudflare.com/ajax/libs/Leaflet.awesome-markers/2.0.2/leaflet.awesome-markers.css&quot;/&gt;\n",
              "    &lt;link rel=&quot;stylesheet&quot; href=&quot;https://cdn.jsdelivr.net/gh/python-visualization/folium/folium/templates/leaflet.awesome.rotate.min.css&quot;/&gt;\n",
              "    \n",
              "            &lt;meta name=&quot;viewport&quot; content=&quot;width=device-width,\n",
              "                initial-scale=1.0, maximum-scale=1.0, user-scalable=no&quot; /&gt;\n",
              "            &lt;style&gt;\n",
              "                #map_009619840ae210c182a4264fcb71b3ee {\n",
              "                    position: relative;\n",
              "                    width: 100.0%;\n",
              "                    height: 100.0%;\n",
              "                    left: 0.0%;\n",
              "                    top: 0.0%;\n",
              "                }\n",
              "            &lt;/style&gt;\n",
              "        \n",
              "    &lt;script src=&quot;https://cdnjs.cloudflare.com/ajax/libs/leaflet.fullscreen/1.4.2/Control.FullScreen.min.js&quot;&gt;&lt;/script&gt;\n",
              "    &lt;link rel=&quot;stylesheet&quot; href=&quot;https://cdnjs.cloudflare.com/ajax/libs/leaflet.fullscreen/1.4.2/Control.FullScreen.min.css&quot;/&gt;\n",
              "    &lt;script src=&quot;https://cdnjs.cloudflare.com/ajax/libs/leaflet.draw/1.0.2/leaflet.draw.js&quot;&gt;&lt;/script&gt;\n",
              "    &lt;link rel=&quot;stylesheet&quot; href=&quot;https://cdnjs.cloudflare.com/ajax/libs/leaflet.draw/1.0.2/leaflet.draw.css&quot;/&gt;\n",
              "    &lt;script src=&quot;https://unpkg.com/leaflet-control-geocoder/dist/Control.Geocoder.js&quot;&gt;&lt;/script&gt;\n",
              "    &lt;link rel=&quot;stylesheet&quot; href=&quot;https://unpkg.com/leaflet-control-geocoder/dist/Control.Geocoder.css&quot;/&gt;\n",
              "&lt;/head&gt;\n",
              "&lt;body&gt;\n",
              "    \n",
              "    \n",
              "            &lt;div class=&quot;folium-map&quot; id=&quot;map_009619840ae210c182a4264fcb71b3ee&quot; &gt;&lt;/div&gt;\n",
              "        \n",
              "&lt;/body&gt;\n",
              "&lt;script&gt;\n",
              "    \n",
              "    \n",
              "            var map_009619840ae210c182a4264fcb71b3ee = L.map(\n",
              "                &quot;map_009619840ae210c182a4264fcb71b3ee&quot;,\n",
              "                {\n",
              "                    center: [-22.0, -45.0],\n",
              "                    crs: L.CRS.EPSG3857,\n",
              "                    zoom: 7,\n",
              "                    zoomControl: true,\n",
              "                    preferCanvas: false,\n",
              "                    eeInitialize: true,\n",
              "                    addGoogleMap: true,\n",
              "                    pluginLatlngpopup: false,\n",
              "                    pluginFullscreen: true,\n",
              "                    pluginDraw: true,\n",
              "                    DrawExport: false,\n",
              "                    pluginMinimap: false,\n",
              "                    locateControl: false,\n",
              "                    searchControl: true,\n",
              "                    layersControl: true,\n",
              "                }\n",
              "            );\n",
              "\n",
              "            \n",
              "\n",
              "        \n",
              "    \n",
              "            var tile_layer_a4141f10dd95dca51e09a1e0d519d55c = L.tileLayer(\n",
              "                &quot;https://{s}.tile.openstreetmap.org/{z}/{x}/{y}.png&quot;,\n",
              "                {&quot;attribution&quot;: &quot;Data by \\u0026copy; \\u003ca href=\\&quot;http://openstreetmap.org\\&quot;\\u003eOpenStreetMap\\u003c/a\\u003e, under \\u003ca href=\\&quot;http://www.openstreetmap.org/copyright\\&quot;\\u003eODbL\\u003c/a\\u003e.&quot;, &quot;detectRetina&quot;: false, &quot;maxNativeZoom&quot;: 30, &quot;maxZoom&quot;: 30, &quot;minZoom&quot;: 0, &quot;noWrap&quot;: false, &quot;opacity&quot;: 1, &quot;subdomains&quot;: &quot;abc&quot;, &quot;tms&quot;: false}\n",
              "            ).addTo(map_009619840ae210c182a4264fcb71b3ee);\n",
              "        \n",
              "    \n",
              "            var tile_layer_43dd5f29393cb303a871fbbbb3e06025 = L.tileLayer(\n",
              "                &quot;https://mt1.google.com/vt/lyrs=m\\u0026x={x}\\u0026y={y}\\u0026z={z}&quot;,\n",
              "                {&quot;attribution&quot;: &quot;Google&quot;, &quot;detectRetina&quot;: false, &quot;maxNativeZoom&quot;: 22, &quot;maxZoom&quot;: 22, &quot;minZoom&quot;: 0, &quot;noWrap&quot;: false, &quot;opacity&quot;: 1, &quot;subdomains&quot;: &quot;abc&quot;, &quot;tms&quot;: false}\n",
              "            ).addTo(map_009619840ae210c182a4264fcb71b3ee);\n",
              "        \n",
              "    \n",
              "            L.control.fullscreen(\n",
              "                {&quot;forceSeparateButton&quot;: false, &quot;position&quot;: &quot;topleft&quot;, &quot;title&quot;: &quot;Full Screen&quot;, &quot;titleCancel&quot;: &quot;Exit Full Screen&quot;}\n",
              "            ).addTo(map_009619840ae210c182a4264fcb71b3ee);\n",
              "        \n",
              "    \n",
              "            var options = {\n",
              "              position: &quot;topleft&quot;,\n",
              "              draw: {},\n",
              "              edit: {},\n",
              "            }\n",
              "            // FeatureGroup is to store editable layers.\n",
              "            var drawnItems = new L.featureGroup().addTo(\n",
              "                map_009619840ae210c182a4264fcb71b3ee\n",
              "            );\n",
              "            options.edit.featureGroup = drawnItems;\n",
              "            var draw_control_8a9c303ff3c8da31a42dd6164c1a7a5f = new L.Control.Draw(\n",
              "                options\n",
              "            ).addTo( map_009619840ae210c182a4264fcb71b3ee );\n",
              "            map_009619840ae210c182a4264fcb71b3ee.on(L.Draw.Event.CREATED, function(e) {\n",
              "                var layer = e.layer,\n",
              "                    type = e.layerType;\n",
              "                var coords = JSON.stringify(layer.toGeoJSON());\n",
              "                layer.on(&#x27;click&#x27;, function() {\n",
              "                    alert(coords);\n",
              "                    console.log(coords);\n",
              "                });\n",
              "                drawnItems.addLayer(layer);\n",
              "             });\n",
              "            map_009619840ae210c182a4264fcb71b3ee.on(&#x27;draw:created&#x27;, function(e) {\n",
              "                drawnItems.addLayer(e.layer);\n",
              "            });\n",
              "            \n",
              "        \n",
              "    \n",
              "            L.Control.geocoder(\n",
              "                {&quot;collapsed&quot;: true, &quot;defaultMarkGeocode&quot;: true, &quot;position&quot;: &quot;topleft&quot;}\n",
              "            ).on(&#x27;markgeocode&#x27;, function(e) {\n",
              "                map_009619840ae210c182a4264fcb71b3ee.setView(e.geocode.center, 11);\n",
              "            }).addTo(map_009619840ae210c182a4264fcb71b3ee);\n",
              "\n",
              "        \n",
              "    \n",
              "            map_009619840ae210c182a4264fcb71b3ee.fitBounds(\n",
              "                [[-22, -45], [-22, -45]],\n",
              "                {&quot;maxZoom&quot;: 7}\n",
              "            );\n",
              "        \n",
              "    \n",
              "            var tile_layer_36165a7603b532155a8eda0714ad2d14 = L.tileLayer(\n",
              "                &quot;https://earthengine.googleapis.com/v1alpha/projects/earthengine-legacy/maps/f8b83eaaa2a96e1512b1e06bb12852b8-f97dd8dee9a03b58044be5dbc89ff5e9/tiles/{z}/{x}/{y}&quot;,\n",
              "                {&quot;attribution&quot;: &quot;Google Earth Engine&quot;, &quot;detectRetina&quot;: false, &quot;maxNativeZoom&quot;: 24, &quot;maxZoom&quot;: 24, &quot;minZoom&quot;: 0, &quot;noWrap&quot;: false, &quot;opacity&quot;: 1.0, &quot;subdomains&quot;: &quot;abc&quot;, &quot;tms&quot;: false}\n",
              "            ).addTo(map_009619840ae210c182a4264fcb71b3ee);\n",
              "        \n",
              "    \n",
              "            var tile_layer_c2d1aa070173e0d6203d3bf669f0510c = L.tileLayer(\n",
              "                &quot;https://earthengine.googleapis.com/v1alpha/projects/earthengine-legacy/maps/9f73c117f90582f971aebbd799fe12d5-af3959b65c5136159bdc9e4a93355f56/tiles/{z}/{x}/{y}&quot;,\n",
              "                {&quot;attribution&quot;: &quot;Google Earth Engine&quot;, &quot;detectRetina&quot;: false, &quot;maxNativeZoom&quot;: 24, &quot;maxZoom&quot;: 24, &quot;minZoom&quot;: 0, &quot;noWrap&quot;: false, &quot;opacity&quot;: 1.0, &quot;subdomains&quot;: &quot;abc&quot;, &quot;tms&quot;: false}\n",
              "            ).addTo(map_009619840ae210c182a4264fcb71b3ee);\n",
              "        \n",
              "    \n",
              "            var tile_layer_f4cb81bff94c909aba84dcb849a722e4 = L.tileLayer(\n",
              "                &quot;https://earthengine.googleapis.com/v1alpha/projects/earthengine-legacy/maps/fe8eda6dc7442a0b7e0d074f1bd729af-92799b8e3b97811b23194e567f2cd2f2/tiles/{z}/{x}/{y}&quot;,\n",
              "                {&quot;attribution&quot;: &quot;Google Earth Engine&quot;, &quot;detectRetina&quot;: false, &quot;maxNativeZoom&quot;: 24, &quot;maxZoom&quot;: 24, &quot;minZoom&quot;: 0, &quot;noWrap&quot;: false, &quot;opacity&quot;: 1.0, &quot;subdomains&quot;: &quot;abc&quot;, &quot;tms&quot;: false}\n",
              "            ).addTo(map_009619840ae210c182a4264fcb71b3ee);\n",
              "        \n",
              "    \n",
              "            var tile_layer_979effc5b0c1774415b46828ccda26c2 = L.tileLayer(\n",
              "                &quot;https://earthengine.googleapis.com/v1alpha/projects/earthengine-legacy/maps/152475ed7021499289453a7ca595c1d9-3b731d904afacdf430daa16542ffcd5b/tiles/{z}/{x}/{y}&quot;,\n",
              "                {&quot;attribution&quot;: &quot;Google Earth Engine&quot;, &quot;detectRetina&quot;: false, &quot;maxNativeZoom&quot;: 24, &quot;maxZoom&quot;: 24, &quot;minZoom&quot;: 0, &quot;noWrap&quot;: false, &quot;opacity&quot;: 1.0, &quot;subdomains&quot;: &quot;abc&quot;, &quot;tms&quot;: false}\n",
              "            ).addTo(map_009619840ae210c182a4264fcb71b3ee);\n",
              "        \n",
              "    \n",
              "            var tile_layer_7b4c7974dcfdf8e5102e1bd1a9aaa4dc = L.tileLayer(\n",
              "                &quot;https://earthengine.googleapis.com/v1alpha/projects/earthengine-legacy/maps/1ae883d3860141633316ca727b6191ac-78e5c850adc4b5456cb087a6fa195377/tiles/{z}/{x}/{y}&quot;,\n",
              "                {&quot;attribution&quot;: &quot;Google Earth Engine&quot;, &quot;detectRetina&quot;: false, &quot;maxNativeZoom&quot;: 24, &quot;maxZoom&quot;: 24, &quot;minZoom&quot;: 0, &quot;noWrap&quot;: false, &quot;opacity&quot;: 1.0, &quot;subdomains&quot;: &quot;abc&quot;, &quot;tms&quot;: false}\n",
              "            ).addTo(map_009619840ae210c182a4264fcb71b3ee);\n",
              "        \n",
              "    \n",
              "            var tile_layer_1e5f2dfbcc38ee3406751ab604806bd1 = L.tileLayer(\n",
              "                &quot;https://earthengine.googleapis.com/v1alpha/projects/earthengine-legacy/maps/0480aaa2a94ee8d0674b681ff5784010-34c42c5333c978557192834edcfa66fa/tiles/{z}/{x}/{y}&quot;,\n",
              "                {&quot;attribution&quot;: &quot;Google Earth Engine&quot;, &quot;detectRetina&quot;: false, &quot;maxNativeZoom&quot;: 24, &quot;maxZoom&quot;: 24, &quot;minZoom&quot;: 0, &quot;noWrap&quot;: false, &quot;opacity&quot;: 1.0, &quot;subdomains&quot;: &quot;abc&quot;, &quot;tms&quot;: false}\n",
              "            ).addTo(map_009619840ae210c182a4264fcb71b3ee);\n",
              "        \n",
              "    \n",
              "            var layer_control_2c120d55a14c4df1e027ca37f764015b = {\n",
              "                base_layers : {\n",
              "                    &quot;openstreetmap&quot; : tile_layer_a4141f10dd95dca51e09a1e0d519d55c,\n",
              "                },\n",
              "                overlays :  {\n",
              "                    &quot;Google Maps&quot; : tile_layer_43dd5f29393cb303a871fbbbb3e06025,\n",
              "                    &quot;pre-event Sentinel 1&quot; : tile_layer_36165a7603b532155a8eda0714ad2d14,\n",
              "                    &quot;pre-event water&quot; : tile_layer_c2d1aa070173e0d6203d3bf669f0510c,\n",
              "                    &quot;post-event Sentinel 1&quot; : tile_layer_f4cb81bff94c909aba84dcb849a722e4,\n",
              "                    &quot;post-event water&quot; : tile_layer_979effc5b0c1774415b46828ccda26c2,\n",
              "                    &quot;event flooding&quot; : tile_layer_7b4c7974dcfdf8e5102e1bd1a9aaa4dc,\n",
              "                    &quot;Region of Interest&quot; : tile_layer_1e5f2dfbcc38ee3406751ab604806bd1,\n",
              "                },\n",
              "            };\n",
              "            L.control.layers(\n",
              "                layer_control_2c120d55a14c4df1e027ca37f764015b.base_layers,\n",
              "                layer_control_2c120d55a14c4df1e027ca37f764015b.overlays,\n",
              "                {&quot;autoZIndex&quot;: true, &quot;collapsed&quot;: true, &quot;position&quot;: &quot;topright&quot;}\n",
              "            ).addTo(map_009619840ae210c182a4264fcb71b3ee);\n",
              "        \n",
              "&lt;/script&gt;\n",
              "&lt;/html&gt;\" width=\"100%\" height=\"600\"style=\"border:none !important;\" \"allowfullscreen\" \"webkitallowfullscreen\" \"mozallowfullscreen\"></iframe>"
            ]
          },
          "metadata": {},
          "execution_count": 43
        }
      ]
    },
    {
      "cell_type": "markdown",
      "metadata": {
        "id": "wUJuYR6iXkDl"
      },
      "source": [
        "\n",
        "\n",
        "### Change detection / deteccion de cambios\n",
        "\n",
        "In this case we we will use some change detection techniques to identify changes between a reference (pre-event) and post-event imagery. A famous algorithm for SAR is the [logarithmic amplitude ratio (LAR)](https://doi.org/10.1080/014311698215649). Here we will compute the LAR for a pair of pre- and post-event imagery and extract floods."
      ]
    },
    {
      "cell_type": "markdown",
      "source": [
        "En este caso, utilizaremos algunas técnicas de detección de cambios para identificar cambios entre una imagen de referencia (previa al evento) y posterior al evento. Un algoritmo famoso para SAR es la relación de amplitud logarítmica (LAR). Aquí calcularemos el LAR para un par de imágenes previas y posteriores al evento y extraeremos las inundaciones."
      ],
      "metadata": {
        "id": "ODxjPfBVMQ4q"
      }
    },
    {
      "cell_type": "code",
      "metadata": {
        "id": "x_pIcgVrY42D"
      },
      "source": [
        "# convert the db data to amplitude power\n",
        "# then divide post/pre and take the log\n",
        "lar = hf.db_to_power(sar_img.select(\"VV\")).divide(hf.db_to_power(pre_img.select(\"VV\"))).log10()"
      ],
      "execution_count": null,
      "outputs": []
    },
    {
      "cell_type": "code",
      "metadata": {
        "id": "GdGvCIHmaS0j"
      },
      "source": [
        "floods_lar = hf.edge_otsu(lar,region=region,initial_threshold=0,scale=300,edge_buffer=300)"
      ],
      "execution_count": null,
      "outputs": []
    },
    {
      "cell_type": "code",
      "metadata": {
        "id": "F-J-pKwQdB7W"
      },
      "source": [
        "floods_lar_final = (\n",
        "    hf.close_binary(\n",
        "        hf.open_binary(floods_lar,window=1.5) # apply opening filter\n",
        "        .updateMask(floods_lar.mask()) # force mask to be consistent with sar imagery\n",
        "        ,window=1.5\n",
        "    ) # apply closing filter\n",
        "    .updateMask(floods_lar.mask()) # force mask to be consistent with sar imagery\n",
        "    .And(hand.lt(15)) # only pixels that were originally classified as water AND < 15m from HAND\n",
        ")"
      ],
      "execution_count": null,
      "outputs": []
    },
    {
      "cell_type": "code",
      "metadata": {
        "id": "Pq8ZhaGyZiDw",
        "colab": {
          "base_uri": "https://localhost:8080/",
          "height": 622
        },
        "outputId": "c74906f6-52e8-4858-8978-5b1935eb25a9"
      },
      "source": [
        "# view the results of flood mapping\n",
        "#Map = geemap.Map(center=(-5.2, -80.6), zoom=8)#Peru\n",
        "#Map = geemap.Map(center=(-1.0, -78.8), zoom=9)#Ecuador\n",
        "Map = geemap.Map(center=(-22, -45), zoom=7)#Brasil\n",
        "#Map = geemap.Map(center=(7.6, -73.7), zoom=10)#Colombia\n",
        "\n",
        "Map.addLayer(pre_img,{\"bands\": \"VV\", \"min\":-25, \"max\": 0}, 'pre-event Sentinel 1')\n",
        "Map.addLayer(sar_img,{\"bands\": \"VV\", \"min\":-25, \"max\": 0}, \"post-event Sentinel 1\")\n",
        "Map.addLayer(lar,{\"min\":-1,\"max\":1,\"palette\":cm.palettes.inferno}, \"LAR\")\n",
        "Map.addLayer(floods_lar.selfMask(),{\"min\":0,\"max\":1,\"palette\":\"red\"}, \"LAR event flooding\")\n",
        "\n",
        "\n",
        "Map.addLayerControl()\n",
        "Map"
      ],
      "execution_count": null,
      "outputs": [
        {
          "output_type": "execute_result",
          "data": {
            "text/plain": [
              "<geemap.foliumap.Map at 0x7f7a9327d8b0>"
            ],
            "text/html": [
              "<iframe srcdoc=\"&lt;!DOCTYPE html&gt;\n",
              "&lt;html&gt;\n",
              "&lt;head&gt;\n",
              "    \n",
              "    &lt;meta http-equiv=&quot;content-type&quot; content=&quot;text/html; charset=UTF-8&quot; /&gt;\n",
              "    \n",
              "        &lt;script&gt;\n",
              "            L_NO_TOUCH = false;\n",
              "            L_DISABLE_3D = false;\n",
              "        &lt;/script&gt;\n",
              "    \n",
              "    &lt;style&gt;html, body {width: 100%;height: 100%;margin: 0;padding: 0;}&lt;/style&gt;\n",
              "    &lt;style&gt;#map {position:absolute;top:0;bottom:0;right:0;left:0;}&lt;/style&gt;\n",
              "    &lt;script src=&quot;https://cdn.jsdelivr.net/npm/leaflet@1.6.0/dist/leaflet.js&quot;&gt;&lt;/script&gt;\n",
              "    &lt;script src=&quot;https://code.jquery.com/jquery-1.12.4.min.js&quot;&gt;&lt;/script&gt;\n",
              "    &lt;script src=&quot;https://maxcdn.bootstrapcdn.com/bootstrap/3.2.0/js/bootstrap.min.js&quot;&gt;&lt;/script&gt;\n",
              "    &lt;script src=&quot;https://cdnjs.cloudflare.com/ajax/libs/Leaflet.awesome-markers/2.0.2/leaflet.awesome-markers.js&quot;&gt;&lt;/script&gt;\n",
              "    &lt;link rel=&quot;stylesheet&quot; href=&quot;https://cdn.jsdelivr.net/npm/leaflet@1.6.0/dist/leaflet.css&quot;/&gt;\n",
              "    &lt;link rel=&quot;stylesheet&quot; href=&quot;https://maxcdn.bootstrapcdn.com/bootstrap/3.2.0/css/bootstrap.min.css&quot;/&gt;\n",
              "    &lt;link rel=&quot;stylesheet&quot; href=&quot;https://maxcdn.bootstrapcdn.com/bootstrap/3.2.0/css/bootstrap-theme.min.css&quot;/&gt;\n",
              "    &lt;link rel=&quot;stylesheet&quot; href=&quot;https://maxcdn.bootstrapcdn.com/font-awesome/4.6.3/css/font-awesome.min.css&quot;/&gt;\n",
              "    &lt;link rel=&quot;stylesheet&quot; href=&quot;https://cdnjs.cloudflare.com/ajax/libs/Leaflet.awesome-markers/2.0.2/leaflet.awesome-markers.css&quot;/&gt;\n",
              "    &lt;link rel=&quot;stylesheet&quot; href=&quot;https://cdn.jsdelivr.net/gh/python-visualization/folium/folium/templates/leaflet.awesome.rotate.min.css&quot;/&gt;\n",
              "    \n",
              "            &lt;meta name=&quot;viewport&quot; content=&quot;width=device-width,\n",
              "                initial-scale=1.0, maximum-scale=1.0, user-scalable=no&quot; /&gt;\n",
              "            &lt;style&gt;\n",
              "                #map_2a819a958eff051db0e6191078c4fef8 {\n",
              "                    position: relative;\n",
              "                    width: 100.0%;\n",
              "                    height: 100.0%;\n",
              "                    left: 0.0%;\n",
              "                    top: 0.0%;\n",
              "                }\n",
              "            &lt;/style&gt;\n",
              "        \n",
              "    &lt;script src=&quot;https://cdnjs.cloudflare.com/ajax/libs/leaflet.fullscreen/1.4.2/Control.FullScreen.min.js&quot;&gt;&lt;/script&gt;\n",
              "    &lt;link rel=&quot;stylesheet&quot; href=&quot;https://cdnjs.cloudflare.com/ajax/libs/leaflet.fullscreen/1.4.2/Control.FullScreen.min.css&quot;/&gt;\n",
              "    &lt;script src=&quot;https://cdnjs.cloudflare.com/ajax/libs/leaflet.draw/1.0.2/leaflet.draw.js&quot;&gt;&lt;/script&gt;\n",
              "    &lt;link rel=&quot;stylesheet&quot; href=&quot;https://cdnjs.cloudflare.com/ajax/libs/leaflet.draw/1.0.2/leaflet.draw.css&quot;/&gt;\n",
              "    &lt;script src=&quot;https://unpkg.com/leaflet-control-geocoder/dist/Control.Geocoder.js&quot;&gt;&lt;/script&gt;\n",
              "    &lt;link rel=&quot;stylesheet&quot; href=&quot;https://unpkg.com/leaflet-control-geocoder/dist/Control.Geocoder.css&quot;/&gt;\n",
              "&lt;/head&gt;\n",
              "&lt;body&gt;\n",
              "    \n",
              "    \n",
              "            &lt;div class=&quot;folium-map&quot; id=&quot;map_2a819a958eff051db0e6191078c4fef8&quot; &gt;&lt;/div&gt;\n",
              "        \n",
              "&lt;/body&gt;\n",
              "&lt;script&gt;\n",
              "    \n",
              "    \n",
              "            var map_2a819a958eff051db0e6191078c4fef8 = L.map(\n",
              "                &quot;map_2a819a958eff051db0e6191078c4fef8&quot;,\n",
              "                {\n",
              "                    center: [-22.0, -45.0],\n",
              "                    crs: L.CRS.EPSG3857,\n",
              "                    zoom: 7,\n",
              "                    zoomControl: true,\n",
              "                    preferCanvas: false,\n",
              "                    eeInitialize: true,\n",
              "                    addGoogleMap: true,\n",
              "                    pluginLatlngpopup: false,\n",
              "                    pluginFullscreen: true,\n",
              "                    pluginDraw: true,\n",
              "                    DrawExport: false,\n",
              "                    pluginMinimap: false,\n",
              "                    locateControl: false,\n",
              "                    searchControl: true,\n",
              "                    layersControl: true,\n",
              "                }\n",
              "            );\n",
              "\n",
              "            \n",
              "\n",
              "        \n",
              "    \n",
              "            var tile_layer_57b505c28ebb371c7ae62ad93a6abc1a = L.tileLayer(\n",
              "                &quot;https://{s}.tile.openstreetmap.org/{z}/{x}/{y}.png&quot;,\n",
              "                {&quot;attribution&quot;: &quot;Data by \\u0026copy; \\u003ca href=\\&quot;http://openstreetmap.org\\&quot;\\u003eOpenStreetMap\\u003c/a\\u003e, under \\u003ca href=\\&quot;http://www.openstreetmap.org/copyright\\&quot;\\u003eODbL\\u003c/a\\u003e.&quot;, &quot;detectRetina&quot;: false, &quot;maxNativeZoom&quot;: 30, &quot;maxZoom&quot;: 30, &quot;minZoom&quot;: 0, &quot;noWrap&quot;: false, &quot;opacity&quot;: 1, &quot;subdomains&quot;: &quot;abc&quot;, &quot;tms&quot;: false}\n",
              "            ).addTo(map_2a819a958eff051db0e6191078c4fef8);\n",
              "        \n",
              "    \n",
              "            var tile_layer_43dd5f29393cb303a871fbbbb3e06025 = L.tileLayer(\n",
              "                &quot;https://mt1.google.com/vt/lyrs=m\\u0026x={x}\\u0026y={y}\\u0026z={z}&quot;,\n",
              "                {&quot;attribution&quot;: &quot;Google&quot;, &quot;detectRetina&quot;: false, &quot;maxNativeZoom&quot;: 22, &quot;maxZoom&quot;: 22, &quot;minZoom&quot;: 0, &quot;noWrap&quot;: false, &quot;opacity&quot;: 1, &quot;subdomains&quot;: &quot;abc&quot;, &quot;tms&quot;: false}\n",
              "            ).addTo(map_2a819a958eff051db0e6191078c4fef8);\n",
              "        \n",
              "    \n",
              "            L.control.fullscreen(\n",
              "                {&quot;forceSeparateButton&quot;: false, &quot;position&quot;: &quot;topleft&quot;, &quot;title&quot;: &quot;Full Screen&quot;, &quot;titleCancel&quot;: &quot;Exit Full Screen&quot;}\n",
              "            ).addTo(map_2a819a958eff051db0e6191078c4fef8);\n",
              "        \n",
              "    \n",
              "            var options = {\n",
              "              position: &quot;topleft&quot;,\n",
              "              draw: {},\n",
              "              edit: {},\n",
              "            }\n",
              "            // FeatureGroup is to store editable layers.\n",
              "            var drawnItems = new L.featureGroup().addTo(\n",
              "                map_2a819a958eff051db0e6191078c4fef8\n",
              "            );\n",
              "            options.edit.featureGroup = drawnItems;\n",
              "            var draw_control_9530a496b64168646d85a9ebcab1557e = new L.Control.Draw(\n",
              "                options\n",
              "            ).addTo( map_2a819a958eff051db0e6191078c4fef8 );\n",
              "            map_2a819a958eff051db0e6191078c4fef8.on(L.Draw.Event.CREATED, function(e) {\n",
              "                var layer = e.layer,\n",
              "                    type = e.layerType;\n",
              "                var coords = JSON.stringify(layer.toGeoJSON());\n",
              "                layer.on(&#x27;click&#x27;, function() {\n",
              "                    alert(coords);\n",
              "                    console.log(coords);\n",
              "                });\n",
              "                drawnItems.addLayer(layer);\n",
              "             });\n",
              "            map_2a819a958eff051db0e6191078c4fef8.on(&#x27;draw:created&#x27;, function(e) {\n",
              "                drawnItems.addLayer(e.layer);\n",
              "            });\n",
              "            \n",
              "        \n",
              "    \n",
              "            L.Control.geocoder(\n",
              "                {&quot;collapsed&quot;: true, &quot;defaultMarkGeocode&quot;: true, &quot;position&quot;: &quot;topleft&quot;}\n",
              "            ).on(&#x27;markgeocode&#x27;, function(e) {\n",
              "                map_2a819a958eff051db0e6191078c4fef8.setView(e.geocode.center, 11);\n",
              "            }).addTo(map_2a819a958eff051db0e6191078c4fef8);\n",
              "\n",
              "        \n",
              "    \n",
              "            map_2a819a958eff051db0e6191078c4fef8.fitBounds(\n",
              "                [[-22, -45], [-22, -45]],\n",
              "                {&quot;maxZoom&quot;: 7}\n",
              "            );\n",
              "        \n",
              "    \n",
              "            var tile_layer_2290fa1b57a1f577bcad9802c8f9eedd = L.tileLayer(\n",
              "                &quot;https://earthengine.googleapis.com/v1alpha/projects/earthengine-legacy/maps/f8b83eaaa2a96e1512b1e06bb12852b8-90f2e08b23b06209a9e4a61c427d8345/tiles/{z}/{x}/{y}&quot;,\n",
              "                {&quot;attribution&quot;: &quot;Google Earth Engine&quot;, &quot;detectRetina&quot;: false, &quot;maxNativeZoom&quot;: 24, &quot;maxZoom&quot;: 24, &quot;minZoom&quot;: 0, &quot;noWrap&quot;: false, &quot;opacity&quot;: 1.0, &quot;subdomains&quot;: &quot;abc&quot;, &quot;tms&quot;: false}\n",
              "            ).addTo(map_2a819a958eff051db0e6191078c4fef8);\n",
              "        \n",
              "    \n",
              "            var tile_layer_492b003066fb49b3fa4509dbf5b87c3b = L.tileLayer(\n",
              "                &quot;https://earthengine.googleapis.com/v1alpha/projects/earthengine-legacy/maps/fe8eda6dc7442a0b7e0d074f1bd729af-8af94f3624acd32917914baa4363d7d2/tiles/{z}/{x}/{y}&quot;,\n",
              "                {&quot;attribution&quot;: &quot;Google Earth Engine&quot;, &quot;detectRetina&quot;: false, &quot;maxNativeZoom&quot;: 24, &quot;maxZoom&quot;: 24, &quot;minZoom&quot;: 0, &quot;noWrap&quot;: false, &quot;opacity&quot;: 1.0, &quot;subdomains&quot;: &quot;abc&quot;, &quot;tms&quot;: false}\n",
              "            ).addTo(map_2a819a958eff051db0e6191078c4fef8);\n",
              "        \n",
              "    \n",
              "            var tile_layer_4b25f409d3681cfb3f8dcf4aa011e8bc = L.tileLayer(\n",
              "                &quot;https://earthengine.googleapis.com/v1alpha/projects/earthengine-legacy/maps/46a90ee2847f664f8cc7b70a545bbd6b-24eadc90cfa056bf49144b57b39d3148/tiles/{z}/{x}/{y}&quot;,\n",
              "                {&quot;attribution&quot;: &quot;Google Earth Engine&quot;, &quot;detectRetina&quot;: false, &quot;maxNativeZoom&quot;: 24, &quot;maxZoom&quot;: 24, &quot;minZoom&quot;: 0, &quot;noWrap&quot;: false, &quot;opacity&quot;: 1.0, &quot;subdomains&quot;: &quot;abc&quot;, &quot;tms&quot;: false}\n",
              "            ).addTo(map_2a819a958eff051db0e6191078c4fef8);\n",
              "        \n",
              "    \n",
              "            var tile_layer_3c3c988ccd63b0a844d7c73eeccc118c = L.tileLayer(\n",
              "                &quot;https://earthengine.googleapis.com/v1alpha/projects/earthengine-legacy/maps/9a434e126a75e3b8a64f2fbce16a7221-d3358f7d766d218b90d5b5374891ff9c/tiles/{z}/{x}/{y}&quot;,\n",
              "                {&quot;attribution&quot;: &quot;Google Earth Engine&quot;, &quot;detectRetina&quot;: false, &quot;maxNativeZoom&quot;: 24, &quot;maxZoom&quot;: 24, &quot;minZoom&quot;: 0, &quot;noWrap&quot;: false, &quot;opacity&quot;: 1.0, &quot;subdomains&quot;: &quot;abc&quot;, &quot;tms&quot;: false}\n",
              "            ).addTo(map_2a819a958eff051db0e6191078c4fef8);\n",
              "        \n",
              "    \n",
              "            var layer_control_3b99e564d5ec2302829c8050de398e41 = {\n",
              "                base_layers : {\n",
              "                    &quot;openstreetmap&quot; : tile_layer_57b505c28ebb371c7ae62ad93a6abc1a,\n",
              "                },\n",
              "                overlays :  {\n",
              "                    &quot;Google Maps&quot; : tile_layer_43dd5f29393cb303a871fbbbb3e06025,\n",
              "                    &quot;pre-event Sentinel 1&quot; : tile_layer_2290fa1b57a1f577bcad9802c8f9eedd,\n",
              "                    &quot;post-event Sentinel 1&quot; : tile_layer_492b003066fb49b3fa4509dbf5b87c3b,\n",
              "                    &quot;LAR&quot; : tile_layer_4b25f409d3681cfb3f8dcf4aa011e8bc,\n",
              "                    &quot;LAR event flooding&quot; : tile_layer_3c3c988ccd63b0a844d7c73eeccc118c,\n",
              "                },\n",
              "            };\n",
              "            L.control.layers(\n",
              "                layer_control_3b99e564d5ec2302829c8050de398e41.base_layers,\n",
              "                layer_control_3b99e564d5ec2302829c8050de398e41.overlays,\n",
              "                {&quot;autoZIndex&quot;: true, &quot;collapsed&quot;: true, &quot;position&quot;: &quot;topright&quot;}\n",
              "            ).addTo(map_2a819a958eff051db0e6191078c4fef8);\n",
              "        \n",
              "&lt;/script&gt;\n",
              "&lt;/html&gt;\" width=\"100%\" height=\"600\"style=\"border:none !important;\" \"allowfullscreen\" \"webkitallowfullscreen\" \"mozallowfullscreen\"></iframe>"
            ]
          },
          "metadata": {},
          "execution_count": 47
        }
      ]
    },
    {
      "cell_type": "markdown",
      "metadata": {
        "id": "t7EvNXGjVoR_"
      },
      "source": [
        "\n",
        "\n",
        "\n",
        "## Flood depth estimation / Estimacion de profundidad de la inundacion\n",
        "\n",
        "Sometimes not only extent is needed and some estimate of depth provides a better estimate of impacts from floods. `hydrafloods` has the [Floodwater Depth Estimation Tool (FwDET)](https://doi.org/10.5194/nhess-19-2053-2019) implemented to provide an estimate of flood depth based off of a DEM.\n",
        "\n",
        "**CAUTION**: This algorithm provides a fairly rough estimate of flood depth and its accuracy is very dependant on the accuracy of the input DEM."
      ]
    },
    {
      "cell_type": "markdown",
      "source": [
        "A veces, no solo se necesita la extensión, sino que alguna estimación de la profundidad proporciona una mejor estimación de los impactos de las inundaciones. `hydrafloods` tiene la [Herramienta de estimación de profundidad de agua de inundación (FwDET)] (https://doi.org/10.5194/nhess-19-2053-2019) implementada para proporcionar una estimación de la profundidad de inundación basada en un DEM.\n",
        "\n",
        "**PRECAUCIÓN**: Este algoritmo proporciona una estimación bastante aproximada de la profundidad de la inundación y su precisión depende en gran medida de la precisión del DEM de entrada."
      ],
      "metadata": {
        "id": "GQdnYfObLirl"
      }
    },
    {
      "cell_type": "code",
      "metadata": {
        "id": "HbfOJ9GWVqML"
      },
      "source": [
        "# apply the fwdet algorithm for the floods we extracted\n",
        "flood_depths = hf.fwdet(water_img,dem,force_projection=True)"
      ],
      "execution_count": null,
      "outputs": []
    },
    {
      "cell_type": "code",
      "metadata": {
        "id": "hy1_7wcQV5sG",
        "colab": {
          "base_uri": "https://localhost:8080/",
          "height": 622
        },
        "outputId": "840ca213-e12b-46d9-c08f-acdb9410d5fb"
      },
      "source": [
        "# view the results of flood depth mapping\n",
        "#Map = geemap.Map(center=(-5.2, -80.6), zoom=8)#Peru\n",
        "#Map = geemap.Map(center=(-1.0, -78.8), zoom=9)#Ecuador\n",
        "Map = geemap.Map(center=(-22, -45), zoom=7)#Brasil\n",
        "#Map = geemap.Map(center=(7.6, -73.7), zoom=10)#Colombia\n",
        "\n",
        "Map.addLayer(sar_img,{\"bands\": \"VV\", \"min\":-25, \"max\": 0}, 'Sentinel 1')\n",
        "Map.addLayer(water_img.selfMask(),{\"min\":0,\"max\":1,\"palette\":cm.palettes.Blues}, \"Sentinel 1 (water)\")\n",
        "Map.addLayer(floods_occurrence.selfMask(),{\"min\":0,\"max\":1,\"palette\":\"red\"}, \"Sentinel 1 (flood)\")\n",
        "Map.addLayer(flood_depths,{\"bands\":\"depth\",\"max\":5,\"palette\":cm.palettes.viridis_r},\"Flood depth\")\n",
        "\n",
        "\n",
        "Map.addLayerControl()\n",
        "Map"
      ],
      "execution_count": null,
      "outputs": [
        {
          "output_type": "execute_result",
          "data": {
            "text/plain": [
              "<geemap.foliumap.Map at 0x7f7a9323b1c0>"
            ],
            "text/html": [
              "<iframe srcdoc=\"&lt;!DOCTYPE html&gt;\n",
              "&lt;html&gt;\n",
              "&lt;head&gt;\n",
              "    \n",
              "    &lt;meta http-equiv=&quot;content-type&quot; content=&quot;text/html; charset=UTF-8&quot; /&gt;\n",
              "    \n",
              "        &lt;script&gt;\n",
              "            L_NO_TOUCH = false;\n",
              "            L_DISABLE_3D = false;\n",
              "        &lt;/script&gt;\n",
              "    \n",
              "    &lt;style&gt;html, body {width: 100%;height: 100%;margin: 0;padding: 0;}&lt;/style&gt;\n",
              "    &lt;style&gt;#map {position:absolute;top:0;bottom:0;right:0;left:0;}&lt;/style&gt;\n",
              "    &lt;script src=&quot;https://cdn.jsdelivr.net/npm/leaflet@1.6.0/dist/leaflet.js&quot;&gt;&lt;/script&gt;\n",
              "    &lt;script src=&quot;https://code.jquery.com/jquery-1.12.4.min.js&quot;&gt;&lt;/script&gt;\n",
              "    &lt;script src=&quot;https://maxcdn.bootstrapcdn.com/bootstrap/3.2.0/js/bootstrap.min.js&quot;&gt;&lt;/script&gt;\n",
              "    &lt;script src=&quot;https://cdnjs.cloudflare.com/ajax/libs/Leaflet.awesome-markers/2.0.2/leaflet.awesome-markers.js&quot;&gt;&lt;/script&gt;\n",
              "    &lt;link rel=&quot;stylesheet&quot; href=&quot;https://cdn.jsdelivr.net/npm/leaflet@1.6.0/dist/leaflet.css&quot;/&gt;\n",
              "    &lt;link rel=&quot;stylesheet&quot; href=&quot;https://maxcdn.bootstrapcdn.com/bootstrap/3.2.0/css/bootstrap.min.css&quot;/&gt;\n",
              "    &lt;link rel=&quot;stylesheet&quot; href=&quot;https://maxcdn.bootstrapcdn.com/bootstrap/3.2.0/css/bootstrap-theme.min.css&quot;/&gt;\n",
              "    &lt;link rel=&quot;stylesheet&quot; href=&quot;https://maxcdn.bootstrapcdn.com/font-awesome/4.6.3/css/font-awesome.min.css&quot;/&gt;\n",
              "    &lt;link rel=&quot;stylesheet&quot; href=&quot;https://cdnjs.cloudflare.com/ajax/libs/Leaflet.awesome-markers/2.0.2/leaflet.awesome-markers.css&quot;/&gt;\n",
              "    &lt;link rel=&quot;stylesheet&quot; href=&quot;https://cdn.jsdelivr.net/gh/python-visualization/folium/folium/templates/leaflet.awesome.rotate.min.css&quot;/&gt;\n",
              "    \n",
              "            &lt;meta name=&quot;viewport&quot; content=&quot;width=device-width,\n",
              "                initial-scale=1.0, maximum-scale=1.0, user-scalable=no&quot; /&gt;\n",
              "            &lt;style&gt;\n",
              "                #map_125167e750d2f84b20fdb1fc4a30a13e {\n",
              "                    position: relative;\n",
              "                    width: 100.0%;\n",
              "                    height: 100.0%;\n",
              "                    left: 0.0%;\n",
              "                    top: 0.0%;\n",
              "                }\n",
              "            &lt;/style&gt;\n",
              "        \n",
              "    &lt;script src=&quot;https://cdnjs.cloudflare.com/ajax/libs/leaflet.fullscreen/1.4.2/Control.FullScreen.min.js&quot;&gt;&lt;/script&gt;\n",
              "    &lt;link rel=&quot;stylesheet&quot; href=&quot;https://cdnjs.cloudflare.com/ajax/libs/leaflet.fullscreen/1.4.2/Control.FullScreen.min.css&quot;/&gt;\n",
              "    &lt;script src=&quot;https://cdnjs.cloudflare.com/ajax/libs/leaflet.draw/1.0.2/leaflet.draw.js&quot;&gt;&lt;/script&gt;\n",
              "    &lt;link rel=&quot;stylesheet&quot; href=&quot;https://cdnjs.cloudflare.com/ajax/libs/leaflet.draw/1.0.2/leaflet.draw.css&quot;/&gt;\n",
              "    &lt;script src=&quot;https://unpkg.com/leaflet-control-geocoder/dist/Control.Geocoder.js&quot;&gt;&lt;/script&gt;\n",
              "    &lt;link rel=&quot;stylesheet&quot; href=&quot;https://unpkg.com/leaflet-control-geocoder/dist/Control.Geocoder.css&quot;/&gt;\n",
              "&lt;/head&gt;\n",
              "&lt;body&gt;\n",
              "    \n",
              "    \n",
              "            &lt;div class=&quot;folium-map&quot; id=&quot;map_125167e750d2f84b20fdb1fc4a30a13e&quot; &gt;&lt;/div&gt;\n",
              "        \n",
              "&lt;/body&gt;\n",
              "&lt;script&gt;\n",
              "    \n",
              "    \n",
              "            var map_125167e750d2f84b20fdb1fc4a30a13e = L.map(\n",
              "                &quot;map_125167e750d2f84b20fdb1fc4a30a13e&quot;,\n",
              "                {\n",
              "                    center: [-22.0, -45.0],\n",
              "                    crs: L.CRS.EPSG3857,\n",
              "                    zoom: 7,\n",
              "                    zoomControl: true,\n",
              "                    preferCanvas: false,\n",
              "                    eeInitialize: true,\n",
              "                    addGoogleMap: true,\n",
              "                    pluginLatlngpopup: false,\n",
              "                    pluginFullscreen: true,\n",
              "                    pluginDraw: true,\n",
              "                    DrawExport: false,\n",
              "                    pluginMinimap: false,\n",
              "                    locateControl: false,\n",
              "                    searchControl: true,\n",
              "                    layersControl: true,\n",
              "                }\n",
              "            );\n",
              "\n",
              "            \n",
              "\n",
              "        \n",
              "    \n",
              "            var tile_layer_5b871b9eeb56a3c3a651a5881d5be27a = L.tileLayer(\n",
              "                &quot;https://{s}.tile.openstreetmap.org/{z}/{x}/{y}.png&quot;,\n",
              "                {&quot;attribution&quot;: &quot;Data by \\u0026copy; \\u003ca href=\\&quot;http://openstreetmap.org\\&quot;\\u003eOpenStreetMap\\u003c/a\\u003e, under \\u003ca href=\\&quot;http://www.openstreetmap.org/copyright\\&quot;\\u003eODbL\\u003c/a\\u003e.&quot;, &quot;detectRetina&quot;: false, &quot;maxNativeZoom&quot;: 30, &quot;maxZoom&quot;: 30, &quot;minZoom&quot;: 0, &quot;noWrap&quot;: false, &quot;opacity&quot;: 1, &quot;subdomains&quot;: &quot;abc&quot;, &quot;tms&quot;: false}\n",
              "            ).addTo(map_125167e750d2f84b20fdb1fc4a30a13e);\n",
              "        \n",
              "    \n",
              "            var tile_layer_43dd5f29393cb303a871fbbbb3e06025 = L.tileLayer(\n",
              "                &quot;https://mt1.google.com/vt/lyrs=m\\u0026x={x}\\u0026y={y}\\u0026z={z}&quot;,\n",
              "                {&quot;attribution&quot;: &quot;Google&quot;, &quot;detectRetina&quot;: false, &quot;maxNativeZoom&quot;: 22, &quot;maxZoom&quot;: 22, &quot;minZoom&quot;: 0, &quot;noWrap&quot;: false, &quot;opacity&quot;: 1, &quot;subdomains&quot;: &quot;abc&quot;, &quot;tms&quot;: false}\n",
              "            ).addTo(map_125167e750d2f84b20fdb1fc4a30a13e);\n",
              "        \n",
              "    \n",
              "            L.control.fullscreen(\n",
              "                {&quot;forceSeparateButton&quot;: false, &quot;position&quot;: &quot;topleft&quot;, &quot;title&quot;: &quot;Full Screen&quot;, &quot;titleCancel&quot;: &quot;Exit Full Screen&quot;}\n",
              "            ).addTo(map_125167e750d2f84b20fdb1fc4a30a13e);\n",
              "        \n",
              "    \n",
              "            var options = {\n",
              "              position: &quot;topleft&quot;,\n",
              "              draw: {},\n",
              "              edit: {},\n",
              "            }\n",
              "            // FeatureGroup is to store editable layers.\n",
              "            var drawnItems = new L.featureGroup().addTo(\n",
              "                map_125167e750d2f84b20fdb1fc4a30a13e\n",
              "            );\n",
              "            options.edit.featureGroup = drawnItems;\n",
              "            var draw_control_7d6a0ae2e6e598a836daed010a6f9449 = new L.Control.Draw(\n",
              "                options\n",
              "            ).addTo( map_125167e750d2f84b20fdb1fc4a30a13e );\n",
              "            map_125167e750d2f84b20fdb1fc4a30a13e.on(L.Draw.Event.CREATED, function(e) {\n",
              "                var layer = e.layer,\n",
              "                    type = e.layerType;\n",
              "                var coords = JSON.stringify(layer.toGeoJSON());\n",
              "                layer.on(&#x27;click&#x27;, function() {\n",
              "                    alert(coords);\n",
              "                    console.log(coords);\n",
              "                });\n",
              "                drawnItems.addLayer(layer);\n",
              "             });\n",
              "            map_125167e750d2f84b20fdb1fc4a30a13e.on(&#x27;draw:created&#x27;, function(e) {\n",
              "                drawnItems.addLayer(e.layer);\n",
              "            });\n",
              "            \n",
              "        \n",
              "    \n",
              "            L.Control.geocoder(\n",
              "                {&quot;collapsed&quot;: true, &quot;defaultMarkGeocode&quot;: true, &quot;position&quot;: &quot;topleft&quot;}\n",
              "            ).on(&#x27;markgeocode&#x27;, function(e) {\n",
              "                map_125167e750d2f84b20fdb1fc4a30a13e.setView(e.geocode.center, 11);\n",
              "            }).addTo(map_125167e750d2f84b20fdb1fc4a30a13e);\n",
              "\n",
              "        \n",
              "    \n",
              "            map_125167e750d2f84b20fdb1fc4a30a13e.fitBounds(\n",
              "                [[-22, -45], [-22, -45]],\n",
              "                {&quot;maxZoom&quot;: 7}\n",
              "            );\n",
              "        \n",
              "    \n",
              "            var tile_layer_427b25bcf3578ade5ac9ce718d6b43ac = L.tileLayer(\n",
              "                &quot;https://earthengine.googleapis.com/v1alpha/projects/earthengine-legacy/maps/fe8eda6dc7442a0b7e0d074f1bd729af-423bac0fb4365e705eb1a912993fedbd/tiles/{z}/{x}/{y}&quot;,\n",
              "                {&quot;attribution&quot;: &quot;Google Earth Engine&quot;, &quot;detectRetina&quot;: false, &quot;maxNativeZoom&quot;: 24, &quot;maxZoom&quot;: 24, &quot;minZoom&quot;: 0, &quot;noWrap&quot;: false, &quot;opacity&quot;: 1.0, &quot;subdomains&quot;: &quot;abc&quot;, &quot;tms&quot;: false}\n",
              "            ).addTo(map_125167e750d2f84b20fdb1fc4a30a13e);\n",
              "        \n",
              "    \n",
              "            var tile_layer_2d7aff1e015cf94714939a9b39cd97b5 = L.tileLayer(\n",
              "                &quot;https://earthengine.googleapis.com/v1alpha/projects/earthengine-legacy/maps/578be92b539b37d6a3965a9d6217d4c5-8492efb6dbfe698dc9b70365ba4c4195/tiles/{z}/{x}/{y}&quot;,\n",
              "                {&quot;attribution&quot;: &quot;Google Earth Engine&quot;, &quot;detectRetina&quot;: false, &quot;maxNativeZoom&quot;: 24, &quot;maxZoom&quot;: 24, &quot;minZoom&quot;: 0, &quot;noWrap&quot;: false, &quot;opacity&quot;: 1.0, &quot;subdomains&quot;: &quot;abc&quot;, &quot;tms&quot;: false}\n",
              "            ).addTo(map_125167e750d2f84b20fdb1fc4a30a13e);\n",
              "        \n",
              "    \n",
              "            var tile_layer_466c618a898f1f5f84ae64197c282ebd = L.tileLayer(\n",
              "                &quot;https://earthengine.googleapis.com/v1alpha/projects/earthengine-legacy/maps/3d3c3f072ea083d36ebd31dcb0307562-cfe542e1b358f17c8148b3846eefdf5d/tiles/{z}/{x}/{y}&quot;,\n",
              "                {&quot;attribution&quot;: &quot;Google Earth Engine&quot;, &quot;detectRetina&quot;: false, &quot;maxNativeZoom&quot;: 24, &quot;maxZoom&quot;: 24, &quot;minZoom&quot;: 0, &quot;noWrap&quot;: false, &quot;opacity&quot;: 1.0, &quot;subdomains&quot;: &quot;abc&quot;, &quot;tms&quot;: false}\n",
              "            ).addTo(map_125167e750d2f84b20fdb1fc4a30a13e);\n",
              "        \n",
              "    \n",
              "            var tile_layer_7c744c0e696a6013be89d9f75e4b4145 = L.tileLayer(\n",
              "                &quot;https://earthengine.googleapis.com/v1alpha/projects/earthengine-legacy/maps/171b1134446f815c67ec72af6b6d427e-b632489d4ae7319d9770311f3ea53645/tiles/{z}/{x}/{y}&quot;,\n",
              "                {&quot;attribution&quot;: &quot;Google Earth Engine&quot;, &quot;detectRetina&quot;: false, &quot;maxNativeZoom&quot;: 24, &quot;maxZoom&quot;: 24, &quot;minZoom&quot;: 0, &quot;noWrap&quot;: false, &quot;opacity&quot;: 1.0, &quot;subdomains&quot;: &quot;abc&quot;, &quot;tms&quot;: false}\n",
              "            ).addTo(map_125167e750d2f84b20fdb1fc4a30a13e);\n",
              "        \n",
              "    \n",
              "            var layer_control_99e3bd1f059712b04f717d306d8c2415 = {\n",
              "                base_layers : {\n",
              "                    &quot;openstreetmap&quot; : tile_layer_5b871b9eeb56a3c3a651a5881d5be27a,\n",
              "                },\n",
              "                overlays :  {\n",
              "                    &quot;Google Maps&quot; : tile_layer_43dd5f29393cb303a871fbbbb3e06025,\n",
              "                    &quot;Sentinel 1&quot; : tile_layer_427b25bcf3578ade5ac9ce718d6b43ac,\n",
              "                    &quot;Sentinel 1 (water)&quot; : tile_layer_2d7aff1e015cf94714939a9b39cd97b5,\n",
              "                    &quot;Sentinel 1 (flood)&quot; : tile_layer_466c618a898f1f5f84ae64197c282ebd,\n",
              "                    &quot;Flood depth&quot; : tile_layer_7c744c0e696a6013be89d9f75e4b4145,\n",
              "                },\n",
              "            };\n",
              "            L.control.layers(\n",
              "                layer_control_99e3bd1f059712b04f717d306d8c2415.base_layers,\n",
              "                layer_control_99e3bd1f059712b04f717d306d8c2415.overlays,\n",
              "                {&quot;autoZIndex&quot;: true, &quot;collapsed&quot;: true, &quot;position&quot;: &quot;topright&quot;}\n",
              "            ).addTo(map_125167e750d2f84b20fdb1fc4a30a13e);\n",
              "        \n",
              "&lt;/script&gt;\n",
              "&lt;/html&gt;\" width=\"100%\" height=\"600\"style=\"border:none !important;\" \"allowfullscreen\" \"webkitallowfullscreen\" \"mozallowfullscreen\"></iframe>"
            ]
          },
          "metadata": {},
          "execution_count": 51
        }
      ]
    }
  ]
}